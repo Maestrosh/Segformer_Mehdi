{
 "cells": [
  {
   "cell_type": "code",
   "id": "b0930a67531a1784",
   "metadata": {
    "ExecuteTime": {
     "end_time": "2024-06-17T20:19:26.764404Z",
     "start_time": "2024-06-17T20:19:26.729260Z"
    }
   },
   "source": [
    "from torch.utils.data import Dataset\n",
    "import os\n",
    "from PIL import Image\n",
    "class SemanticSegmentationDataset(Dataset):\n",
    "    \"\"\"Image (semantic) segmentation dataset.\"\"\"\n",
    "\n",
    "    def __init__(self, root_dir, image_processor, train=True):\n",
    "        \"\"\"\n",
    "        Args:\n",
    "            root_dir (string): Root directory of the dataset containing the images + annotations.\n",
    "            image_processor (SegFormerImageProcessor): image processor to prepare images + segmentation maps.\n",
    "            train (bool): Whether to load \"training\" or \"validation\" images + annotations.\n",
    "        \"\"\"\n",
    "        self.root_dir = root_dir\n",
    "        self.image_processor = image_processor\n",
    "        self.train = train\n",
    "\n",
    "        sub_path = \"Training\" if self.train else \"Validation\"\n",
    "        self.img_dir = os.path.join(self.root_dir, \"images\", sub_path)\n",
    "        self.ann_dir = os.path.join(self.root_dir, \"annotations\", sub_path)\n",
    "\n",
    "        # read images\n",
    "        image_file_names = []\n",
    "        for root, dirs, files in os.walk(self.img_dir):\n",
    "          image_file_names.extend(files)\n",
    "        self.images = sorted(image_file_names)\n",
    "\n",
    "        # read annotations\n",
    "        annotation_file_names = []\n",
    "        for root, dirs, files in os.walk(self.ann_dir):\n",
    "          annotation_file_names.extend(files)\n",
    "        self.annotations = sorted(annotation_file_names)\n",
    "\n",
    "        assert len(self.images) == len(self.annotations), \"There must be as many images as there are segmentation maps\"\n",
    "\n",
    "    def __len__(self):\n",
    "        return len(self.images)\n",
    "\n",
    "    def __getitem__(self, idx):\n",
    "        \n",
    "        beforenp_image = Image.open(os.path.join(self.img_dir, self.images[idx]))#.convert(\"RGB\")\n",
    "        beforenp_segmentation_map = Image.open(os.path.join(self.ann_dir, self.annotations[idx]))#.convert(\"RGB\")\n",
    "        \n",
    "        # convert into numpy array first\n",
    "        image = np.array(beforenp_image)\n",
    "        segmentation_map = np.array(beforenp_segmentation_map)\n",
    "        # randomly crop + pad both image and segmentation map to same size\n",
    "        encoded_inputs = self.image_processor(image, segmentation_map, return_tensors=\"pt\")\n",
    "\n",
    "        for k,v in encoded_inputs.items():\n",
    "          encoded_inputs[k].squeeze_() # remove batch dimension\n",
    "\n",
    "        return encoded_inputs"
   ],
   "outputs": [],
   "execution_count": 119
  },
  {
   "metadata": {
    "ExecuteTime": {
     "end_time": "2024-06-17T20:19:28.896189Z",
     "start_time": "2024-06-17T20:19:28.872038Z"
    }
   },
   "cell_type": "code",
   "source": [
    "#image = Image.open(\"content/CustomDataSet/annotations/Training/0@0_2023-03-23_15-38-19-4410_Brick.png\")\n",
    "#image"
   ],
   "id": "149f7a3b935bed7c",
   "outputs": [],
   "execution_count": 120
  },
  {
   "cell_type": "code",
   "id": "e515a7c58c23afbe",
   "metadata": {
    "ExecuteTime": {
     "end_time": "2024-06-17T20:19:29.425250Z",
     "start_time": "2024-06-17T20:19:29.388436Z"
    }
   },
   "source": [
    "from transformers import SegformerImageProcessor\n",
    "\n",
    "new_root_dir = 'content/CustomDataSet'\n",
    "new_image_processor = SegformerImageProcessor(do_reduce_labels=True)\n",
    "\n",
    "train_dataset = SemanticSegmentationDataset(root_dir=new_root_dir, image_processor=new_image_processor)\n",
    "valid_dataset = SemanticSegmentationDataset(root_dir=new_root_dir, image_processor=new_image_processor, train=False)"
   ],
   "outputs": [],
   "execution_count": 121
  },
  {
   "cell_type": "code",
   "id": "844696421b427c7c",
   "metadata": {
    "ExecuteTime": {
     "end_time": "2024-06-17T20:19:29.934505Z",
     "start_time": "2024-06-17T20:19:29.918878Z"
    }
   },
   "source": [
    "print(\"Number of training examples:\", len(train_dataset))\n",
    "print(\"Number of validation examples:\", len(valid_dataset))"
   ],
   "outputs": [
    {
     "name": "stdout",
     "output_type": "stream",
     "text": [
      "Number of training examples: 427\n",
      "Number of validation examples: 0\n"
     ]
    }
   ],
   "execution_count": 122
  },
  {
   "metadata": {
    "ExecuteTime": {
     "end_time": "2024-06-17T20:19:33.456542Z",
     "start_time": "2024-06-17T20:19:30.999132Z"
    }
   },
   "cell_type": "code",
   "source": "train_dataset[0]",
   "id": "2b4598e3fe00bc1c",
   "outputs": [
    {
     "data": {
      "text/plain": [
       "{'pixel_values': tensor([[[ 0.3309,  1.1700,  1.2043,  ..., -0.2856, -0.1999, -0.3369],\n",
       "         [ 0.6221,  1.1872,  1.0673,  ...,  0.0912,  0.0912, -0.1143],\n",
       "         [ 0.7591,  1.0502,  0.8447,  ...,  0.5022,  0.4166,  0.2111],\n",
       "         ...,\n",
       "         [ 1.6838,  1.6153,  1.5468,  ...,  0.6392,  0.3994, -0.2171],\n",
       "         [ 1.6495,  1.5468,  1.4954,  ...,  0.1939,  0.2624, -0.0972],\n",
       "         [ 1.5639,  1.4783,  1.4954,  ..., -0.1657,  0.2111,  0.0398]],\n",
       "\n",
       "        [[ 0.2577,  1.1155,  1.1506,  ..., -0.1275, -0.0049, -0.1450],\n",
       "         [ 0.5553,  1.1331,  1.0105,  ...,  0.2577,  0.2752,  0.0826],\n",
       "         [ 0.6954,  0.9930,  0.7829,  ...,  0.6779,  0.5903,  0.4153],\n",
       "         ...,\n",
       "         [ 1.8333,  1.7633,  1.6933,  ...,  0.5728,  0.3277, -0.3025],\n",
       "         [ 1.7983,  1.6933,  1.6408,  ...,  0.1176,  0.1877, -0.1800],\n",
       "         [ 1.7108,  1.6232,  1.6408,  ..., -0.2500,  0.1352, -0.0399]],\n",
       "\n",
       "        [[ 0.2696,  1.1237,  1.1585,  ..., -0.1487, -0.0441, -0.1835],\n",
       "         [ 0.5659,  1.1237,  1.0191,  ...,  0.2348,  0.2348,  0.0431],\n",
       "         [ 0.6879,  0.9494,  0.7751,  ...,  0.6356,  0.5485,  0.3568],\n",
       "         ...,\n",
       "         [ 2.0125,  1.9428,  1.8731,  ...,  0.4091,  0.1651, -0.4624],\n",
       "         [ 1.9777,  1.8731,  1.8208,  ..., -0.0441,  0.0256, -0.3404],\n",
       "         [ 1.8905,  1.8034,  1.8208,  ..., -0.4101, -0.0267, -0.2010]]]), 'labels': tensor([[[255, 255, 255,  ..., 255, 255, 255],\n",
       "         [255, 255, 255,  ..., 255, 255, 255],\n",
       "         [255, 255, 255,  ..., 255, 255, 255],\n",
       "         ...,\n",
       "         [167, 167, 167,  ...,  42,  42,  42],\n",
       "         [167, 167, 167,  ...,  42,  42,  42],\n",
       "         [167, 167, 167,  ...,  42,  42,  42]],\n",
       "\n",
       "        [[ 86,  86,  86,  ..., 152, 152, 152],\n",
       "         [ 86,  86,  86,  ..., 152, 152, 152],\n",
       "         [ 86,  86,  86,  ..., 152, 152, 152],\n",
       "         ...,\n",
       "         [167, 167, 167,  ...,  42,  42,  42],\n",
       "         [167, 167, 167,  ...,  42,  42,  42],\n",
       "         [167, 167, 167,  ...,  42,  42,  42]],\n",
       "\n",
       "        [[ 86,  86,  86,  ..., 152, 152, 152],\n",
       "         [ 86,  86,  86,  ..., 152, 152, 152],\n",
       "         [ 86,  86,  86,  ..., 152, 152, 152],\n",
       "         ...,\n",
       "         [167, 167, 167,  ...,  42,  42,  42],\n",
       "         [167, 167, 167,  ...,  42,  42,  42],\n",
       "         [167, 167, 167,  ...,  42,  42,  42]],\n",
       "\n",
       "        ...,\n",
       "\n",
       "        [[ 86,  86,  86,  ..., 152, 152, 152],\n",
       "         [ 86,  86,  86,  ..., 152, 152, 152],\n",
       "         [ 86,  86,  86,  ..., 152, 152, 152],\n",
       "         ...,\n",
       "         [ 86,  86,  86,  ..., 152, 152, 152],\n",
       "         [ 86,  86,  86,  ..., 152, 152, 152],\n",
       "         [ 86,  86,  86,  ..., 152, 152, 152]],\n",
       "\n",
       "        [[ 86,  86,  86,  ..., 152, 152, 152],\n",
       "         [ 86,  86,  86,  ..., 152, 152, 152],\n",
       "         [ 86,  86,  86,  ..., 152, 152, 152],\n",
       "         ...,\n",
       "         [255, 255, 255,  ..., 255, 255, 255],\n",
       "         [255, 255, 255,  ..., 255, 255, 255],\n",
       "         [255, 255, 255,  ..., 255, 255, 255]],\n",
       "\n",
       "        [[ 86,  86,  86,  ..., 152, 152, 152],\n",
       "         [ 86,  86,  86,  ..., 152, 152, 152],\n",
       "         [ 86,  86,  86,  ..., 152, 152, 152],\n",
       "         ...,\n",
       "         [255, 255, 255,  ..., 255, 255, 255],\n",
       "         [255, 255, 255,  ..., 255, 255, 255],\n",
       "         [255, 255, 255,  ..., 255, 255, 255]]])}"
      ]
     },
     "execution_count": 123,
     "metadata": {},
     "output_type": "execute_result"
    }
   ],
   "execution_count": 123
  },
  {
   "cell_type": "code",
   "id": "7f10b359630dfaaf",
   "metadata": {
    "ExecuteTime": {
     "end_time": "2024-06-17T20:23:25.734517Z",
     "start_time": "2024-06-17T20:23:23.472220Z"
    }
   },
   "source": "new_encoded_inputs = train_dataset[0]",
   "outputs": [],
   "execution_count": 137
  },
  {
   "cell_type": "code",
   "id": "1501e93f3deaca7c",
   "metadata": {
    "ExecuteTime": {
     "end_time": "2024-06-17T20:23:28.687399Z",
     "start_time": "2024-06-17T20:23:28.656034Z"
    }
   },
   "source": [
    "new_encoded_inputs[\"pixel_values\"].shape"
   ],
   "outputs": [
    {
     "data": {
      "text/plain": [
       "torch.Size([3, 512, 512])"
      ]
     },
     "execution_count": 138,
     "metadata": {},
     "output_type": "execute_result"
    }
   ],
   "execution_count": 138
  },
  {
   "cell_type": "code",
   "id": "9644ded36d64e7f6",
   "metadata": {
    "ExecuteTime": {
     "end_time": "2024-06-17T20:23:29.995217Z",
     "start_time": "2024-06-17T20:23:29.979197Z"
    }
   },
   "source": "new_encoded_inputs[\"labels\"].shape",
   "outputs": [
    {
     "data": {
      "text/plain": [
       "torch.Size([360, 512, 512])"
      ]
     },
     "execution_count": 139,
     "metadata": {},
     "output_type": "execute_result"
    }
   ],
   "execution_count": 139
  },
  {
   "cell_type": "code",
   "id": "837f6b9d6e0f41e3",
   "metadata": {
    "ExecuteTime": {
     "end_time": "2024-06-17T20:23:31.812628Z",
     "start_time": "2024-06-17T20:23:31.783105Z"
    }
   },
   "source": [
    "new_encoded_inputs[\"labels\"]"
   ],
   "outputs": [
    {
     "data": {
      "text/plain": [
       "tensor([[[255, 255, 255,  ..., 255, 255, 255],\n",
       "         [255, 255, 255,  ..., 255, 255, 255],\n",
       "         [255, 255, 255,  ..., 255, 255, 255],\n",
       "         ...,\n",
       "         [167, 167, 167,  ...,  42,  42,  42],\n",
       "         [167, 167, 167,  ...,  42,  42,  42],\n",
       "         [167, 167, 167,  ...,  42,  42,  42]],\n",
       "\n",
       "        [[ 86,  86,  86,  ..., 152, 152, 152],\n",
       "         [ 86,  86,  86,  ..., 152, 152, 152],\n",
       "         [ 86,  86,  86,  ..., 152, 152, 152],\n",
       "         ...,\n",
       "         [167, 167, 167,  ...,  42,  42,  42],\n",
       "         [167, 167, 167,  ...,  42,  42,  42],\n",
       "         [167, 167, 167,  ...,  42,  42,  42]],\n",
       "\n",
       "        [[ 86,  86,  86,  ..., 152, 152, 152],\n",
       "         [ 86,  86,  86,  ..., 152, 152, 152],\n",
       "         [ 86,  86,  86,  ..., 152, 152, 152],\n",
       "         ...,\n",
       "         [167, 167, 167,  ...,  42,  42,  42],\n",
       "         [167, 167, 167,  ...,  42,  42,  42],\n",
       "         [167, 167, 167,  ...,  42,  42,  42]],\n",
       "\n",
       "        ...,\n",
       "\n",
       "        [[ 86,  86,  86,  ..., 152, 152, 152],\n",
       "         [ 86,  86,  86,  ..., 152, 152, 152],\n",
       "         [ 86,  86,  86,  ..., 152, 152, 152],\n",
       "         ...,\n",
       "         [ 86,  86,  86,  ..., 152, 152, 152],\n",
       "         [ 86,  86,  86,  ..., 152, 152, 152],\n",
       "         [ 86,  86,  86,  ..., 152, 152, 152]],\n",
       "\n",
       "        [[ 86,  86,  86,  ..., 152, 152, 152],\n",
       "         [ 86,  86,  86,  ..., 152, 152, 152],\n",
       "         [ 86,  86,  86,  ..., 152, 152, 152],\n",
       "         ...,\n",
       "         [255, 255, 255,  ..., 255, 255, 255],\n",
       "         [255, 255, 255,  ..., 255, 255, 255],\n",
       "         [255, 255, 255,  ..., 255, 255, 255]],\n",
       "\n",
       "        [[ 86,  86,  86,  ..., 152, 152, 152],\n",
       "         [ 86,  86,  86,  ..., 152, 152, 152],\n",
       "         [ 86,  86,  86,  ..., 152, 152, 152],\n",
       "         ...,\n",
       "         [255, 255, 255,  ..., 255, 255, 255],\n",
       "         [255, 255, 255,  ..., 255, 255, 255],\n",
       "         [255, 255, 255,  ..., 255, 255, 255]]])"
      ]
     },
     "execution_count": 140,
     "metadata": {},
     "output_type": "execute_result"
    }
   ],
   "execution_count": 140
  },
  {
   "cell_type": "code",
   "id": "da7f29efd3235ec4",
   "metadata": {
    "ExecuteTime": {
     "end_time": "2024-06-17T20:23:37.662332Z",
     "start_time": "2024-06-17T20:23:32.857776Z"
    }
   },
   "source": [
    "new_encoded_inputs[\"labels\"].squeeze().unique()\n"
   ],
   "outputs": [
    {
     "data": {
      "text/plain": [
       "tensor([  9,  42,  52,  57,  80,  86, 103, 116, 119, 146, 152, 167, 184, 197,\n",
       "        255])"
      ]
     },
     "execution_count": 141,
     "metadata": {},
     "output_type": "execute_result"
    }
   ],
   "execution_count": 141
  },
  {
   "cell_type": "code",
   "id": "c6abbb4c4b2c82b9",
   "metadata": {
    "ExecuteTime": {
     "end_time": "2024-06-17T20:23:43.127207Z",
     "start_time": "2024-06-17T20:23:43.101002Z"
    }
   },
   "source": [
    "from torch.utils.data import DataLoader\n",
    "\n",
    "train_dataloader = DataLoader(train_dataset, batch_size=2, shuffle=True)\n",
    "valid_dataloader = DataLoader(valid_dataset, batch_size=2)\n"
   ],
   "outputs": [],
   "execution_count": 142
  },
  {
   "cell_type": "code",
   "id": "35c05eff9aebcfd",
   "metadata": {
    "ExecuteTime": {
     "end_time": "2024-06-17T20:23:47.068472Z",
     "start_time": "2024-06-17T20:23:43.962349Z"
    }
   },
   "source": [
    "batch = next(iter(train_dataloader))"
   ],
   "outputs": [],
   "execution_count": 143
  },
  {
   "cell_type": "code",
   "id": "2c1e62765aa05be5",
   "metadata": {
    "ExecuteTime": {
     "end_time": "2024-06-17T20:21:04.130107Z",
     "start_time": "2024-06-17T20:21:04.112888Z"
    }
   },
   "source": [
    "for out_k,out_v in batch.items():\n",
    "  print(out_k, out_v.shape)"
   ],
   "outputs": [
    {
     "name": "stdout",
     "output_type": "stream",
     "text": [
      "pixel_values torch.Size([2, 3, 512, 512])\n",
      "labels torch.Size([2, 360, 512, 512])\n"
     ]
    }
   ],
   "execution_count": 133
  },
  {
   "cell_type": "code",
   "id": "e82d701c6c3a07c1",
   "metadata": {
    "ExecuteTime": {
     "end_time": "2024-06-17T20:23:58.961451Z",
     "start_time": "2024-06-17T20:23:58.927299Z"
    }
   },
   "source": [
    "batch[\"labels\"].shape"
   ],
   "outputs": [
    {
     "data": {
      "text/plain": [
       "torch.Size([2, 360, 512, 512])"
      ]
     },
     "execution_count": 144,
     "metadata": {},
     "output_type": "execute_result"
    }
   ],
   "execution_count": 144
  },
  {
   "cell_type": "code",
   "id": "c1b1c1b93f963d24",
   "metadata": {
    "ExecuteTime": {
     "end_time": "2024-06-17T20:23:59.851592Z",
     "start_time": "2024-06-17T20:23:59.574002Z"
    }
   },
   "source": [
    "mask = (batch[\"labels\"] != 255)\n",
    "mask"
   ],
   "outputs": [
    {
     "data": {
      "text/plain": [
       "tensor([[[[False, False, False,  ..., False, False, False],\n",
       "          [False, False, False,  ..., False, False, False],\n",
       "          [False, False, False,  ..., False, False, False],\n",
       "          ...,\n",
       "          [ True,  True,  True,  ...,  True,  True,  True],\n",
       "          [ True,  True,  True,  ...,  True,  True,  True],\n",
       "          [ True,  True,  True,  ...,  True,  True,  True]],\n",
       "\n",
       "         [[ True,  True,  True,  ...,  True,  True,  True],\n",
       "          [ True,  True,  True,  ...,  True,  True,  True],\n",
       "          [ True,  True,  True,  ...,  True,  True,  True],\n",
       "          ...,\n",
       "          [ True,  True,  True,  ...,  True,  True,  True],\n",
       "          [ True,  True,  True,  ...,  True,  True,  True],\n",
       "          [ True,  True,  True,  ...,  True,  True,  True]],\n",
       "\n",
       "         [[ True,  True,  True,  ...,  True,  True,  True],\n",
       "          [ True,  True,  True,  ...,  True,  True,  True],\n",
       "          [ True,  True,  True,  ...,  True,  True,  True],\n",
       "          ...,\n",
       "          [ True,  True,  True,  ...,  True,  True,  True],\n",
       "          [ True,  True,  True,  ...,  True,  True,  True],\n",
       "          [ True,  True,  True,  ...,  True,  True,  True]],\n",
       "\n",
       "         ...,\n",
       "\n",
       "         [[False, False, False,  ..., False, False, False],\n",
       "          [False, False, False,  ..., False, False, False],\n",
       "          [False, False, False,  ..., False, False, False],\n",
       "          ...,\n",
       "          [False, False, False,  ..., False, False, False],\n",
       "          [ True,  True,  True,  ...,  True,  True,  True],\n",
       "          [ True,  True,  True,  ...,  True,  True,  True]],\n",
       "\n",
       "         [[False, False, False,  ..., False, False, False],\n",
       "          [False, False, False,  ..., False, False, False],\n",
       "          [False, False, False,  ..., False, False, False],\n",
       "          ...,\n",
       "          [False, False, False,  ..., False, False, False],\n",
       "          [False, False, False,  ..., False, False, False],\n",
       "          [False, False, False,  ..., False, False, False]],\n",
       "\n",
       "         [[False, False, False,  ..., False, False, False],\n",
       "          [False, False, False,  ..., False, False, False],\n",
       "          [False, False, False,  ..., False, False, False],\n",
       "          ...,\n",
       "          [False, False, False,  ..., False, False, False],\n",
       "          [False, False, False,  ..., False, False, False],\n",
       "          [False, False, False,  ..., False, False, False]]],\n",
       "\n",
       "\n",
       "        [[[False, False, False,  ..., False, False, False],\n",
       "          [False, False, False,  ..., False, False, False],\n",
       "          [False, False, False,  ..., False, False, False],\n",
       "          ...,\n",
       "          [False, False, False,  ..., False, False, False],\n",
       "          [False, False, False,  ..., False, False, False],\n",
       "          [False, False, False,  ..., False, False, False]],\n",
       "\n",
       "         [[ True,  True,  True,  ...,  True,  True,  True],\n",
       "          [ True,  True,  True,  ...,  True,  True,  True],\n",
       "          [ True,  True,  True,  ...,  True,  True,  True],\n",
       "          ...,\n",
       "          [ True,  True,  True,  ...,  True,  True,  True],\n",
       "          [ True,  True,  True,  ...,  True,  True,  True],\n",
       "          [False, False, False,  ..., False, False, False]],\n",
       "\n",
       "         [[ True,  True,  True,  ...,  True,  True,  True],\n",
       "          [ True,  True,  True,  ...,  True,  True,  True],\n",
       "          [ True,  True,  True,  ...,  True,  True,  True],\n",
       "          ...,\n",
       "          [ True,  True,  True,  ...,  True,  True,  True],\n",
       "          [ True,  True,  True,  ...,  True,  True,  True],\n",
       "          [False, False, False,  ..., False, False, False]],\n",
       "\n",
       "         ...,\n",
       "\n",
       "         [[ True,  True,  True,  ...,  True,  True,  True],\n",
       "          [ True,  True,  True,  ...,  True,  True,  True],\n",
       "          [ True,  True,  True,  ...,  True,  True,  True],\n",
       "          ...,\n",
       "          [ True,  True,  True,  ...,  True,  True,  True],\n",
       "          [ True,  True,  True,  ...,  True,  True,  True],\n",
       "          [ True,  True,  True,  ...,  True,  True,  True]],\n",
       "\n",
       "         [[ True,  True,  True,  ...,  True,  True,  True],\n",
       "          [ True,  True,  True,  ...,  True,  True,  True],\n",
       "          [ True,  True,  True,  ...,  True,  True,  True],\n",
       "          ...,\n",
       "          [ True,  True,  True,  ...,  True,  True,  True],\n",
       "          [ True,  True,  True,  ...,  True,  True,  True],\n",
       "          [ True,  True,  True,  ...,  True,  True,  True]],\n",
       "\n",
       "         [[ True,  True,  True,  ...,  True,  True,  True],\n",
       "          [ True,  True,  True,  ...,  True,  True,  True],\n",
       "          [ True,  True,  True,  ...,  True,  True,  True],\n",
       "          ...,\n",
       "          [False, False, False,  ..., False, False, False],\n",
       "          [False, False, False,  ..., False, False, False],\n",
       "          [ True,  True,  True,  ...,  True,  True,  True]]]])"
      ]
     },
     "execution_count": 145,
     "metadata": {},
     "output_type": "execute_result"
    }
   ],
   "execution_count": 145
  },
  {
   "cell_type": "code",
   "id": "61fc85d2cb9ac4e0",
   "metadata": {
    "ExecuteTime": {
     "end_time": "2024-06-17T20:24:18.392602Z",
     "start_time": "2024-06-17T20:24:00.768520Z"
    }
   },
   "source": [
    "batch[\"labels\"][mask]"
   ],
   "outputs": [
    {
     "data": {
      "text/plain": [
       "tensor([ 86,  86,  86,  ..., 119, 119, 119])"
      ]
     },
     "execution_count": 146,
     "metadata": {},
     "output_type": "execute_result"
    }
   ],
   "execution_count": 146
  },
  {
   "cell_type": "code",
   "id": "a8a4a8a9a8daa2bf",
   "metadata": {
    "ExecuteTime": {
     "end_time": "2024-06-17T20:24:49.316389Z",
     "start_time": "2024-06-17T20:24:42.670916Z"
    }
   },
   "source": [
    "\n",
    "from transformers import SegformerForSemanticSegmentation\n",
    "\n",
    "# load id2label mapping from a JSON \n",
    "import json\n",
    "\n",
    "# simple example\n",
    "id2label = {0: 'Brick', 1: 'Cane',2:'Cellar door', 3:'Concrete',4:'Dirt',5:'Manhole Cover',6:'Other',7:'Subway Grates',8:'Tactile Pavement'}\n",
    "label2id = {v: k for k, v in id2label.items()}\n",
    "\n",
    "with open('cats-and-dogs-id2label.json', 'w') as fp:\n",
    "    json.dump(id2label, fp)\n",
    "\n",
    "\n",
    "model = SegformerForSemanticSegmentation.from_pretrained(\"nvidia/mit-b5\",\n",
    "                                                         num_labels=9,\n",
    "                                                         id2label=id2label,\n",
    "                                                         label2id=label2id,\n",
    ")"
   ],
   "outputs": [
    {
     "name": "stderr",
     "output_type": "stream",
     "text": [
      "Some weights of SegformerForSemanticSegmentation were not initialized from the model checkpoint at nvidia/mit-b5 and are newly initialized: ['decode_head.batch_norm.bias', 'decode_head.batch_norm.num_batches_tracked', 'decode_head.batch_norm.running_mean', 'decode_head.batch_norm.running_var', 'decode_head.batch_norm.weight', 'decode_head.classifier.bias', 'decode_head.classifier.weight', 'decode_head.linear_c.0.proj.bias', 'decode_head.linear_c.0.proj.weight', 'decode_head.linear_c.1.proj.bias', 'decode_head.linear_c.1.proj.weight', 'decode_head.linear_c.2.proj.bias', 'decode_head.linear_c.2.proj.weight', 'decode_head.linear_c.3.proj.bias', 'decode_head.linear_c.3.proj.weight', 'decode_head.linear_fuse.weight']\n",
      "You should probably TRAIN this model on a down-stream task to be able to use it for predictions and inference.\n"
     ]
    }
   ],
   "execution_count": 147
  },
  {
   "cell_type": "code",
   "id": "83559e946563b7fc",
   "metadata": {
    "ExecuteTime": {
     "end_time": "2024-06-17T20:24:49.773410Z",
     "start_time": "2024-06-17T20:24:49.316389Z"
    }
   },
   "source": [
    "import evaluate\n",
    "\n",
    "metric = evaluate.load(\"mean_iou\")\n",
    "new_image_processor.do_reduce_labels\n"
   ],
   "outputs": [
    {
     "data": {
      "text/plain": [
       "True"
      ]
     },
     "execution_count": 148,
     "metadata": {},
     "output_type": "execute_result"
    }
   ],
   "execution_count": 148
  },
  {
   "cell_type": "code",
   "id": "1173b7b3da28557b",
   "metadata": {
    "ExecuteTime": {
     "end_time": "2024-06-17T20:24:55.989328Z",
     "start_time": "2024-06-17T20:24:49.777119Z"
    }
   },
   "source": [
    "import torch\n",
    "from torch import nn\n",
    "from tqdm.notebook import tqdm\n",
    "\n",
    "# define optimizer\n",
    "optimizer = torch.optim.AdamW(model.parameters(), lr=0.00006)\n",
    "# move model to GPU\n",
    "device = torch.device(\"cuda\" if torch.cuda.is_available() else \"cpu\")\n",
    "model.to(device)\n",
    "\n",
    "model.train()\n",
    "for epoch in range(200):  # loop over the dataset multiple times\n",
    "   print(\"Epoch:\", epoch)\n",
    "   for new_idx, batch in enumerate(tqdm(train_dataloader)):\n",
    "        # get the inputs;\n",
    "        pixel_values = batch[\"pixel_values\"].to(device)\n",
    "        labels = batch[\"labels\"].to(device)\n",
    "\n",
    "        # zero the parameter gradients\n",
    "        optimizer.zero_grad()\n",
    "\n",
    "        # forward + backward + optimize\n",
    "        outputs = model(pixel_values=pixel_values, labels=labels)\n",
    "        loss, logits = outputs.loss, outputs.logits\n",
    "\n",
    "        loss.backward()\n",
    "        optimizer.step()\n",
    "\n",
    "        # evaluate\n",
    "        with torch.no_grad():\n",
    "          upsampled_logits = nn.functional.interpolate(logits, size=labels.shape[-2:], mode=\"bilinear\", align_corners=False)\n",
    "          predicted = upsampled_logits.argmax(dim=1)\n",
    "\n",
    "          # note that the metric expects predictions + labels as numpy arrays\n",
    "          metric.add_batch(predictions=predicted.detach().cpu().numpy(), references=labels.detach().cpu().numpy())\n",
    "\n",
    "        # let's print loss and metrics every 100 batches\n",
    "        if new_idx % 100 == 0:\n",
    "          # currently using _compute instead of compute\n",
    "          # see this issue for more info: https://github.com/huggingface/evaluate/pull/328#issuecomment-1286866576\n",
    "          metrics = metric._compute(\n",
    "                  predictions=predicted.cpu(),\n",
    "                  references=labels.cpu(),\n",
    "                  num_labels=len(id2label),\n",
    "                  ignore_index=255,\n",
    "                  reduce_labels=False, # we've already reduced the labels ourselves\n",
    "              )\n",
    "\n",
    "          print(\"Loss:\", loss.item())\n",
    "          print(\"Mean_iou:\", metrics[\"mean_iou\"])\n",
    "          print(\"Mean accuracy:\", metrics[\"mean_accuracy\"])"
   ],
   "outputs": [
    {
     "name": "stdout",
     "output_type": "stream",
     "text": [
      "Epoch: 0\n"
     ]
    },
    {
     "data": {
      "text/plain": [
       "  0%|          | 0/214 [00:00<?, ?it/s]"
      ],
      "application/vnd.jupyter.widget-view+json": {
       "version_major": 2,
       "version_minor": 0,
       "model_id": "ba4442417be541e6a8227737db35655b"
      }
     },
     "metadata": {},
     "output_type": "display_data"
    },
    {
     "ename": "KeyboardInterrupt",
     "evalue": "",
     "output_type": "error",
     "traceback": [
      "\u001B[1;31m---------------------------------------------------------------------------\u001B[0m",
      "\u001B[1;31mKeyboardInterrupt\u001B[0m                         Traceback (most recent call last)",
      "Cell \u001B[1;32mIn[149], line 14\u001B[0m\n\u001B[0;32m     12\u001B[0m \u001B[38;5;28;01mfor\u001B[39;00m epoch \u001B[38;5;129;01min\u001B[39;00m \u001B[38;5;28mrange\u001B[39m(\u001B[38;5;241m200\u001B[39m):  \u001B[38;5;66;03m# loop over the dataset multiple times\u001B[39;00m\n\u001B[0;32m     13\u001B[0m    \u001B[38;5;28mprint\u001B[39m(\u001B[38;5;124m\"\u001B[39m\u001B[38;5;124mEpoch:\u001B[39m\u001B[38;5;124m\"\u001B[39m, epoch)\n\u001B[1;32m---> 14\u001B[0m    \u001B[38;5;28;01mfor\u001B[39;00m new_idx, batch \u001B[38;5;129;01min\u001B[39;00m \u001B[38;5;28menumerate\u001B[39m(tqdm(train_dataloader)):\n\u001B[0;32m     15\u001B[0m         \u001B[38;5;66;03m# get the inputs;\u001B[39;00m\n\u001B[0;32m     16\u001B[0m         pixel_values \u001B[38;5;241m=\u001B[39m batch[\u001B[38;5;124m\"\u001B[39m\u001B[38;5;124mpixel_values\u001B[39m\u001B[38;5;124m\"\u001B[39m]\u001B[38;5;241m.\u001B[39mto(device)\n\u001B[0;32m     17\u001B[0m         labels \u001B[38;5;241m=\u001B[39m batch[\u001B[38;5;124m\"\u001B[39m\u001B[38;5;124mlabels\u001B[39m\u001B[38;5;124m\"\u001B[39m]\u001B[38;5;241m.\u001B[39mto(device)\n",
      "File \u001B[1;32m~\\PycharmProjects\\SegformerOneLastTime\\.venv\\lib\\site-packages\\tqdm\\notebook.py:250\u001B[0m, in \u001B[0;36mtqdm_notebook.__iter__\u001B[1;34m(self)\u001B[0m\n\u001B[0;32m    248\u001B[0m \u001B[38;5;28;01mtry\u001B[39;00m:\n\u001B[0;32m    249\u001B[0m     it \u001B[38;5;241m=\u001B[39m \u001B[38;5;28msuper\u001B[39m()\u001B[38;5;241m.\u001B[39m\u001B[38;5;21m__iter__\u001B[39m()\n\u001B[1;32m--> 250\u001B[0m     \u001B[38;5;28;01mfor\u001B[39;00m obj \u001B[38;5;129;01min\u001B[39;00m it:\n\u001B[0;32m    251\u001B[0m         \u001B[38;5;66;03m# return super(tqdm...) will not catch exception\u001B[39;00m\n\u001B[0;32m    252\u001B[0m         \u001B[38;5;28;01myield\u001B[39;00m obj\n\u001B[0;32m    253\u001B[0m \u001B[38;5;66;03m# NB: except ... [ as ...] breaks IPython async KeyboardInterrupt\u001B[39;00m\n",
      "File \u001B[1;32m~\\PycharmProjects\\SegformerOneLastTime\\.venv\\lib\\site-packages\\tqdm\\std.py:1181\u001B[0m, in \u001B[0;36mtqdm.__iter__\u001B[1;34m(self)\u001B[0m\n\u001B[0;32m   1178\u001B[0m time \u001B[38;5;241m=\u001B[39m \u001B[38;5;28mself\u001B[39m\u001B[38;5;241m.\u001B[39m_time\n\u001B[0;32m   1180\u001B[0m \u001B[38;5;28;01mtry\u001B[39;00m:\n\u001B[1;32m-> 1181\u001B[0m     \u001B[38;5;28;01mfor\u001B[39;00m obj \u001B[38;5;129;01min\u001B[39;00m iterable:\n\u001B[0;32m   1182\u001B[0m         \u001B[38;5;28;01myield\u001B[39;00m obj\n\u001B[0;32m   1183\u001B[0m         \u001B[38;5;66;03m# Update and possibly print the progressbar.\u001B[39;00m\n\u001B[0;32m   1184\u001B[0m         \u001B[38;5;66;03m# Note: does not call self.update(1) for speed optimisation.\u001B[39;00m\n",
      "File \u001B[1;32m~\\PycharmProjects\\SegformerOneLastTime\\.venv\\lib\\site-packages\\torch\\utils\\data\\dataloader.py:631\u001B[0m, in \u001B[0;36m_BaseDataLoaderIter.__next__\u001B[1;34m(self)\u001B[0m\n\u001B[0;32m    628\u001B[0m \u001B[38;5;28;01mif\u001B[39;00m \u001B[38;5;28mself\u001B[39m\u001B[38;5;241m.\u001B[39m_sampler_iter \u001B[38;5;129;01mis\u001B[39;00m \u001B[38;5;28;01mNone\u001B[39;00m:\n\u001B[0;32m    629\u001B[0m     \u001B[38;5;66;03m# TODO(https://github.com/pytorch/pytorch/issues/76750)\u001B[39;00m\n\u001B[0;32m    630\u001B[0m     \u001B[38;5;28mself\u001B[39m\u001B[38;5;241m.\u001B[39m_reset()  \u001B[38;5;66;03m# type: ignore[call-arg]\u001B[39;00m\n\u001B[1;32m--> 631\u001B[0m data \u001B[38;5;241m=\u001B[39m \u001B[38;5;28;43mself\u001B[39;49m\u001B[38;5;241;43m.\u001B[39;49m\u001B[43m_next_data\u001B[49m\u001B[43m(\u001B[49m\u001B[43m)\u001B[49m\n\u001B[0;32m    632\u001B[0m \u001B[38;5;28mself\u001B[39m\u001B[38;5;241m.\u001B[39m_num_yielded \u001B[38;5;241m+\u001B[39m\u001B[38;5;241m=\u001B[39m \u001B[38;5;241m1\u001B[39m\n\u001B[0;32m    633\u001B[0m \u001B[38;5;28;01mif\u001B[39;00m \u001B[38;5;28mself\u001B[39m\u001B[38;5;241m.\u001B[39m_dataset_kind \u001B[38;5;241m==\u001B[39m _DatasetKind\u001B[38;5;241m.\u001B[39mIterable \u001B[38;5;129;01mand\u001B[39;00m \\\n\u001B[0;32m    634\u001B[0m         \u001B[38;5;28mself\u001B[39m\u001B[38;5;241m.\u001B[39m_IterableDataset_len_called \u001B[38;5;129;01mis\u001B[39;00m \u001B[38;5;129;01mnot\u001B[39;00m \u001B[38;5;28;01mNone\u001B[39;00m \u001B[38;5;129;01mand\u001B[39;00m \\\n\u001B[0;32m    635\u001B[0m         \u001B[38;5;28mself\u001B[39m\u001B[38;5;241m.\u001B[39m_num_yielded \u001B[38;5;241m>\u001B[39m \u001B[38;5;28mself\u001B[39m\u001B[38;5;241m.\u001B[39m_IterableDataset_len_called:\n",
      "File \u001B[1;32m~\\PycharmProjects\\SegformerOneLastTime\\.venv\\lib\\site-packages\\torch\\utils\\data\\dataloader.py:675\u001B[0m, in \u001B[0;36m_SingleProcessDataLoaderIter._next_data\u001B[1;34m(self)\u001B[0m\n\u001B[0;32m    673\u001B[0m \u001B[38;5;28;01mdef\u001B[39;00m \u001B[38;5;21m_next_data\u001B[39m(\u001B[38;5;28mself\u001B[39m):\n\u001B[0;32m    674\u001B[0m     index \u001B[38;5;241m=\u001B[39m \u001B[38;5;28mself\u001B[39m\u001B[38;5;241m.\u001B[39m_next_index()  \u001B[38;5;66;03m# may raise StopIteration\u001B[39;00m\n\u001B[1;32m--> 675\u001B[0m     data \u001B[38;5;241m=\u001B[39m \u001B[38;5;28;43mself\u001B[39;49m\u001B[38;5;241;43m.\u001B[39;49m\u001B[43m_dataset_fetcher\u001B[49m\u001B[38;5;241;43m.\u001B[39;49m\u001B[43mfetch\u001B[49m\u001B[43m(\u001B[49m\u001B[43mindex\u001B[49m\u001B[43m)\u001B[49m  \u001B[38;5;66;03m# may raise StopIteration\u001B[39;00m\n\u001B[0;32m    676\u001B[0m     \u001B[38;5;28;01mif\u001B[39;00m \u001B[38;5;28mself\u001B[39m\u001B[38;5;241m.\u001B[39m_pin_memory:\n\u001B[0;32m    677\u001B[0m         data \u001B[38;5;241m=\u001B[39m _utils\u001B[38;5;241m.\u001B[39mpin_memory\u001B[38;5;241m.\u001B[39mpin_memory(data, \u001B[38;5;28mself\u001B[39m\u001B[38;5;241m.\u001B[39m_pin_memory_device)\n",
      "File \u001B[1;32m~\\PycharmProjects\\SegformerOneLastTime\\.venv\\lib\\site-packages\\torch\\utils\\data\\_utils\\fetch.py:51\u001B[0m, in \u001B[0;36m_MapDatasetFetcher.fetch\u001B[1;34m(self, possibly_batched_index)\u001B[0m\n\u001B[0;32m     49\u001B[0m         data \u001B[38;5;241m=\u001B[39m \u001B[38;5;28mself\u001B[39m\u001B[38;5;241m.\u001B[39mdataset\u001B[38;5;241m.\u001B[39m__getitems__(possibly_batched_index)\n\u001B[0;32m     50\u001B[0m     \u001B[38;5;28;01melse\u001B[39;00m:\n\u001B[1;32m---> 51\u001B[0m         data \u001B[38;5;241m=\u001B[39m [\u001B[38;5;28mself\u001B[39m\u001B[38;5;241m.\u001B[39mdataset[idx] \u001B[38;5;28;01mfor\u001B[39;00m idx \u001B[38;5;129;01min\u001B[39;00m possibly_batched_index]\n\u001B[0;32m     52\u001B[0m \u001B[38;5;28;01melse\u001B[39;00m:\n\u001B[0;32m     53\u001B[0m     data \u001B[38;5;241m=\u001B[39m \u001B[38;5;28mself\u001B[39m\u001B[38;5;241m.\u001B[39mdataset[possibly_batched_index]\n",
      "File \u001B[1;32m~\\PycharmProjects\\SegformerOneLastTime\\.venv\\lib\\site-packages\\torch\\utils\\data\\_utils\\fetch.py:51\u001B[0m, in \u001B[0;36m<listcomp>\u001B[1;34m(.0)\u001B[0m\n\u001B[0;32m     49\u001B[0m         data \u001B[38;5;241m=\u001B[39m \u001B[38;5;28mself\u001B[39m\u001B[38;5;241m.\u001B[39mdataset\u001B[38;5;241m.\u001B[39m__getitems__(possibly_batched_index)\n\u001B[0;32m     50\u001B[0m     \u001B[38;5;28;01melse\u001B[39;00m:\n\u001B[1;32m---> 51\u001B[0m         data \u001B[38;5;241m=\u001B[39m [\u001B[38;5;28;43mself\u001B[39;49m\u001B[38;5;241;43m.\u001B[39;49m\u001B[43mdataset\u001B[49m\u001B[43m[\u001B[49m\u001B[43midx\u001B[49m\u001B[43m]\u001B[49m \u001B[38;5;28;01mfor\u001B[39;00m idx \u001B[38;5;129;01min\u001B[39;00m possibly_batched_index]\n\u001B[0;32m     52\u001B[0m \u001B[38;5;28;01melse\u001B[39;00m:\n\u001B[0;32m     53\u001B[0m     data \u001B[38;5;241m=\u001B[39m \u001B[38;5;28mself\u001B[39m\u001B[38;5;241m.\u001B[39mdataset[possibly_batched_index]\n",
      "Cell \u001B[1;32mIn[119], line 49\u001B[0m, in \u001B[0;36mSemanticSegmentationDataset.__getitem__\u001B[1;34m(self, idx)\u001B[0m\n\u001B[0;32m     47\u001B[0m segmentation_map \u001B[38;5;241m=\u001B[39m np\u001B[38;5;241m.\u001B[39marray(BeforeNumpyArraySegmentation_map)\n\u001B[0;32m     48\u001B[0m \u001B[38;5;66;03m# randomly crop + pad both image and segmentation map to same size\u001B[39;00m\n\u001B[1;32m---> 49\u001B[0m encoded_inputs \u001B[38;5;241m=\u001B[39m \u001B[38;5;28;43mself\u001B[39;49m\u001B[38;5;241;43m.\u001B[39;49m\u001B[43mimage_processor\u001B[49m\u001B[43m(\u001B[49m\u001B[43mimage\u001B[49m\u001B[43m,\u001B[49m\u001B[43m \u001B[49m\u001B[43msegmentation_map\u001B[49m\u001B[43m,\u001B[49m\u001B[43m \u001B[49m\u001B[43mreturn_tensors\u001B[49m\u001B[38;5;241;43m=\u001B[39;49m\u001B[38;5;124;43m\"\u001B[39;49m\u001B[38;5;124;43mpt\u001B[39;49m\u001B[38;5;124;43m\"\u001B[39;49m\u001B[43m)\u001B[49m\n\u001B[0;32m     51\u001B[0m \u001B[38;5;28;01mfor\u001B[39;00m k,v \u001B[38;5;129;01min\u001B[39;00m encoded_inputs\u001B[38;5;241m.\u001B[39mitems():\n\u001B[0;32m     52\u001B[0m   encoded_inputs[k]\u001B[38;5;241m.\u001B[39msqueeze_() \u001B[38;5;66;03m# remove batch dimension\u001B[39;00m\n",
      "File \u001B[1;32m~\\PycharmProjects\\SegformerOneLastTime\\.venv\\lib\\site-packages\\transformers\\models\\segformer\\image_processing_segformer.py:321\u001B[0m, in \u001B[0;36mSegformerImageProcessor.__call__\u001B[1;34m(self, images, segmentation_maps, **kwargs)\u001B[0m\n\u001B[0;32m    314\u001B[0m \u001B[38;5;28;01mdef\u001B[39;00m \u001B[38;5;21m__call__\u001B[39m(\u001B[38;5;28mself\u001B[39m, images, segmentation_maps\u001B[38;5;241m=\u001B[39m\u001B[38;5;28;01mNone\u001B[39;00m, \u001B[38;5;241m*\u001B[39m\u001B[38;5;241m*\u001B[39mkwargs):\n\u001B[0;32m    315\u001B[0m \u001B[38;5;250m    \u001B[39m\u001B[38;5;124;03m\"\"\"\u001B[39;00m\n\u001B[0;32m    316\u001B[0m \u001B[38;5;124;03m    Preprocesses a batch of images and optionally segmentation maps.\u001B[39;00m\n\u001B[0;32m    317\u001B[0m \n\u001B[0;32m    318\u001B[0m \u001B[38;5;124;03m    Overrides the `__call__` method of the `Preprocessor` class so that both images and segmentation maps can be\u001B[39;00m\n\u001B[0;32m    319\u001B[0m \u001B[38;5;124;03m    passed in as positional arguments.\u001B[39;00m\n\u001B[0;32m    320\u001B[0m \u001B[38;5;124;03m    \"\"\"\u001B[39;00m\n\u001B[1;32m--> 321\u001B[0m     \u001B[38;5;28;01mreturn\u001B[39;00m \u001B[38;5;28msuper\u001B[39m()\u001B[38;5;241m.\u001B[39m\u001B[38;5;21m__call__\u001B[39m(images, segmentation_maps\u001B[38;5;241m=\u001B[39msegmentation_maps, \u001B[38;5;241m*\u001B[39m\u001B[38;5;241m*\u001B[39mkwargs)\n",
      "\u001B[1;31mKeyboardInterrupt\u001B[0m: "
     ]
    }
   ],
   "execution_count": 149
  },
  {
   "cell_type": "code",
   "id": "5685afbc183ba0dc",
   "metadata": {
    "ExecuteTime": {
     "end_time": "2024-06-17T20:24:55.993601Z",
     "start_time": "2024-06-17T20:24:55.989328Z"
    }
   },
   "source": [
    "new_image = Image.open('content/CustomDataSet/images/Training/0@0_2023-03-23_15-38-19-4410_Brick.jpg')\n",
    "new_image"
   ],
   "outputs": [],
   "execution_count": null
  },
  {
   "cell_type": "code",
   "id": "e7f01fae597e2cae",
   "metadata": {
    "ExecuteTime": {
     "end_time": "2024-06-17T19:57:38.986063Z",
     "start_time": "2024-06-17T19:57:38.891797Z"
    }
   },
   "source": [
    "# prepare the image for the model\n",
    "pixel_values = new_image_processor(new_image, return_tensors=\"pt\").pixel_values.to(device)\n",
    "print(pixel_values.shape)\n",
    "     "
   ],
   "outputs": [
    {
     "ename": "NameError",
     "evalue": "name 'device' is not defined",
     "output_type": "error",
     "traceback": [
      "\u001B[1;31m---------------------------------------------------------------------------\u001B[0m",
      "\u001B[1;31mNameError\u001B[0m                                 Traceback (most recent call last)",
      "Cell \u001B[1;32mIn[100], line 2\u001B[0m\n\u001B[0;32m      1\u001B[0m \u001B[38;5;66;03m# prepare the image for the model\u001B[39;00m\n\u001B[1;32m----> 2\u001B[0m pixel_values \u001B[38;5;241m=\u001B[39m new_image_processor(new_image, return_tensors\u001B[38;5;241m=\u001B[39m\u001B[38;5;124m\"\u001B[39m\u001B[38;5;124mpt\u001B[39m\u001B[38;5;124m\"\u001B[39m)\u001B[38;5;241m.\u001B[39mpixel_values\u001B[38;5;241m.\u001B[39mto(\u001B[43mdevice\u001B[49m)\n\u001B[0;32m      3\u001B[0m \u001B[38;5;28mprint\u001B[39m(pixel_values\u001B[38;5;241m.\u001B[39mshape)\n",
      "\u001B[1;31mNameError\u001B[0m: name 'device' is not defined"
     ]
    }
   ],
   "execution_count": 100
  },
  {
   "metadata": {
    "ExecuteTime": {
     "end_time": "2024-06-17T19:57:44.164327Z",
     "start_time": "2024-06-17T19:57:44.113620Z"
    }
   },
   "cell_type": "code",
   "source": [
    "import torch\n",
    "\n",
    "# forward pass\n",
    "with torch.no_grad():\n",
    "  outputs = model(pixel_values=pixel_values)\n"
   ],
   "id": "2e2e6e6768358959",
   "outputs": [
    {
     "ename": "NameError",
     "evalue": "name 'pixel_values' is not defined",
     "output_type": "error",
     "traceback": [
      "\u001B[1;31m---------------------------------------------------------------------------\u001B[0m",
      "\u001B[1;31mNameError\u001B[0m                                 Traceback (most recent call last)",
      "Cell \u001B[1;32mIn[101], line 5\u001B[0m\n\u001B[0;32m      3\u001B[0m \u001B[38;5;66;03m# forward pass\u001B[39;00m\n\u001B[0;32m      4\u001B[0m \u001B[38;5;28;01mwith\u001B[39;00m torch\u001B[38;5;241m.\u001B[39mno_grad():\n\u001B[1;32m----> 5\u001B[0m   outputs \u001B[38;5;241m=\u001B[39m model(pixel_values\u001B[38;5;241m=\u001B[39m\u001B[43mpixel_values\u001B[49m)\n",
      "\u001B[1;31mNameError\u001B[0m: name 'pixel_values' is not defined"
     ]
    }
   ],
   "execution_count": 101
  },
  {
   "metadata": {},
   "cell_type": "code",
   "source": [
    "# logits are of shape (batch_size, num_labels, height/4, width/4)\n",
    "logits = outputs.logits.cpu()\n",
    "print(logits.shape)"
   ],
   "id": "70b6139f56a4ec11",
   "outputs": [],
   "execution_count": null
  },
  {
   "metadata": {},
   "cell_type": "code",
   "source": [
    "def ade_palette():\n",
    "    \"\"\"ADE20K palette that maps each class to RGB values.\"\"\"\n",
    "    return [[198,117,58],[53,104,120],[204,125,6],[87,147,153],[0, 224, 192],[39, 188,102],[81, 185, 10],[68, 193, 117],[168,185,43]]\n"
   ],
   "id": "879d15e42ab9777b",
   "outputs": [],
   "execution_count": null
  },
  {
   "metadata": {},
   "cell_type": "code",
   "source": [
    "predicted_segmentation_map = new_image_processor.post_process_semantic_segmentation(outputs, target_sizes=[new_image.size[::-1]])[0]\n",
    "predicted_segmentation_map = predicted_segmentation_map.cpu().numpy()\n",
    "print(predicted_segmentation_map)\n"
   ],
   "id": "f34277c00951df17",
   "outputs": [],
   "execution_count": null
  },
  {
   "metadata": {},
   "cell_type": "code",
   "source": [
    "import matplotlib.pyplot as plt\n",
    "import numpy as np\n",
    "\n",
    "color_seg = np.zeros((predicted_segmentation_map.shape[0],\n",
    "                      predicted_segmentation_map.shape[1], 3), dtype=np.uint8) # height, width, 3\n",
    "\n",
    "palette = np.array(ade_palette())\n",
    "for label, color in enumerate(palette):\n",
    "    color_seg[predicted_segmentation_map == label, :] = color\n",
    "# Convert to BGR\n",
    "color_seg = color_seg[..., ::-1]\n",
    "\n",
    "# Show image + mask\n",
    "img = np.array(new_image) * 0.5 + color_seg * 0.5\n",
    "img = img.astype(np.uint8)\n",
    "\n",
    "plt.figure(figsize=(15, 10))\n",
    "plt.imshow(img)\n",
    "plt.show()\n",
    "     \n"
   ],
   "id": "ff663bd7dd131167",
   "outputs": [],
   "execution_count": null
  },
  {
   "metadata": {
    "ExecuteTime": {
     "end_time": "2024-06-17T19:49:55.682332Z",
     "start_time": "2024-06-17T19:49:55.635398Z"
    }
   },
   "cell_type": "code",
   "source": [
    "notBuiltInMap = Image.open('content/CustomDataSet/annotations/Training/0@0_2023-03-23_15-38-19-4410_Brick.png')\n",
    "notBuiltInMap"
   ],
   "id": "3f66e0cc7cb354ab",
   "outputs": [
    {
     "data": {
      "text/plain": [
       "<PIL.PngImagePlugin.PngImageFile image mode=RGB size=480x360>"
      ],
      "image/png": "[encoded data removed]",
      "image/jpeg": "[encoded data removed]"
     },
     "execution_count": 91,
     "metadata": {},
     "output_type": "execute_result"
    }
   ],
   "execution_count": 91
  },
  {
   "metadata": {},
   "cell_type": "code",
   "source": [
    "# convert map to NumPy array\n",
    "notBuiltInMap = np.array(notBuiltInMap)\n",
    "notBuiltInMap[notBuiltInMap == 0] = 255 # background class is replaced by ignore_index\n",
    "notBuiltInMap = notBuiltInMap - 1 # other classes are reduced by one\n",
    "notBuiltInMap[notBuiltInMap == 254] = 255\n",
    "\n",
    "classes_map = np.unique(notBuiltInMap).tolist()\n",
    "unique_classes = [model.config.id2label[idx] if idx!=255 else None for idx in classes_map]\n",
    "print(\"Classes in this image:\", unique_classes)\n",
    "\n",
    "# create coloured map\n",
    "color_seg = np.zeros((notBuiltInMap.shape[0], notBuiltInMap.shape[1], 3), dtype=np.uint8) # height, width, 3\n",
    "palette = np.array(ade_palette())\n",
    "for label, color in enumerate(palette):\n",
    "    color_seg[notBuiltInMap == label, :] = color\n",
    "# Convert to BGR\n",
    "color_seg = color_seg[..., ::-1]\n",
    "\n",
    "# Show image + mask\n",
    "img = np.array(new_image) * 0.5 + color_seg * 0.5\n",
    "img = img.astype(np.uint8)\n",
    "\n",
    "plt.figure(figsize=(15, 10))\n",
    "plt.imshow(img)\n",
    "plt.show()"
   ],
   "id": "ab3089e808a1d468",
   "outputs": [],
   "execution_count": null
  },
  {
   "metadata": {},
   "cell_type": "code",
   "source": [
    "# metric expects a list of numpy arrays for both predictions and references\n",
    "metrics = metric._compute(\n",
    "                  predictions=[predicted_segmentation_map],\n",
    "                  references=[notBuiltInMap],\n",
    "                  num_labels=len(id2label),\n",
    "                  ignore_index=255,\n",
    "                  reduce_labels=False, # we've already reduced the labels ourselves\n",
    "              )"
   ],
   "id": "3e62e0a9fae0a5a",
   "outputs": [],
   "execution_count": null
  },
  {
   "metadata": {},
   "cell_type": "code",
   "source": "metrics.keys()\n",
   "id": "86b2963f6a046cef",
   "outputs": [],
   "execution_count": null
  },
  {
   "metadata": {},
   "cell_type": "code",
   "source": [
    "import pandas as pd\n",
    "\n",
    "# print overall metrics\n",
    "for key in list(metrics.keys())[:3]:\n",
    "  print(key, metrics[key])\n",
    "\n",
    "# pretty-print per category metrics as Pandas DataFrame\n",
    "metric_table = dict()\n",
    "for new_id, label in id2label.items():\n",
    "    metric_table[label] = [\n",
    "                           metrics[\"per_category_iou\"][id],\n",
    "                           metrics[\"per_category_accuracy\"][id]\n",
    "    ]\n",
    "\n",
    "print(\"---------------------\")\n",
    "print(\"per-category metrics:\")\n",
    "pd.DataFrame.from_dict(metric_table, orient=\"index\", columns=[\"IoU\", \"accuracy\"])"
   ],
   "id": "a8bb0361dd529fdf",
   "outputs": [],
   "execution_count": null
  },
  {
   "metadata": {},
   "cell_type": "code",
   "source": "",
   "id": "9736a2ba67e512fc",
   "outputs": [],
   "execution_count": null
  }
 ],
 "metadata": {
  "kernelspec": {
   "display_name": "Python 3",
   "language": "python",
   "name": "python3"
  },
  "language_info": {
   "codemirror_mode": {
    "name": "ipython",
    "version": 2
   },
   "file_extension": ".py",
   "mimetype": "text/x-python",
   "name": "python",
   "nbconvert_exporter": "python",
   "pygments_lexer": "ipython2",
   "version": "2.7.6"
  }
 },
 "nbformat": 4,
 "nbformat_minor": 5
}
