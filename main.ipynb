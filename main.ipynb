{
 "cells": [
  {
   "cell_type": "code",
   "id": "1f7cdb5a66ccb0eb",
   "metadata": {
    "ExecuteTime": {
     "end_time": "2024-06-13T14:48:51.958882Z",
     "start_time": "2024-06-13T14:48:51.944884Z"
    }
   },
   "source": [
    "from datasets import load_dataset\n",
    "\n",
    "load_entire_dataset = False\n",
    "\n",
    "if load_entire_dataset:\n",
    "  dataset = load_dataset(\"scene_parse_150\")"
   ],
   "outputs": [],
   "execution_count": 2
  },
  {
   "cell_type": "code",
   "id": "b0930a67531a1784",
   "metadata": {
    "ExecuteTime": {
     "end_time": "2024-06-13T14:48:56.241823Z",
     "start_time": "2024-06-13T14:48:51.959881Z"
    }
   },
   "source": [
    "from torch.utils.data import Dataset\n",
    "import os\n",
    "from PIL import Image\n",
    "\n",
    "class SemanticSegmentationDataset(Dataset):\n",
    "    \"\"\"Image (semantic) segmentation dataset.\"\"\"\n",
    "\n",
    "    def __init__(self, root_dir, image_processor, train=True):\n",
    "        \"\"\"\n",
    "        Args:\n",
    "            root_dir (string): Root directory of the dataset containing the images + annotations.\n",
    "            image_processor (SegFormerImageProcessor): image processor to prepare images + segmentation maps.\n",
    "            train (bool): Whether to load \"training\" or \"validation\" images + annotations.\n",
    "        \"\"\"\n",
    "        self.root_dir = root_dir\n",
    "        self.image_processor = image_processor\n",
    "        self.train = train\n",
    "\n",
    "        sub_path = \"Training\" if self.train else \"Validation\"\n",
    "        self.img_dir = os.path.join(self.root_dir, \"images\", sub_path)\n",
    "        self.ann_dir = os.path.join(self.root_dir, \"annotations\", sub_path)\n",
    "\n",
    "        # read images\n",
    "        image_file_names = []\n",
    "        for root, dirs, files in os.walk(self.img_dir):\n",
    "          image_file_names.extend(files)\n",
    "        self.images = sorted(image_file_names)\n",
    "\n",
    "        # read annotations\n",
    "        annotation_file_names = []\n",
    "        for root, dirs, files in os.walk(self.ann_dir):\n",
    "          annotation_file_names.extend(files)\n",
    "        self.annotations = sorted(annotation_file_names)\n",
    "\n",
    "        assert len(self.images) == len(self.annotations), \"There must be as many images as there are segmentation maps\"\n",
    "\n",
    "    def __len__(self):\n",
    "        return len(self.images)\n",
    "\n",
    "    def __getitem__(self, idx):\n",
    "\n",
    "        image = Image.open(os.path.join(self.img_dir, self.images[idx]))\n",
    "        segmentation_map = Image.open(os.path.join(self.ann_dir, self.annotations[idx]))\n",
    "\n",
    "        # randomly crop + pad both image and segmentation map to same size\n",
    "        encoded_inputs = self.image_processor(image, segmentation_map, return_tensors=\"pt\")\n",
    "\n",
    "        for k,v in encoded_inputs.items():\n",
    "          encoded_inputs[k].squeeze_() # remove batch dimension\n",
    "\n",
    "        return encoded_inputs"
   ],
   "outputs": [],
   "execution_count": 3
  },
  {
   "cell_type": "code",
   "id": "e515a7c58c23afbe",
   "metadata": {
    "ExecuteTime": {
     "end_time": "2024-06-13T14:48:56.739559Z",
     "start_time": "2024-06-13T14:48:56.243853Z"
    }
   },
   "source": [
    "from transformers import SegformerImageProcessor\n",
    "\n",
    "new_root_dir = 'content/CustomDataSet'\n",
    "new_image_processor = SegformerImageProcessor(do_reduce_labels=True)\n",
    "\n",
    "train_dataset = SemanticSegmentationDataset(root_dir=new_root_dir, image_processor=new_image_processor)\n",
    "valid_dataset = SemanticSegmentationDataset(root_dir=new_root_dir, image_processor=new_image_processor, train=False)"
   ],
   "outputs": [],
   "execution_count": 4
  },
  {
   "cell_type": "code",
   "id": "844696421b427c7c",
   "metadata": {
    "ExecuteTime": {
     "end_time": "2024-06-13T14:48:56.755297Z",
     "start_time": "2024-06-13T14:48:56.741841Z"
    }
   },
   "source": [
    "print(\"Number of training examples:\", len(train_dataset))\n",
    "print(\"Number of validation examples:\", len(valid_dataset))\n"
   ],
   "outputs": [
    {
     "name": "stdout",
     "output_type": "stream",
     "text": [
      "Number of training examples: 10\n",
      "Number of validation examples: 10\n"
     ]
    }
   ],
   "execution_count": 5
  },
  {
   "cell_type": "code",
   "id": "7f10b359630dfaaf",
   "metadata": {
    "ExecuteTime": {
     "end_time": "2024-06-13T14:48:56.863187Z",
     "start_time": "2024-06-13T14:48:56.757259Z"
    }
   },
   "source": [
    "new_encoded_inputs = train_dataset[0]    "
   ],
   "outputs": [],
   "execution_count": 6
  },
  {
   "cell_type": "code",
   "id": "1501e93f3deaca7c",
   "metadata": {
    "ExecuteTime": {
     "end_time": "2024-06-13T14:48:56.878434Z",
     "start_time": "2024-06-13T14:48:56.864101Z"
    }
   },
   "source": [
    "new_encoded_inputs[\"pixel_values\"].shape"
   ],
   "outputs": [
    {
     "data": {
      "text/plain": [
       "torch.Size([3, 512, 512])"
      ]
     },
     "execution_count": 7,
     "metadata": {},
     "output_type": "execute_result"
    }
   ],
   "execution_count": 7
  },
  {
   "cell_type": "code",
   "id": "9644ded36d64e7f6",
   "metadata": {
    "ExecuteTime": {
     "end_time": "2024-06-13T14:48:56.893707Z",
     "start_time": "2024-06-13T14:48:56.879541Z"
    }
   },
   "source": "new_encoded_inputs[\"labels\"].shape",
   "outputs": [
    {
     "data": {
      "text/plain": [
       "torch.Size([512, 512])"
      ]
     },
     "execution_count": 8,
     "metadata": {},
     "output_type": "execute_result"
    }
   ],
   "execution_count": 8
  },
  {
   "cell_type": "code",
   "id": "837f6b9d6e0f41e3",
   "metadata": {
    "ExecuteTime": {
     "end_time": "2024-06-13T14:48:56.924309Z",
     "start_time": "2024-06-13T14:48:56.894707Z"
    }
   },
   "source": [
    "new_encoded_inputs[\"labels\"]"
   ],
   "outputs": [
    {
     "data": {
      "text/plain": [
       "tensor([[255, 255, 255,  ...,   5,   5,   5],\n",
       "        [255,   5,   5,  ...,   5,   5,   5],\n",
       "        [255,   5,   5,  ...,   5,   5,   5],\n",
       "        ...,\n",
       "        [  3,   3,   3,  ...,   0,   0, 255],\n",
       "        [  3,   3,   3,  ...,   0,   0, 255],\n",
       "        [  3,   3,   3,  ...,   0,   0,   0]])"
      ]
     },
     "execution_count": 9,
     "metadata": {},
     "output_type": "execute_result"
    }
   ],
   "execution_count": 9
  },
  {
   "cell_type": "code",
   "id": "da7f29efd3235ec4",
   "metadata": {
    "ExecuteTime": {
     "end_time": "2024-06-13T14:48:56.955336Z",
     "start_time": "2024-06-13T14:48:56.925308Z"
    }
   },
   "source": [
    "new_encoded_inputs[\"labels\"].squeeze().unique()\n"
   ],
   "outputs": [
    {
     "data": {
      "text/plain": [
       "tensor([  0,   3,   4,   5,  12,  17,  31,  32,  42,  43,  87,  96, 104, 125,\n",
       "        138, 149, 255])"
      ]
     },
     "execution_count": 10,
     "metadata": {},
     "output_type": "execute_result"
    }
   ],
   "execution_count": 10
  },
  {
   "cell_type": "code",
   "id": "c6abbb4c4b2c82b9",
   "metadata": {
    "ExecuteTime": {
     "end_time": "2024-06-13T14:48:56.970855Z",
     "start_time": "2024-06-13T14:48:56.957339Z"
    }
   },
   "source": [
    "from torch.utils.data import DataLoader\n",
    "\n",
    "train_dataloader = DataLoader(train_dataset, batch_size=2, shuffle=True)\n",
    "valid_dataloader = DataLoader(valid_dataset, batch_size=2)\n"
   ],
   "outputs": [],
   "execution_count": 11
  },
  {
   "cell_type": "code",
   "id": "35c05eff9aebcfd",
   "metadata": {
    "ExecuteTime": {
     "end_time": "2024-06-13T14:48:57.047488Z",
     "start_time": "2024-06-13T14:48:56.971836Z"
    }
   },
   "source": [
    "batch = next(iter(train_dataloader))"
   ],
   "outputs": [],
   "execution_count": 12
  },
  {
   "cell_type": "code",
   "id": "2c1e62765aa05be5",
   "metadata": {
    "ExecuteTime": {
     "end_time": "2024-06-13T14:48:57.062798Z",
     "start_time": "2024-06-13T14:48:57.048645Z"
    }
   },
   "source": [
    "for out_k,out_v in batch.items():\n",
    "  print(out_k, out_v.shape)"
   ],
   "outputs": [
    {
     "name": "stdout",
     "output_type": "stream",
     "text": [
      "pixel_values torch.Size([2, 3, 512, 512])\n",
      "labels torch.Size([2, 512, 512])\n"
     ]
    }
   ],
   "execution_count": 13
  },
  {
   "cell_type": "code",
   "id": "e82d701c6c3a07c1",
   "metadata": {
    "ExecuteTime": {
     "end_time": "2024-06-13T14:48:57.078179Z",
     "start_time": "2024-06-13T14:48:57.066802Z"
    }
   },
   "source": [
    "batch[\"labels\"].shape"
   ],
   "outputs": [
    {
     "data": {
      "text/plain": [
       "torch.Size([2, 512, 512])"
      ]
     },
     "execution_count": 14,
     "metadata": {},
     "output_type": "execute_result"
    }
   ],
   "execution_count": 14
  },
  {
   "cell_type": "code",
   "id": "c1b1c1b93f963d24",
   "metadata": {
    "ExecuteTime": {
     "end_time": "2024-06-13T14:48:57.093441Z",
     "start_time": "2024-06-13T14:48:57.079281Z"
    }
   },
   "source": [
    "mask = (batch[\"labels\"] != 255)\n",
    "mask"
   ],
   "outputs": [
    {
     "data": {
      "text/plain": [
       "tensor([[[False, False, False,  ..., False, False, False],\n",
       "         [False,  True,  True,  ...,  True,  True, False],\n",
       "         [False,  True,  True,  ...,  True,  True, False],\n",
       "         ...,\n",
       "         [ True,  True,  True,  ...,  True,  True, False],\n",
       "         [ True,  True,  True,  ...,  True,  True, False],\n",
       "         [False, False, False,  ..., False, False, False]],\n",
       "\n",
       "        [[ True,  True,  True,  ...,  True,  True, False],\n",
       "         [ True,  True,  True,  ...,  True,  True, False],\n",
       "         [ True,  True,  True,  ...,  True,  True, False],\n",
       "         ...,\n",
       "         [ True,  True,  True,  ...,  True,  True, False],\n",
       "         [ True,  True,  True,  ...,  True,  True, False],\n",
       "         [False, False, False,  ...,  True,  True, False]]])"
      ]
     },
     "execution_count": 15,
     "metadata": {},
     "output_type": "execute_result"
    }
   ],
   "execution_count": 15
  },
  {
   "cell_type": "code",
   "id": "61fc85d2cb9ac4e0",
   "metadata": {
    "ExecuteTime": {
     "end_time": "2024-06-13T14:48:57.124015Z",
     "start_time": "2024-06-13T14:48:57.094442Z"
    }
   },
   "source": [
    "batch[\"labels\"][mask]"
   ],
   "outputs": [
    {
     "data": {
      "text/plain": [
       "tensor([0, 0, 0,  ..., 0, 0, 0])"
      ]
     },
     "execution_count": 16,
     "metadata": {},
     "output_type": "execute_result"
    }
   ],
   "execution_count": 16
  },
  {
   "cell_type": "code",
   "id": "a8a4a8a9a8daa2bf",
   "metadata": {
    "ExecuteTime": {
     "end_time": "2024-06-13T14:48:58.769771Z",
     "start_time": "2024-06-13T14:48:57.125014Z"
    }
   },
   "source": [
    "\n",
    "from transformers import SegformerForSemanticSegmentation\n",
    "\n",
    "# load id2label mapping from a JSON \n",
    "import json\n",
    "\n",
    "# simple example\n",
    "id2label = {0: 'Brick', 1: 'Cane',2:'Cellar door', 3:'Concrete',4:'Dirt',5:'Manhole Cover',6:'Other',7:'Subway Grates',8:'Tactile Pavement'}\n",
    "label2id = {v: k for k, v in id2label.items()}\n",
    "\n",
    "with open('cats-and-dogs-id2label.json', 'w') as fp:\n",
    "    json.dump(id2label, fp)\n",
    "\n",
    "\n",
    "model = SegformerForSemanticSegmentation.from_pretrained(\"nvidia/mit-b5\",\n",
    "                                                         num_labels=8,\n",
    "                                                         id2label=id2label,\n",
    "                                                         label2id=label2id,\n",
    ")"
   ],
   "outputs": [
    {
     "name": "stderr",
     "output_type": "stream",
     "text": [
      "Some weights of SegformerForSemanticSegmentation were not initialized from the model checkpoint at nvidia/mit-b0 and are newly initialized: ['decode_head.batch_norm.bias', 'decode_head.batch_norm.num_batches_tracked', 'decode_head.batch_norm.running_mean', 'decode_head.batch_norm.running_var', 'decode_head.batch_norm.weight', 'decode_head.classifier.bias', 'decode_head.classifier.weight', 'decode_head.linear_c.0.proj.bias', 'decode_head.linear_c.0.proj.weight', 'decode_head.linear_c.1.proj.bias', 'decode_head.linear_c.1.proj.weight', 'decode_head.linear_c.2.proj.bias', 'decode_head.linear_c.2.proj.weight', 'decode_head.linear_c.3.proj.bias', 'decode_head.linear_c.3.proj.weight', 'decode_head.linear_fuse.weight']\n",
      "You should probably TRAIN this model on a down-stream task to be able to use it for predictions and inference.\n"
     ]
    }
   ],
   "execution_count": 17
  },
  {
   "cell_type": "code",
   "id": "83559e946563b7fc",
   "metadata": {
    "ExecuteTime": {
     "end_time": "2024-06-13T14:49:02.781824Z",
     "start_time": "2024-06-13T14:48:58.770767Z"
    }
   },
   "source": [
    "import evaluate\n",
    "\n",
    "metric = evaluate.load(\"mean_iou\")\n",
    "new_image_processor.do_reduce_labels\n"
   ],
   "outputs": [
    {
     "data": {
      "text/plain": [
       "True"
      ]
     },
     "execution_count": 18,
     "metadata": {},
     "output_type": "execute_result"
    }
   ],
   "execution_count": 18
  },
  {
   "cell_type": "code",
   "id": "1173b7b3da28557b",
   "metadata": {
    "ExecuteTime": {
     "end_time": "2024-06-13T15:50:05.227585Z",
     "start_time": "2024-06-13T14:49:02.783791Z"
    }
   },
   "source": [
    "import torch\n",
    "from torch import nn\n",
    "from tqdm.notebook import tqdm\n",
    "\n",
    "# define optimizer\n",
    "optimizer = torch.optim.AdamW(model.parameters(), lr=0.00006)\n",
    "# move model to GPU\n",
    "device = torch.device(\"cuda\" if torch.cuda.is_available() else \"cpu\")\n",
    "model.to(device)\n",
    "\n",
    "model.train()\n",
    "for epoch in range(200):  # loop over the dataset multiple times\n",
    "   print(\"Epoch:\", epoch)\n",
    "   for new_idx, batch in enumerate(tqdm(train_dataloader)):\n",
    "        # get the inputs;\n",
    "        pixel_values = batch[\"pixel_values\"].to(device)\n",
    "        labels = batch[\"labels\"].to(device)\n",
    "\n",
    "        # zero the parameter gradients\n",
    "        optimizer.zero_grad()\n",
    "\n",
    "        # forward + backward + optimize\n",
    "        outputs = model(pixel_values=pixel_values, labels=labels)\n",
    "        loss, logits = outputs.loss, outputs.logits\n",
    "\n",
    "        loss.backward()\n",
    "        optimizer.step()\n",
    "\n",
    "        # evaluate\n",
    "        with torch.no_grad():\n",
    "          upsampled_logits = nn.functional.interpolate(logits, size=labels.shape[-2:], mode=\"bilinear\", align_corners=False)\n",
    "          predicted = upsampled_logits.argmax(dim=1)\n",
    "\n",
    "          # note that the metric expects predictions + labels as numpy arrays\n",
    "          metric.add_batch(predictions=predicted.detach().cpu().numpy(), references=labels.detach().cpu().numpy())\n",
    "\n",
    "        # let's print loss and metrics every 100 batches\n",
    "        if new_idx % 100 == 0:\n",
    "          # currently using _compute instead of compute\n",
    "          # see this issue for more info: https://github.com/huggingface/evaluate/pull/328#issuecomment-1286866576\n",
    "          metrics = metric._compute(\n",
    "                  predictions=predicted.cpu(),\n",
    "                  references=labels.cpu(),\n",
    "                  num_labels=len(id2label),\n",
    "                  ignore_index=255,\n",
    "                  reduce_labels=False, # we've already reduced the labels ourselves\n",
    "              )\n",
    "\n",
    "          print(\"Loss:\", loss.item())\n",
    "          print(\"Mean_iou:\", metrics[\"mean_iou\"])\n",
    "          print(\"Mean accuracy:\", metrics[\"mean_accuracy\"])"
   ],
   "outputs": [
    {
     "name": "stdout",
     "output_type": "stream",
     "text": [
      "Epoch: 0\n"
     ]
    },
    {
     "data": {
      "text/plain": [
       "  0%|          | 0/5 [00:00<?, ?it/s]"
      ],
      "application/vnd.jupyter.widget-view+json": {
       "version_major": 2,
       "version_minor": 0,
       "model_id": "349ddb311a1948589bf0981c7b3ad492"
      }
     },
     "metadata": {},
     "output_type": "display_data"
    },
    {
     "name": "stderr",
     "output_type": "stream",
     "text": [
      "C:\\Users\\mehdi\\PycharmProjects\\SegformerOneLastTime\\.venv\\lib\\site-packages\\datasets\\features\\image.py:348: UserWarning: Downcasting array dtype int64 to int32 to be compatible with 'Pillow'\n",
      "  warnings.warn(f\"Downcasting array dtype {dtype} to {dest_dtype} to be compatible with 'Pillow'\")\n",
      "C:\\Users\\mehdi\\.cache\\huggingface\\modules\\evaluate_modules\\metrics\\evaluate-metric--mean_iou\\9e450724f21f05592bfb0255fe2fa576df8171fa060d11121d8aecfff0db80d0\\mean_iou.py:259: RuntimeWarning: invalid value encountered in divide\n",
      "  iou = total_area_intersect / total_area_union\n",
      "C:\\Users\\mehdi\\.cache\\huggingface\\modules\\evaluate_modules\\metrics\\evaluate-metric--mean_iou\\9e450724f21f05592bfb0255fe2fa576df8171fa060d11121d8aecfff0db80d0\\mean_iou.py:260: RuntimeWarning: invalid value encountered in divide\n",
      "  acc = total_area_intersect / total_area_label\n"
     ]
    },
    {
     "name": "stdout",
     "output_type": "stream",
     "text": [
      "Loss: 5.080819606781006\n",
      "Mean_iou: 0.00031113396366836717\n",
      "Mean accuracy: 0.003506965390881217\n",
      "Epoch: 1\n"
     ]
    },
    {
     "data": {
      "text/plain": [
       "  0%|          | 0/5 [00:00<?, ?it/s]"
      ],
      "application/vnd.jupyter.widget-view+json": {
       "version_major": 2,
       "version_minor": 0,
       "model_id": "85911511013f441da9e35bbb8d3399d8"
      }
     },
     "metadata": {},
     "output_type": "display_data"
    },
    {
     "name": "stdout",
     "output_type": "stream",
     "text": [
      "Loss: 4.900574684143066\n",
      "Mean_iou: 0.001163255315416101\n",
      "Mean accuracy: 0.01343034012854113\n",
      "Epoch: 2\n"
     ]
    },
    {
     "data": {
      "text/plain": [
       "  0%|          | 0/5 [00:00<?, ?it/s]"
      ],
      "application/vnd.jupyter.widget-view+json": {
       "version_major": 2,
       "version_minor": 0,
       "model_id": "f9c225f7bdf54cb88db9095b8a3d5308"
      }
     },
     "metadata": {},
     "output_type": "display_data"
    },
    {
     "name": "stdout",
     "output_type": "stream",
     "text": [
      "Loss: 4.705316066741943\n",
      "Mean_iou: 0.007319353873435333\n",
      "Mean accuracy: 0.05161138511360023\n",
      "Epoch: 3\n"
     ]
    },
    {
     "data": {
      "text/plain": [
       "  0%|          | 0/5 [00:00<?, ?it/s]"
      ],
      "application/vnd.jupyter.widget-view+json": {
       "version_major": 2,
       "version_minor": 0,
       "model_id": "5773d9300fe6416f9636df57d273b68b"
      }
     },
     "metadata": {},
     "output_type": "display_data"
    },
    {
     "name": "stdout",
     "output_type": "stream",
     "text": [
      "Loss: 4.753377914428711\n",
      "Mean_iou: 0.005240586871161827\n",
      "Mean accuracy: 0.04958388503743\n",
      "Epoch: 4\n"
     ]
    },
    {
     "data": {
      "text/plain": [
       "  0%|          | 0/5 [00:00<?, ?it/s]"
      ],
      "application/vnd.jupyter.widget-view+json": {
       "version_major": 2,
       "version_minor": 0,
       "model_id": "99dce033fac34995b07775c7c69dc15b"
      }
     },
     "metadata": {},
     "output_type": "display_data"
    },
    {
     "name": "stdout",
     "output_type": "stream",
     "text": [
      "Loss: 4.617109775543213\n",
      "Mean_iou: 0.008593076130663875\n",
      "Mean accuracy: 0.07931030884219453\n",
      "Epoch: 5\n"
     ]
    },
    {
     "data": {
      "text/plain": [
       "  0%|          | 0/5 [00:00<?, ?it/s]"
      ],
      "application/vnd.jupyter.widget-view+json": {
       "version_major": 2,
       "version_minor": 0,
       "model_id": "dbfe88adcbc04b7eb568c44b437776e8"
      }
     },
     "metadata": {},
     "output_type": "display_data"
    },
    {
     "name": "stdout",
     "output_type": "stream",
     "text": [
      "Loss: 4.427618026733398\n",
      "Mean_iou: 0.02251728471482569\n",
      "Mean accuracy: 0.1361268312506556\n",
      "Epoch: 6\n"
     ]
    },
    {
     "data": {
      "text/plain": [
       "  0%|          | 0/5 [00:00<?, ?it/s]"
      ],
      "application/vnd.jupyter.widget-view+json": {
       "version_major": 2,
       "version_minor": 0,
       "model_id": "6964a212cb1b404f8188da001c04bb79"
      }
     },
     "metadata": {},
     "output_type": "display_data"
    },
    {
     "name": "stdout",
     "output_type": "stream",
     "text": [
      "Loss: 4.252815246582031\n",
      "Mean_iou: 0.0381166758194789\n",
      "Mean accuracy: 0.20174559066441372\n",
      "Epoch: 7\n"
     ]
    },
    {
     "data": {
      "text/plain": [
       "  0%|          | 0/5 [00:00<?, ?it/s]"
      ],
      "application/vnd.jupyter.widget-view+json": {
       "version_major": 2,
       "version_minor": 0,
       "model_id": "4d667d40295846ae82fc2edbfbca4c6d"
      }
     },
     "metadata": {},
     "output_type": "display_data"
    },
    {
     "name": "stdout",
     "output_type": "stream",
     "text": [
      "Loss: 4.1394782066345215\n",
      "Mean_iou: 0.05660052983733655\n",
      "Mean accuracy: 0.20030801528482445\n",
      "Epoch: 8\n"
     ]
    },
    {
     "data": {
      "text/plain": [
       "  0%|          | 0/5 [00:00<?, ?it/s]"
      ],
      "application/vnd.jupyter.widget-view+json": {
       "version_major": 2,
       "version_minor": 0,
       "model_id": "a17254804a62495fbe3f9890ff164e56"
      }
     },
     "metadata": {},
     "output_type": "display_data"
    },
    {
     "name": "stdout",
     "output_type": "stream",
     "text": [
      "Loss: 3.8464009761810303\n",
      "Mean_iou: 0.05409638048854691\n",
      "Mean accuracy: 0.2481329735937503\n",
      "Epoch: 9\n"
     ]
    },
    {
     "data": {
      "text/plain": [
       "  0%|          | 0/5 [00:00<?, ?it/s]"
      ],
      "application/vnd.jupyter.widget-view+json": {
       "version_major": 2,
       "version_minor": 0,
       "model_id": "eca3f29e8cdb4569b5c8810c9e9366a5"
      }
     },
     "metadata": {},
     "output_type": "display_data"
    },
    {
     "name": "stdout",
     "output_type": "stream",
     "text": [
      "Loss: 3.908029794692993\n",
      "Mean_iou: 0.06377718347891714\n",
      "Mean accuracy: 0.22690139599576745\n",
      "Epoch: 10\n"
     ]
    },
    {
     "data": {
      "text/plain": [
       "  0%|          | 0/5 [00:00<?, ?it/s]"
      ],
      "application/vnd.jupyter.widget-view+json": {
       "version_major": 2,
       "version_minor": 0,
       "model_id": "ad6b90fcc0ba4ce683df531905fc5e8b"
      }
     },
     "metadata": {},
     "output_type": "display_data"
    },
    {
     "name": "stdout",
     "output_type": "stream",
     "text": [
      "Loss: 3.464831590652466\n",
      "Mean_iou: 0.07885222774305627\n",
      "Mean accuracy: 0.3950250672947289\n",
      "Epoch: 11\n"
     ]
    },
    {
     "data": {
      "text/plain": [
       "  0%|          | 0/5 [00:00<?, ?it/s]"
      ],
      "application/vnd.jupyter.widget-view+json": {
       "version_major": 2,
       "version_minor": 0,
       "model_id": "6a3d919d44f641189fe9b8f044252480"
      }
     },
     "metadata": {},
     "output_type": "display_data"
    },
    {
     "name": "stdout",
     "output_type": "stream",
     "text": [
      "Loss: 3.5386784076690674\n",
      "Mean_iou: 0.28246704737361306\n",
      "Mean accuracy: 0.4766418731024793\n",
      "Epoch: 12\n"
     ]
    },
    {
     "data": {
      "text/plain": [
       "  0%|          | 0/5 [00:00<?, ?it/s]"
      ],
      "application/vnd.jupyter.widget-view+json": {
       "version_major": 2,
       "version_minor": 0,
       "model_id": "d0d7d94e30464569a8a69bf60e628448"
      }
     },
     "metadata": {},
     "output_type": "display_data"
    },
    {
     "name": "stdout",
     "output_type": "stream",
     "text": [
      "Loss: 3.43904709815979\n",
      "Mean_iou: 0.10002894251895161\n",
      "Mean accuracy: 0.3433780858876347\n",
      "Epoch: 13\n"
     ]
    },
    {
     "data": {
      "text/plain": [
       "  0%|          | 0/5 [00:00<?, ?it/s]"
      ],
      "application/vnd.jupyter.widget-view+json": {
       "version_major": 2,
       "version_minor": 0,
       "model_id": "6bd93897dab14dc39198691d24350ff2"
      }
     },
     "metadata": {},
     "output_type": "display_data"
    },
    {
     "name": "stdout",
     "output_type": "stream",
     "text": [
      "Loss: 3.514603853225708\n",
      "Mean_iou: 0.12868375732758805\n",
      "Mean accuracy: 0.28333930582642625\n",
      "Epoch: 14\n"
     ]
    },
    {
     "data": {
      "text/plain": [
       "  0%|          | 0/5 [00:00<?, ?it/s]"
      ],
      "application/vnd.jupyter.widget-view+json": {
       "version_major": 2,
       "version_minor": 0,
       "model_id": "ee3ba2ec6327483794aede1c85393c61"
      }
     },
     "metadata": {},
     "output_type": "display_data"
    },
    {
     "name": "stdout",
     "output_type": "stream",
     "text": [
      "Loss: 3.2008726596832275\n",
      "Mean_iou: 0.10660107105330646\n",
      "Mean accuracy: 0.32357426915114434\n",
      "Epoch: 15\n"
     ]
    },
    {
     "data": {
      "text/plain": [
       "  0%|          | 0/5 [00:00<?, ?it/s]"
      ],
      "application/vnd.jupyter.widget-view+json": {
       "version_major": 2,
       "version_minor": 0,
       "model_id": "8bd7dd78ab81473c829f7d65ab149474"
      }
     },
     "metadata": {},
     "output_type": "display_data"
    },
    {
     "name": "stdout",
     "output_type": "stream",
     "text": [
      "Loss: 2.8092167377471924\n",
      "Mean_iou: 0.21229978326367072\n",
      "Mean accuracy: 0.5094818026225371\n",
      "Epoch: 16\n"
     ]
    },
    {
     "data": {
      "text/plain": [
       "  0%|          | 0/5 [00:00<?, ?it/s]"
      ],
      "application/vnd.jupyter.widget-view+json": {
       "version_major": 2,
       "version_minor": 0,
       "model_id": "ca66bd66c9d4478bbba6fcbb62bfcd1a"
      }
     },
     "metadata": {},
     "output_type": "display_data"
    },
    {
     "name": "stdout",
     "output_type": "stream",
     "text": [
      "Loss: 3.0256142616271973\n",
      "Mean_iou: 0.3004583044423781\n",
      "Mean accuracy: 0.4200137230273804\n",
      "Epoch: 17\n"
     ]
    },
    {
     "data": {
      "text/plain": [
       "  0%|          | 0/5 [00:00<?, ?it/s]"
      ],
      "application/vnd.jupyter.widget-view+json": {
       "version_major": 2,
       "version_minor": 0,
       "model_id": "d8819d2b18e6474db8caffe4dfdba40d"
      }
     },
     "metadata": {},
     "output_type": "display_data"
    },
    {
     "name": "stdout",
     "output_type": "stream",
     "text": [
      "Loss: 2.8985512256622314\n",
      "Mean_iou: 0.14063995074462948\n",
      "Mean accuracy: 0.2676397833703513\n",
      "Epoch: 18\n"
     ]
    },
    {
     "data": {
      "text/plain": [
       "  0%|          | 0/5 [00:00<?, ?it/s]"
      ],
      "application/vnd.jupyter.widget-view+json": {
       "version_major": 2,
       "version_minor": 0,
       "model_id": "3e8eda63d3fc47caba75b08c116e326f"
      }
     },
     "metadata": {},
     "output_type": "display_data"
    },
    {
     "name": "stdout",
     "output_type": "stream",
     "text": [
      "Loss: 2.7474162578582764\n",
      "Mean_iou: 0.23280124496191779\n",
      "Mean accuracy: 0.3392881301773817\n",
      "Epoch: 19\n"
     ]
    },
    {
     "data": {
      "text/plain": [
       "  0%|          | 0/5 [00:00<?, ?it/s]"
      ],
      "application/vnd.jupyter.widget-view+json": {
       "version_major": 2,
       "version_minor": 0,
       "model_id": "399a8551691a40308781f6b4312a9da3"
      }
     },
     "metadata": {},
     "output_type": "display_data"
    },
    {
     "name": "stdout",
     "output_type": "stream",
     "text": [
      "Loss: 2.906266689300537\n",
      "Mean_iou: 0.15091297352959748\n",
      "Mean accuracy: 0.3095686281203208\n",
      "Epoch: 20\n"
     ]
    },
    {
     "data": {
      "text/plain": [
       "  0%|          | 0/5 [00:00<?, ?it/s]"
      ],
      "application/vnd.jupyter.widget-view+json": {
       "version_major": 2,
       "version_minor": 0,
       "model_id": "eff8469442da4888940497de1cfc0635"
      }
     },
     "metadata": {},
     "output_type": "display_data"
    },
    {
     "name": "stdout",
     "output_type": "stream",
     "text": [
      "Loss: 2.7063710689544678\n",
      "Mean_iou: 0.16436758812933852\n",
      "Mean accuracy: 0.4437092563113374\n",
      "Epoch: 21\n"
     ]
    },
    {
     "data": {
      "text/plain": [
       "  0%|          | 0/5 [00:00<?, ?it/s]"
      ],
      "application/vnd.jupyter.widget-view+json": {
       "version_major": 2,
       "version_minor": 0,
       "model_id": "1850362973f94052bf7123deb4484170"
      }
     },
     "metadata": {},
     "output_type": "display_data"
    },
    {
     "name": "stdout",
     "output_type": "stream",
     "text": [
      "Loss: 2.810788154602051\n",
      "Mean_iou: 0.288766523785768\n",
      "Mean accuracy: 0.5330320775607433\n",
      "Epoch: 22\n"
     ]
    },
    {
     "data": {
      "text/plain": [
       "  0%|          | 0/5 [00:00<?, ?it/s]"
      ],
      "application/vnd.jupyter.widget-view+json": {
       "version_major": 2,
       "version_minor": 0,
       "model_id": "612dc697aa3d459aa4baa270d530069e"
      }
     },
     "metadata": {},
     "output_type": "display_data"
    },
    {
     "name": "stdout",
     "output_type": "stream",
     "text": [
      "Loss: 2.7979671955108643\n",
      "Mean_iou: 0.31050011604072847\n",
      "Mean accuracy: 0.4525603155226692\n",
      "Epoch: 23\n"
     ]
    },
    {
     "data": {
      "text/plain": [
       "  0%|          | 0/5 [00:00<?, ?it/s]"
      ],
      "application/vnd.jupyter.widget-view+json": {
       "version_major": 2,
       "version_minor": 0,
       "model_id": "fd55396b981441539e37300aeac82e44"
      }
     },
     "metadata": {},
     "output_type": "display_data"
    },
    {
     "name": "stdout",
     "output_type": "stream",
     "text": [
      "Loss: 2.7521584033966064\n",
      "Mean_iou: 0.24209965902659525\n",
      "Mean accuracy: 0.4522754800815658\n",
      "Epoch: 24\n"
     ]
    },
    {
     "data": {
      "text/plain": [
       "  0%|          | 0/5 [00:00<?, ?it/s]"
      ],
      "application/vnd.jupyter.widget-view+json": {
       "version_major": 2,
       "version_minor": 0,
       "model_id": "07c541e60fa74300a8d5aec154f91eaf"
      }
     },
     "metadata": {},
     "output_type": "display_data"
    },
    {
     "name": "stdout",
     "output_type": "stream",
     "text": [
      "Loss: 2.5988619327545166\n",
      "Mean_iou: 0.3101614700528376\n",
      "Mean accuracy: 0.45830889767561456\n",
      "Epoch: 25\n"
     ]
    },
    {
     "data": {
      "text/plain": [
       "  0%|          | 0/5 [00:00<?, ?it/s]"
      ],
      "application/vnd.jupyter.widget-view+json": {
       "version_major": 2,
       "version_minor": 0,
       "model_id": "dcf83af1f10a4ad7890c4a5d837ac370"
      }
     },
     "metadata": {},
     "output_type": "display_data"
    },
    {
     "name": "stdout",
     "output_type": "stream",
     "text": [
      "Loss: 2.679971218109131\n",
      "Mean_iou: 0.32065123148033126\n",
      "Mean accuracy: 0.3852537825112502\n",
      "Epoch: 26\n"
     ]
    },
    {
     "data": {
      "text/plain": [
       "  0%|          | 0/5 [00:00<?, ?it/s]"
      ],
      "application/vnd.jupyter.widget-view+json": {
       "version_major": 2,
       "version_minor": 0,
       "model_id": "a992507cbac54959a431f497203d8e2d"
      }
     },
     "metadata": {},
     "output_type": "display_data"
    },
    {
     "name": "stdout",
     "output_type": "stream",
     "text": [
      "Loss: 1.8475641012191772\n",
      "Mean_iou: 0.4309843821840182\n",
      "Mean accuracy: 0.7033084823477451\n",
      "Epoch: 27\n"
     ]
    },
    {
     "data": {
      "text/plain": [
       "  0%|          | 0/5 [00:00<?, ?it/s]"
      ],
      "application/vnd.jupyter.widget-view+json": {
       "version_major": 2,
       "version_minor": 0,
       "model_id": "1b141559152e4872820664e44a690f7b"
      }
     },
     "metadata": {},
     "output_type": "display_data"
    },
    {
     "name": "stdout",
     "output_type": "stream",
     "text": [
      "Loss: 2.4500677585601807\n",
      "Mean_iou: 0.16455368470863801\n",
      "Mean accuracy: 0.31685924072119714\n",
      "Epoch: 28\n"
     ]
    },
    {
     "data": {
      "text/plain": [
       "  0%|          | 0/5 [00:00<?, ?it/s]"
      ],
      "application/vnd.jupyter.widget-view+json": {
       "version_major": 2,
       "version_minor": 0,
       "model_id": "e3441dfbcd6c482aa72e4fee7c6a708c"
      }
     },
     "metadata": {},
     "output_type": "display_data"
    },
    {
     "name": "stdout",
     "output_type": "stream",
     "text": [
      "Loss: 2.319737672805786\n",
      "Mean_iou: 0.11421738522719235\n",
      "Mean accuracy: 0.19769592854092985\n",
      "Epoch: 29\n"
     ]
    },
    {
     "data": {
      "text/plain": [
       "  0%|          | 0/5 [00:00<?, ?it/s]"
      ],
      "application/vnd.jupyter.widget-view+json": {
       "version_major": 2,
       "version_minor": 0,
       "model_id": "4417e7df6041448ea2aa0c96234e9565"
      }
     },
     "metadata": {},
     "output_type": "display_data"
    },
    {
     "name": "stdout",
     "output_type": "stream",
     "text": [
      "Loss: 2.4706013202667236\n",
      "Mean_iou: 0.29532141438714987\n",
      "Mean accuracy: 0.44213443484133813\n",
      "Epoch: 30\n"
     ]
    },
    {
     "data": {
      "text/plain": [
       "  0%|          | 0/5 [00:00<?, ?it/s]"
      ],
      "application/vnd.jupyter.widget-view+json": {
       "version_major": 2,
       "version_minor": 0,
       "model_id": "55a81345d6b44de79cb06ec44df6cdf8"
      }
     },
     "metadata": {},
     "output_type": "display_data"
    },
    {
     "name": "stdout",
     "output_type": "stream",
     "text": [
      "Loss: 2.4920966625213623\n",
      "Mean_iou: 0.2905690655727686\n",
      "Mean accuracy: 0.5324970985635268\n",
      "Epoch: 31\n"
     ]
    },
    {
     "data": {
      "text/plain": [
       "  0%|          | 0/5 [00:00<?, ?it/s]"
      ],
      "application/vnd.jupyter.widget-view+json": {
       "version_major": 2,
       "version_minor": 0,
       "model_id": "ffb5af5c596c483c82774fcdbb970dc2"
      }
     },
     "metadata": {},
     "output_type": "display_data"
    },
    {
     "name": "stdout",
     "output_type": "stream",
     "text": [
      "Loss: 1.959680199623108\n",
      "Mean_iou: 0.3498247715250476\n",
      "Mean accuracy: 0.56173656367527\n",
      "Epoch: 32\n"
     ]
    },
    {
     "data": {
      "text/plain": [
       "  0%|          | 0/5 [00:00<?, ?it/s]"
      ],
      "application/vnd.jupyter.widget-view+json": {
       "version_major": 2,
       "version_minor": 0,
       "model_id": "4c59d75c63804dab91dfb625b677470c"
      }
     },
     "metadata": {},
     "output_type": "display_data"
    },
    {
     "name": "stdout",
     "output_type": "stream",
     "text": [
      "Loss: 1.1932940483093262\n",
      "Mean_iou: 0.5795049573663867\n",
      "Mean accuracy: 0.6042743495809381\n",
      "Epoch: 33\n"
     ]
    },
    {
     "data": {
      "text/plain": [
       "  0%|          | 0/5 [00:00<?, ?it/s]"
      ],
      "application/vnd.jupyter.widget-view+json": {
       "version_major": 2,
       "version_minor": 0,
       "model_id": "3c97c384426144a990ecedd81e6049d3"
      }
     },
     "metadata": {},
     "output_type": "display_data"
    },
    {
     "name": "stdout",
     "output_type": "stream",
     "text": [
      "Loss: 1.6928702592849731\n",
      "Mean_iou: 0.22613572223150044\n",
      "Mean accuracy: 0.26806387134615334\n",
      "Epoch: 34\n"
     ]
    },
    {
     "data": {
      "text/plain": [
       "  0%|          | 0/5 [00:00<?, ?it/s]"
      ],
      "application/vnd.jupyter.widget-view+json": {
       "version_major": 2,
       "version_minor": 0,
       "model_id": "20ff3dc4fcc243b5a1bb609d1dbde7a2"
      }
     },
     "metadata": {},
     "output_type": "display_data"
    },
    {
     "name": "stdout",
     "output_type": "stream",
     "text": [
      "Loss: 2.0907013416290283\n",
      "Mean_iou: 0.18305425267664296\n",
      "Mean accuracy: 0.3137590220470733\n",
      "Epoch: 35\n"
     ]
    },
    {
     "data": {
      "text/plain": [
       "  0%|          | 0/5 [00:00<?, ?it/s]"
      ],
      "application/vnd.jupyter.widget-view+json": {
       "version_major": 2,
       "version_minor": 0,
       "model_id": "00a556c36ff34f04804c5226262ee57a"
      }
     },
     "metadata": {},
     "output_type": "display_data"
    },
    {
     "name": "stdout",
     "output_type": "stream",
     "text": [
      "Loss: 1.9849849939346313\n",
      "Mean_iou: 0.48259951818290564\n",
      "Mean accuracy: 0.6009452609128677\n",
      "Epoch: 36\n"
     ]
    },
    {
     "data": {
      "text/plain": [
       "  0%|          | 0/5 [00:00<?, ?it/s]"
      ],
      "application/vnd.jupyter.widget-view+json": {
       "version_major": 2,
       "version_minor": 0,
       "model_id": "6f5c56a7266d4a079c41c8fd84aa57da"
      }
     },
     "metadata": {},
     "output_type": "display_data"
    },
    {
     "name": "stdout",
     "output_type": "stream",
     "text": [
      "Loss: 2.027118444442749\n",
      "Mean_iou: 0.28771189076869214\n",
      "Mean accuracy: 0.4825478825476091\n",
      "Epoch: 37\n"
     ]
    },
    {
     "data": {
      "text/plain": [
       "  0%|          | 0/5 [00:00<?, ?it/s]"
      ],
      "application/vnd.jupyter.widget-view+json": {
       "version_major": 2,
       "version_minor": 0,
       "model_id": "2df322fe6b55490ab144b247d7789830"
      }
     },
     "metadata": {},
     "output_type": "display_data"
    },
    {
     "name": "stdout",
     "output_type": "stream",
     "text": [
      "Loss: 1.9680447578430176\n",
      "Mean_iou: 0.19410284150411922\n",
      "Mean accuracy: 0.25672114556646164\n",
      "Epoch: 38\n"
     ]
    },
    {
     "data": {
      "text/plain": [
       "  0%|          | 0/5 [00:00<?, ?it/s]"
      ],
      "application/vnd.jupyter.widget-view+json": {
       "version_major": 2,
       "version_minor": 0,
       "model_id": "854191123bc849e2bbbb04893dad760b"
      }
     },
     "metadata": {},
     "output_type": "display_data"
    },
    {
     "name": "stdout",
     "output_type": "stream",
     "text": [
      "Loss: 1.8248399496078491\n",
      "Mean_iou: 0.35005719858632495\n",
      "Mean accuracy: 0.4692795798284137\n",
      "Epoch: 39\n"
     ]
    },
    {
     "data": {
      "text/plain": [
       "  0%|          | 0/5 [00:00<?, ?it/s]"
      ],
      "application/vnd.jupyter.widget-view+json": {
       "version_major": 2,
       "version_minor": 0,
       "model_id": "3ad3f2184ef247bea892b50860cb439e"
      }
     },
     "metadata": {},
     "output_type": "display_data"
    },
    {
     "name": "stdout",
     "output_type": "stream",
     "text": [
      "Loss: 1.6964988708496094\n",
      "Mean_iou: 0.37447325662861064\n",
      "Mean accuracy: 0.638639561950191\n",
      "Epoch: 40\n"
     ]
    },
    {
     "data": {
      "text/plain": [
       "  0%|          | 0/5 [00:00<?, ?it/s]"
      ],
      "application/vnd.jupyter.widget-view+json": {
       "version_major": 2,
       "version_minor": 0,
       "model_id": "8cb1a9b416434a2ead202a22bd66325e"
      }
     },
     "metadata": {},
     "output_type": "display_data"
    },
    {
     "name": "stdout",
     "output_type": "stream",
     "text": [
      "Loss: 1.7890609502792358\n",
      "Mean_iou: 0.3411025538916438\n",
      "Mean accuracy: 0.4840184783310457\n",
      "Epoch: 41\n"
     ]
    },
    {
     "data": {
      "text/plain": [
       "  0%|          | 0/5 [00:00<?, ?it/s]"
      ],
      "application/vnd.jupyter.widget-view+json": {
       "version_major": 2,
       "version_minor": 0,
       "model_id": "545c4be7b51d4b49a9691fd6556c26d4"
      }
     },
     "metadata": {},
     "output_type": "display_data"
    },
    {
     "name": "stdout",
     "output_type": "stream",
     "text": [
      "Loss: 1.8838144540786743\n",
      "Mean_iou: 0.35165965509151464\n",
      "Mean accuracy: 0.47308854898310293\n",
      "Epoch: 42\n"
     ]
    },
    {
     "data": {
      "text/plain": [
       "  0%|          | 0/5 [00:00<?, ?it/s]"
      ],
      "application/vnd.jupyter.widget-view+json": {
       "version_major": 2,
       "version_minor": 0,
       "model_id": "0fc03d2423964688a619510c360b8845"
      }
     },
     "metadata": {},
     "output_type": "display_data"
    },
    {
     "name": "stdout",
     "output_type": "stream",
     "text": [
      "Loss: 1.9687190055847168\n",
      "Mean_iou: 0.2386203176435451\n",
      "Mean accuracy: 0.39891066980108963\n",
      "Epoch: 43\n"
     ]
    },
    {
     "data": {
      "text/plain": [
       "  0%|          | 0/5 [00:00<?, ?it/s]"
      ],
      "application/vnd.jupyter.widget-view+json": {
       "version_major": 2,
       "version_minor": 0,
       "model_id": "34157dbaf7d146bfb22371536a349694"
      }
     },
     "metadata": {},
     "output_type": "display_data"
    },
    {
     "name": "stdout",
     "output_type": "stream",
     "text": [
      "Loss: 0.9429508447647095\n",
      "Mean_iou: 0.527783538735625\n",
      "Mean accuracy: 0.8181965134862634\n",
      "Epoch: 44\n"
     ]
    },
    {
     "data": {
      "text/plain": [
       "  0%|          | 0/5 [00:00<?, ?it/s]"
      ],
      "application/vnd.jupyter.widget-view+json": {
       "version_major": 2,
       "version_minor": 0,
       "model_id": "ad39c4c7087d441782974b8290592fe4"
      }
     },
     "metadata": {},
     "output_type": "display_data"
    },
    {
     "name": "stdout",
     "output_type": "stream",
     "text": [
      "Loss: 2.069788932800293\n",
      "Mean_iou: 0.22851683507829565\n",
      "Mean accuracy: 0.37637295244448005\n",
      "Epoch: 45\n"
     ]
    },
    {
     "data": {
      "text/plain": [
       "  0%|          | 0/5 [00:00<?, ?it/s]"
      ],
      "application/vnd.jupyter.widget-view+json": {
       "version_major": 2,
       "version_minor": 0,
       "model_id": "6c7864f366c643d49c3ac266ff292d5e"
      }
     },
     "metadata": {},
     "output_type": "display_data"
    },
    {
     "name": "stdout",
     "output_type": "stream",
     "text": [
      "Loss: 1.8487958908081055\n",
      "Mean_iou: 0.24316718387329217\n",
      "Mean accuracy: 0.40099656863756944\n",
      "Epoch: 46\n"
     ]
    },
    {
     "data": {
      "text/plain": [
       "  0%|          | 0/5 [00:00<?, ?it/s]"
      ],
      "application/vnd.jupyter.widget-view+json": {
       "version_major": 2,
       "version_minor": 0,
       "model_id": "15eb53e0ce0c4a9fbac4dd0a82c2a77e"
      }
     },
     "metadata": {},
     "output_type": "display_data"
    },
    {
     "name": "stdout",
     "output_type": "stream",
     "text": [
      "Loss: 1.839422583580017\n",
      "Mean_iou: 0.3301505712176008\n",
      "Mean accuracy: 0.4854820704755408\n",
      "Epoch: 47\n"
     ]
    },
    {
     "data": {
      "text/plain": [
       "  0%|          | 0/5 [00:00<?, ?it/s]"
      ],
      "application/vnd.jupyter.widget-view+json": {
       "version_major": 2,
       "version_minor": 0,
       "model_id": "ca5da65f93404dd6819b80ac5d34f0e3"
      }
     },
     "metadata": {},
     "output_type": "display_data"
    },
    {
     "name": "stdout",
     "output_type": "stream",
     "text": [
      "Loss: 1.2772928476333618\n",
      "Mean_iou: 0.3078125298502975\n",
      "Mean accuracy: 0.524030100199853\n",
      "Epoch: 48\n"
     ]
    },
    {
     "data": {
      "text/plain": [
       "  0%|          | 0/5 [00:00<?, ?it/s]"
      ],
      "application/vnd.jupyter.widget-view+json": {
       "version_major": 2,
       "version_minor": 0,
       "model_id": "0de74bd94e2d4746aeb6475f1509a6e2"
      }
     },
     "metadata": {},
     "output_type": "display_data"
    },
    {
     "name": "stdout",
     "output_type": "stream",
     "text": [
      "Loss: 1.7031099796295166\n",
      "Mean_iou: 0.24514402762412554\n",
      "Mean accuracy: 0.3146318575296035\n",
      "Epoch: 49\n"
     ]
    },
    {
     "data": {
      "text/plain": [
       "  0%|          | 0/5 [00:00<?, ?it/s]"
      ],
      "application/vnd.jupyter.widget-view+json": {
       "version_major": 2,
       "version_minor": 0,
       "model_id": "27b8b710224f4823a846bfab48ee161b"
      }
     },
     "metadata": {},
     "output_type": "display_data"
    },
    {
     "name": "stdout",
     "output_type": "stream",
     "text": [
      "Loss: 1.2647117376327515\n",
      "Mean_iou: 0.351082882890926\n",
      "Mean accuracy: 0.5400058854656741\n",
      "Epoch: 50\n"
     ]
    },
    {
     "data": {
      "text/plain": [
       "  0%|          | 0/5 [00:00<?, ?it/s]"
      ],
      "application/vnd.jupyter.widget-view+json": {
       "version_major": 2,
       "version_minor": 0,
       "model_id": "f536e979ae224c09a1b172955247c233"
      }
     },
     "metadata": {},
     "output_type": "display_data"
    },
    {
     "name": "stdout",
     "output_type": "stream",
     "text": [
      "Loss: 1.2875407934188843\n",
      "Mean_iou: 0.2767661558810932\n",
      "Mean accuracy: 0.37077900471660497\n",
      "Epoch: 51\n"
     ]
    },
    {
     "data": {
      "text/plain": [
       "  0%|          | 0/5 [00:00<?, ?it/s]"
      ],
      "application/vnd.jupyter.widget-view+json": {
       "version_major": 2,
       "version_minor": 0,
       "model_id": "2ed88c7671ea4e06b4862093cb754b71"
      }
     },
     "metadata": {},
     "output_type": "display_data"
    },
    {
     "name": "stdout",
     "output_type": "stream",
     "text": [
      "Loss: 1.4423857927322388\n",
      "Mean_iou: 0.38283267814320326\n",
      "Mean accuracy: 0.47640902396734597\n",
      "Epoch: 52\n"
     ]
    },
    {
     "data": {
      "text/plain": [
       "  0%|          | 0/5 [00:00<?, ?it/s]"
      ],
      "application/vnd.jupyter.widget-view+json": {
       "version_major": 2,
       "version_minor": 0,
       "model_id": "61f1804746b248089b65b293df69a235"
      }
     },
     "metadata": {},
     "output_type": "display_data"
    },
    {
     "name": "stdout",
     "output_type": "stream",
     "text": [
      "Loss: 1.5226879119873047\n",
      "Mean_iou: 0.41056377663877874\n",
      "Mean accuracy: 0.6494435827387238\n",
      "Epoch: 53\n"
     ]
    },
    {
     "data": {
      "text/plain": [
       "  0%|          | 0/5 [00:00<?, ?it/s]"
      ],
      "application/vnd.jupyter.widget-view+json": {
       "version_major": 2,
       "version_minor": 0,
       "model_id": "8bfc8c47ebe3436388853b2efa270308"
      }
     },
     "metadata": {},
     "output_type": "display_data"
    },
    {
     "name": "stdout",
     "output_type": "stream",
     "text": [
      "Loss: 1.6068670749664307\n",
      "Mean_iou: 0.17543427741985662\n",
      "Mean accuracy: 0.2537038259714351\n",
      "Epoch: 54\n"
     ]
    },
    {
     "data": {
      "text/plain": [
       "  0%|          | 0/5 [00:00<?, ?it/s]"
      ],
      "application/vnd.jupyter.widget-view+json": {
       "version_major": 2,
       "version_minor": 0,
       "model_id": "0819f0f6cb3f46219f3c50cb5e04b767"
      }
     },
     "metadata": {},
     "output_type": "display_data"
    },
    {
     "name": "stdout",
     "output_type": "stream",
     "text": [
      "Loss: 1.2680453062057495\n",
      "Mean_iou: 0.5730640999893833\n",
      "Mean accuracy: 0.6536114245370227\n",
      "Epoch: 55\n"
     ]
    },
    {
     "data": {
      "text/plain": [
       "  0%|          | 0/5 [00:00<?, ?it/s]"
      ],
      "application/vnd.jupyter.widget-view+json": {
       "version_major": 2,
       "version_minor": 0,
       "model_id": "33f2e4c18c4c4c609ab744d5c674ffae"
      }
     },
     "metadata": {},
     "output_type": "display_data"
    },
    {
     "name": "stdout",
     "output_type": "stream",
     "text": [
      "Loss: 1.0328549146652222\n",
      "Mean_iou: 0.42030477737974414\n",
      "Mean accuracy: 0.5208739684345227\n",
      "Epoch: 56\n"
     ]
    },
    {
     "data": {
      "text/plain": [
       "  0%|          | 0/5 [00:00<?, ?it/s]"
      ],
      "application/vnd.jupyter.widget-view+json": {
       "version_major": 2,
       "version_minor": 0,
       "model_id": "5d0a83acaaac4e8c86fb2b9ab819d54e"
      }
     },
     "metadata": {},
     "output_type": "display_data"
    },
    {
     "name": "stdout",
     "output_type": "stream",
     "text": [
      "Loss: 0.9989155530929565\n",
      "Mean_iou: 0.415200203755777\n",
      "Mean accuracy: 0.5450079541891536\n",
      "Epoch: 57\n"
     ]
    },
    {
     "data": {
      "text/plain": [
       "  0%|          | 0/5 [00:00<?, ?it/s]"
      ],
      "application/vnd.jupyter.widget-view+json": {
       "version_major": 2,
       "version_minor": 0,
       "model_id": "b5b57c22b7f84801ae6e616830dcb38e"
      }
     },
     "metadata": {},
     "output_type": "display_data"
    },
    {
     "name": "stdout",
     "output_type": "stream",
     "text": [
      "Loss: 1.4360874891281128\n",
      "Mean_iou: 0.23054754939029062\n",
      "Mean accuracy: 0.3545755663744913\n",
      "Epoch: 58\n"
     ]
    },
    {
     "data": {
      "text/plain": [
       "  0%|          | 0/5 [00:00<?, ?it/s]"
      ],
      "application/vnd.jupyter.widget-view+json": {
       "version_major": 2,
       "version_minor": 0,
       "model_id": "28b5a8fff98348eaa10302c3e9603922"
      }
     },
     "metadata": {},
     "output_type": "display_data"
    },
    {
     "name": "stdout",
     "output_type": "stream",
     "text": [
      "Loss: 1.4140615463256836\n",
      "Mean_iou: 0.3315346514549103\n",
      "Mean accuracy: 0.4429247722196062\n",
      "Epoch: 59\n"
     ]
    },
    {
     "data": {
      "text/plain": [
       "  0%|          | 0/5 [00:00<?, ?it/s]"
      ],
      "application/vnd.jupyter.widget-view+json": {
       "version_major": 2,
       "version_minor": 0,
       "model_id": "3dec0088c22e404c827e06c1bf228faa"
      }
     },
     "metadata": {},
     "output_type": "display_data"
    },
    {
     "name": "stdout",
     "output_type": "stream",
     "text": [
      "Loss: 1.5262888669967651\n",
      "Mean_iou: 0.13232675480368442\n",
      "Mean accuracy: 0.21762442963838513\n",
      "Epoch: 60\n"
     ]
    },
    {
     "data": {
      "text/plain": [
       "  0%|          | 0/5 [00:00<?, ?it/s]"
      ],
      "application/vnd.jupyter.widget-view+json": {
       "version_major": 2,
       "version_minor": 0,
       "model_id": "8c9d750dde984203bddb32a241ba576e"
      }
     },
     "metadata": {},
     "output_type": "display_data"
    },
    {
     "name": "stdout",
     "output_type": "stream",
     "text": [
      "Loss: 1.4491591453552246\n",
      "Mean_iou: 0.4216787280250195\n",
      "Mean accuracy: 0.550684526817888\n",
      "Epoch: 61\n"
     ]
    },
    {
     "data": {
      "text/plain": [
       "  0%|          | 0/5 [00:00<?, ?it/s]"
      ],
      "application/vnd.jupyter.widget-view+json": {
       "version_major": 2,
       "version_minor": 0,
       "model_id": "64dff216842f47968f055b79c3ab8768"
      }
     },
     "metadata": {},
     "output_type": "display_data"
    },
    {
     "name": "stdout",
     "output_type": "stream",
     "text": [
      "Loss: 1.0028901100158691\n",
      "Mean_iou: 0.39954483036277433\n",
      "Mean accuracy: 0.5261952992003607\n",
      "Epoch: 62\n"
     ]
    },
    {
     "data": {
      "text/plain": [
       "  0%|          | 0/5 [00:00<?, ?it/s]"
      ],
      "application/vnd.jupyter.widget-view+json": {
       "version_major": 2,
       "version_minor": 0,
       "model_id": "19f48d9d7cb24432b06fb0db4a0c2c3b"
      }
     },
     "metadata": {},
     "output_type": "display_data"
    },
    {
     "name": "stdout",
     "output_type": "stream",
     "text": [
      "Loss: 1.1121618747711182\n",
      "Mean_iou: 0.2522753826587376\n",
      "Mean accuracy: 0.37119569594144464\n",
      "Epoch: 63\n"
     ]
    },
    {
     "data": {
      "text/plain": [
       "  0%|          | 0/5 [00:00<?, ?it/s]"
      ],
      "application/vnd.jupyter.widget-view+json": {
       "version_major": 2,
       "version_minor": 0,
       "model_id": "15065de52d324bb3a7ee823f0935fa32"
      }
     },
     "metadata": {},
     "output_type": "display_data"
    },
    {
     "name": "stdout",
     "output_type": "stream",
     "text": [
      "Loss: 0.7581584453582764\n",
      "Mean_iou: 0.42210800651148467\n",
      "Mean accuracy: 0.5180257709104599\n",
      "Epoch: 64\n"
     ]
    },
    {
     "data": {
      "text/plain": [
       "  0%|          | 0/5 [00:00<?, ?it/s]"
      ],
      "application/vnd.jupyter.widget-view+json": {
       "version_major": 2,
       "version_minor": 0,
       "model_id": "0c1836ad0ca1411fbec731775dfb32d0"
      }
     },
     "metadata": {},
     "output_type": "display_data"
    },
    {
     "name": "stdout",
     "output_type": "stream",
     "text": [
      "Loss: 1.0556433200836182\n",
      "Mean_iou: 0.4866759743590457\n",
      "Mean accuracy: 0.6983801263643858\n",
      "Epoch: 65\n"
     ]
    },
    {
     "data": {
      "text/plain": [
       "  0%|          | 0/5 [00:00<?, ?it/s]"
      ],
      "application/vnd.jupyter.widget-view+json": {
       "version_major": 2,
       "version_minor": 0,
       "model_id": "da38da8b68c141f68367f3cb3cb4479d"
      }
     },
     "metadata": {},
     "output_type": "display_data"
    },
    {
     "name": "stdout",
     "output_type": "stream",
     "text": [
      "Loss: 1.1468387842178345\n",
      "Mean_iou: 0.4827205831056656\n",
      "Mean accuracy: 0.5884913958808645\n",
      "Epoch: 66\n"
     ]
    },
    {
     "data": {
      "text/plain": [
       "  0%|          | 0/5 [00:00<?, ?it/s]"
      ],
      "application/vnd.jupyter.widget-view+json": {
       "version_major": 2,
       "version_minor": 0,
       "model_id": "fe07c37bfeee4398b8cd9553b124770a"
      }
     },
     "metadata": {},
     "output_type": "display_data"
    },
    {
     "name": "stdout",
     "output_type": "stream",
     "text": [
      "Loss: 1.0546289682388306\n",
      "Mean_iou: 0.2362468040451737\n",
      "Mean accuracy: 0.37637378094279766\n",
      "Epoch: 67\n"
     ]
    },
    {
     "data": {
      "text/plain": [
       "  0%|          | 0/5 [00:00<?, ?it/s]"
      ],
      "application/vnd.jupyter.widget-view+json": {
       "version_major": 2,
       "version_minor": 0,
       "model_id": "ab05d9811c754f3da985597f159a43f8"
      }
     },
     "metadata": {},
     "output_type": "display_data"
    },
    {
     "name": "stdout",
     "output_type": "stream",
     "text": [
      "Loss: 1.1133168935775757\n",
      "Mean_iou: 0.40301379829917\n",
      "Mean accuracy: 0.4814687567689636\n",
      "Epoch: 68\n"
     ]
    },
    {
     "data": {
      "text/plain": [
       "  0%|          | 0/5 [00:00<?, ?it/s]"
      ],
      "application/vnd.jupyter.widget-view+json": {
       "version_major": 2,
       "version_minor": 0,
       "model_id": "9377233e23194b809e765deedb5090bf"
      }
     },
     "metadata": {},
     "output_type": "display_data"
    },
    {
     "name": "stdout",
     "output_type": "stream",
     "text": [
      "Loss: 1.145336389541626\n",
      "Mean_iou: 0.2891247405845195\n",
      "Mean accuracy: 0.3740504458119756\n",
      "Epoch: 69\n"
     ]
    },
    {
     "data": {
      "text/plain": [
       "  0%|          | 0/5 [00:00<?, ?it/s]"
      ],
      "application/vnd.jupyter.widget-view+json": {
       "version_major": 2,
       "version_minor": 0,
       "model_id": "a4c0d9696f654c29aafbade12de8863a"
      }
     },
     "metadata": {},
     "output_type": "display_data"
    },
    {
     "name": "stdout",
     "output_type": "stream",
     "text": [
      "Loss: 1.2530113458633423\n",
      "Mean_iou: 0.29416319946093783\n",
      "Mean accuracy: 0.3820201839544098\n",
      "Epoch: 70\n"
     ]
    },
    {
     "data": {
      "text/plain": [
       "  0%|          | 0/5 [00:00<?, ?it/s]"
      ],
      "application/vnd.jupyter.widget-view+json": {
       "version_major": 2,
       "version_minor": 0,
       "model_id": "5b0ad5403583433ea29ae809d627e152"
      }
     },
     "metadata": {},
     "output_type": "display_data"
    },
    {
     "name": "stdout",
     "output_type": "stream",
     "text": [
      "Loss: 0.9775995016098022\n",
      "Mean_iou: 0.3210633280200059\n",
      "Mean accuracy: 0.569894999293705\n",
      "Epoch: 71\n"
     ]
    },
    {
     "data": {
      "text/plain": [
       "  0%|          | 0/5 [00:00<?, ?it/s]"
      ],
      "application/vnd.jupyter.widget-view+json": {
       "version_major": 2,
       "version_minor": 0,
       "model_id": "2c66e8a887e74a13a3af55574d53da21"
      }
     },
     "metadata": {},
     "output_type": "display_data"
    },
    {
     "name": "stdout",
     "output_type": "stream",
     "text": [
      "Loss: 1.024071455001831\n",
      "Mean_iou: 0.21640306322866149\n",
      "Mean accuracy: 0.35855571747639414\n",
      "Epoch: 72\n"
     ]
    },
    {
     "data": {
      "text/plain": [
       "  0%|          | 0/5 [00:00<?, ?it/s]"
      ],
      "application/vnd.jupyter.widget-view+json": {
       "version_major": 2,
       "version_minor": 0,
       "model_id": "ff3b83afd1a341a5ae1e471d8a689974"
      }
     },
     "metadata": {},
     "output_type": "display_data"
    },
    {
     "name": "stdout",
     "output_type": "stream",
     "text": [
      "Loss: 1.0080848932266235\n",
      "Mean_iou: 0.1720972153922441\n",
      "Mean accuracy: 0.2339347087058039\n",
      "Epoch: 73\n"
     ]
    },
    {
     "data": {
      "text/plain": [
       "  0%|          | 0/5 [00:00<?, ?it/s]"
      ],
      "application/vnd.jupyter.widget-view+json": {
       "version_major": 2,
       "version_minor": 0,
       "model_id": "2cb4966b395742d4a1746d9258ade3aa"
      }
     },
     "metadata": {},
     "output_type": "display_data"
    },
    {
     "name": "stdout",
     "output_type": "stream",
     "text": [
      "Loss: 0.8179461359977722\n",
      "Mean_iou: 0.28762161196119823\n",
      "Mean accuracy: 0.3298692299751174\n",
      "Epoch: 74\n"
     ]
    },
    {
     "data": {
      "text/plain": [
       "  0%|          | 0/5 [00:00<?, ?it/s]"
      ],
      "application/vnd.jupyter.widget-view+json": {
       "version_major": 2,
       "version_minor": 0,
       "model_id": "507fcad5a81f433a9b16218b9dbe22b3"
      }
     },
     "metadata": {},
     "output_type": "display_data"
    },
    {
     "name": "stdout",
     "output_type": "stream",
     "text": [
      "Loss: 1.181166410446167\n",
      "Mean_iou: 0.23298486051157544\n",
      "Mean accuracy: 0.3077203955294847\n",
      "Epoch: 75\n"
     ]
    },
    {
     "data": {
      "text/plain": [
       "  0%|          | 0/5 [00:00<?, ?it/s]"
      ],
      "application/vnd.jupyter.widget-view+json": {
       "version_major": 2,
       "version_minor": 0,
       "model_id": "7c4851194f254740907aca97198a3faf"
      }
     },
     "metadata": {},
     "output_type": "display_data"
    },
    {
     "name": "stdout",
     "output_type": "stream",
     "text": [
      "Loss: 0.8686019778251648\n",
      "Mean_iou: 0.22196733371754374\n",
      "Mean accuracy: 0.37661566063311874\n",
      "Epoch: 76\n"
     ]
    },
    {
     "data": {
      "text/plain": [
       "  0%|          | 0/5 [00:00<?, ?it/s]"
      ],
      "application/vnd.jupyter.widget-view+json": {
       "version_major": 2,
       "version_minor": 0,
       "model_id": "b07e1caaf5834cbcb764bc2c4086ac88"
      }
     },
     "metadata": {},
     "output_type": "display_data"
    },
    {
     "name": "stdout",
     "output_type": "stream",
     "text": [
      "Loss: 0.9150987267494202\n",
      "Mean_iou: 0.42281097698649556\n",
      "Mean accuracy: 0.5219734012079962\n",
      "Epoch: 77\n"
     ]
    },
    {
     "data": {
      "text/plain": [
       "  0%|          | 0/5 [00:00<?, ?it/s]"
      ],
      "application/vnd.jupyter.widget-view+json": {
       "version_major": 2,
       "version_minor": 0,
       "model_id": "03a86d1af637490db817fe8ddfc63cd7"
      }
     },
     "metadata": {},
     "output_type": "display_data"
    },
    {
     "name": "stdout",
     "output_type": "stream",
     "text": [
      "Loss: 1.0526789426803589\n",
      "Mean_iou: 0.4105952367267914\n",
      "Mean accuracy: 0.4883958414042979\n",
      "Epoch: 78\n"
     ]
    },
    {
     "data": {
      "text/plain": [
       "  0%|          | 0/5 [00:00<?, ?it/s]"
      ],
      "application/vnd.jupyter.widget-view+json": {
       "version_major": 2,
       "version_minor": 0,
       "model_id": "6861154275e2447482127cbeda508b77"
      }
     },
     "metadata": {},
     "output_type": "display_data"
    },
    {
     "name": "stdout",
     "output_type": "stream",
     "text": [
      "Loss: 0.977301836013794\n",
      "Mean_iou: 0.5368784867397762\n",
      "Mean accuracy: 0.6021272141030726\n",
      "Epoch: 79\n"
     ]
    },
    {
     "data": {
      "text/plain": [
       "  0%|          | 0/5 [00:00<?, ?it/s]"
      ],
      "application/vnd.jupyter.widget-view+json": {
       "version_major": 2,
       "version_minor": 0,
       "model_id": "cb73beeeeff5477795a714d812f71095"
      }
     },
     "metadata": {},
     "output_type": "display_data"
    },
    {
     "name": "stdout",
     "output_type": "stream",
     "text": [
      "Loss: 0.9145382642745972\n",
      "Mean_iou: 0.2635699774569565\n",
      "Mean accuracy: 0.3249008853184176\n",
      "Epoch: 80\n"
     ]
    },
    {
     "data": {
      "text/plain": [
       "  0%|          | 0/5 [00:00<?, ?it/s]"
      ],
      "application/vnd.jupyter.widget-view+json": {
       "version_major": 2,
       "version_minor": 0,
       "model_id": "da1afcbec3684d26ba5c817864946b45"
      }
     },
     "metadata": {},
     "output_type": "display_data"
    },
    {
     "name": "stdout",
     "output_type": "stream",
     "text": [
      "Loss: 0.539073646068573\n",
      "Mean_iou: 0.4460748135186879\n",
      "Mean accuracy: 0.5229219310642674\n",
      "Epoch: 81\n"
     ]
    },
    {
     "data": {
      "text/plain": [
       "  0%|          | 0/5 [00:00<?, ?it/s]"
      ],
      "application/vnd.jupyter.widget-view+json": {
       "version_major": 2,
       "version_minor": 0,
       "model_id": "5cb0656019f6413bbd9df83810842151"
      }
     },
     "metadata": {},
     "output_type": "display_data"
    },
    {
     "name": "stdout",
     "output_type": "stream",
     "text": [
      "Loss: 1.0687353610992432\n",
      "Mean_iou: 0.16916505369849763\n",
      "Mean accuracy: 0.24799627256348136\n",
      "Epoch: 82\n"
     ]
    },
    {
     "data": {
      "text/plain": [
       "  0%|          | 0/5 [00:00<?, ?it/s]"
      ],
      "application/vnd.jupyter.widget-view+json": {
       "version_major": 2,
       "version_minor": 0,
       "model_id": "1a562960673a480197b59951489c1a84"
      }
     },
     "metadata": {},
     "output_type": "display_data"
    },
    {
     "name": "stdout",
     "output_type": "stream",
     "text": [
      "Loss: 1.1027848720550537\n",
      "Mean_iou: 0.31015621686629974\n",
      "Mean accuracy: 0.4021574546356967\n",
      "Epoch: 83\n"
     ]
    },
    {
     "data": {
      "text/plain": [
       "  0%|          | 0/5 [00:00<?, ?it/s]"
      ],
      "application/vnd.jupyter.widget-view+json": {
       "version_major": 2,
       "version_minor": 0,
       "model_id": "1912edb558a745bb8eaf5026d2af6e47"
      }
     },
     "metadata": {},
     "output_type": "display_data"
    },
    {
     "name": "stdout",
     "output_type": "stream",
     "text": [
      "Loss: 0.8838415741920471\n",
      "Mean_iou: 0.6933670756021664\n",
      "Mean accuracy: 0.7753426008515815\n",
      "Epoch: 84\n"
     ]
    },
    {
     "data": {
      "text/plain": [
       "  0%|          | 0/5 [00:00<?, ?it/s]"
      ],
      "application/vnd.jupyter.widget-view+json": {
       "version_major": 2,
       "version_minor": 0,
       "model_id": "cc296241d87a4180895e9bfd5c07bda1"
      }
     },
     "metadata": {},
     "output_type": "display_data"
    },
    {
     "name": "stdout",
     "output_type": "stream",
     "text": [
      "Loss: 1.0340317487716675\n",
      "Mean_iou: 0.4532617808131047\n",
      "Mean accuracy: 0.5859357426668811\n",
      "Epoch: 85\n"
     ]
    },
    {
     "data": {
      "text/plain": [
       "  0%|          | 0/5 [00:00<?, ?it/s]"
      ],
      "application/vnd.jupyter.widget-view+json": {
       "version_major": 2,
       "version_minor": 0,
       "model_id": "732dc417320c40599b432a71147a4fff"
      }
     },
     "metadata": {},
     "output_type": "display_data"
    },
    {
     "name": "stdout",
     "output_type": "stream",
     "text": [
      "Loss: 0.4280637502670288\n",
      "Mean_iou: 0.725177282931948\n",
      "Mean accuracy: 0.8544971849767273\n",
      "Epoch: 86\n"
     ]
    },
    {
     "data": {
      "text/plain": [
       "  0%|          | 0/5 [00:00<?, ?it/s]"
      ],
      "application/vnd.jupyter.widget-view+json": {
       "version_major": 2,
       "version_minor": 0,
       "model_id": "d0288d735a154cd8803794ebed6b598f"
      }
     },
     "metadata": {},
     "output_type": "display_data"
    },
    {
     "name": "stdout",
     "output_type": "stream",
     "text": [
      "Loss: 0.8939526081085205\n",
      "Mean_iou: 0.40675409828602\n",
      "Mean accuracy: 0.49121469949903823\n",
      "Epoch: 87\n"
     ]
    },
    {
     "data": {
      "text/plain": [
       "  0%|          | 0/5 [00:00<?, ?it/s]"
      ],
      "application/vnd.jupyter.widget-view+json": {
       "version_major": 2,
       "version_minor": 0,
       "model_id": "5555656232cc4bba9bec002a8877fe38"
      }
     },
     "metadata": {},
     "output_type": "display_data"
    },
    {
     "name": "stdout",
     "output_type": "stream",
     "text": [
      "Loss: 0.9357722997665405\n",
      "Mean_iou: 0.40433533216737555\n",
      "Mean accuracy: 0.4844668683564424\n",
      "Epoch: 88\n"
     ]
    },
    {
     "data": {
      "text/plain": [
       "  0%|          | 0/5 [00:00<?, ?it/s]"
      ],
      "application/vnd.jupyter.widget-view+json": {
       "version_major": 2,
       "version_minor": 0,
       "model_id": "b9841c9b41f14a87813ae5c2ec05b3cd"
      }
     },
     "metadata": {},
     "output_type": "display_data"
    },
    {
     "name": "stdout",
     "output_type": "stream",
     "text": [
      "Loss: 0.987067461013794\n",
      "Mean_iou: 0.4335873022404822\n",
      "Mean accuracy: 0.4997776862069636\n",
      "Epoch: 89\n"
     ]
    },
    {
     "data": {
      "text/plain": [
       "  0%|          | 0/5 [00:00<?, ?it/s]"
      ],
      "application/vnd.jupyter.widget-view+json": {
       "version_major": 2,
       "version_minor": 0,
       "model_id": "9a01ba85ccce4fb1be920cb322275b36"
      }
     },
     "metadata": {},
     "output_type": "display_data"
    },
    {
     "name": "stdout",
     "output_type": "stream",
     "text": [
      "Loss: 1.0236014127731323\n",
      "Mean_iou: 0.3451213677805676\n",
      "Mean accuracy: 0.4231071477667158\n",
      "Epoch: 90\n"
     ]
    },
    {
     "data": {
      "text/plain": [
       "  0%|          | 0/5 [00:00<?, ?it/s]"
      ],
      "application/vnd.jupyter.widget-view+json": {
       "version_major": 2,
       "version_minor": 0,
       "model_id": "54f055a0be384871a1aaaecc3574524d"
      }
     },
     "metadata": {},
     "output_type": "display_data"
    },
    {
     "name": "stdout",
     "output_type": "stream",
     "text": [
      "Loss: 0.42874816060066223\n",
      "Mean_iou: 0.5707063306703555\n",
      "Mean accuracy: 0.781067864545804\n",
      "Epoch: 91\n"
     ]
    },
    {
     "data": {
      "text/plain": [
       "  0%|          | 0/5 [00:00<?, ?it/s]"
      ],
      "application/vnd.jupyter.widget-view+json": {
       "version_major": 2,
       "version_minor": 0,
       "model_id": "27df9acf8a394f29a9796f786f60809a"
      }
     },
     "metadata": {},
     "output_type": "display_data"
    },
    {
     "name": "stdout",
     "output_type": "stream",
     "text": [
      "Loss: 0.6018391847610474\n",
      "Mean_iou: 0.41237815739326533\n",
      "Mean accuracy: 0.503356031113373\n",
      "Epoch: 92\n"
     ]
    },
    {
     "data": {
      "text/plain": [
       "  0%|          | 0/5 [00:00<?, ?it/s]"
      ],
      "application/vnd.jupyter.widget-view+json": {
       "version_major": 2,
       "version_minor": 0,
       "model_id": "2d035f0850a54d0784d6773e0929af6d"
      }
     },
     "metadata": {},
     "output_type": "display_data"
    },
    {
     "name": "stdout",
     "output_type": "stream",
     "text": [
      "Loss: 1.0428231954574585\n",
      "Mean_iou: 0.3868029741285557\n",
      "Mean accuracy: 0.48221331016977376\n",
      "Epoch: 93\n"
     ]
    },
    {
     "data": {
      "text/plain": [
       "  0%|          | 0/5 [00:00<?, ?it/s]"
      ],
      "application/vnd.jupyter.widget-view+json": {
       "version_major": 2,
       "version_minor": 0,
       "model_id": "2175ee682aa14e2fb50774b24f2bbe23"
      }
     },
     "metadata": {},
     "output_type": "display_data"
    },
    {
     "name": "stdout",
     "output_type": "stream",
     "text": [
      "Loss: 0.6312523484230042\n",
      "Mean_iou: 0.5691537165280165\n",
      "Mean accuracy: 0.6034790965626697\n",
      "Epoch: 94\n"
     ]
    },
    {
     "data": {
      "text/plain": [
       "  0%|          | 0/5 [00:00<?, ?it/s]"
      ],
      "application/vnd.jupyter.widget-view+json": {
       "version_major": 2,
       "version_minor": 0,
       "model_id": "9ec7abbfeac542cc9d762d5ac2290861"
      }
     },
     "metadata": {},
     "output_type": "display_data"
    },
    {
     "name": "stdout",
     "output_type": "stream",
     "text": [
      "Loss: 0.5787155628204346\n",
      "Mean_iou: 0.3113337747202379\n",
      "Mean accuracy: 0.6181964615353709\n",
      "Epoch: 95\n"
     ]
    },
    {
     "data": {
      "text/plain": [
       "  0%|          | 0/5 [00:00<?, ?it/s]"
      ],
      "application/vnd.jupyter.widget-view+json": {
       "version_major": 2,
       "version_minor": 0,
       "model_id": "fe539ae8a77a409b9a56ab1c3fe2d3d1"
      }
     },
     "metadata": {},
     "output_type": "display_data"
    },
    {
     "name": "stdout",
     "output_type": "stream",
     "text": [
      "Loss: 0.6159507036209106\n",
      "Mean_iou: 0.36298753668887696\n",
      "Mean accuracy: 0.5111354687371332\n",
      "Epoch: 96\n"
     ]
    },
    {
     "data": {
      "text/plain": [
       "  0%|          | 0/5 [00:00<?, ?it/s]"
      ],
      "application/vnd.jupyter.widget-view+json": {
       "version_major": 2,
       "version_minor": 0,
       "model_id": "c3966c9b6d794e4483d57c1d940e41c1"
      }
     },
     "metadata": {},
     "output_type": "display_data"
    },
    {
     "name": "stdout",
     "output_type": "stream",
     "text": [
      "Loss: 0.7189459800720215\n",
      "Mean_iou: 0.5731724897020415\n",
      "Mean accuracy: 0.6155618485440114\n",
      "Epoch: 97\n"
     ]
    },
    {
     "data": {
      "text/plain": [
       "  0%|          | 0/5 [00:00<?, ?it/s]"
      ],
      "application/vnd.jupyter.widget-view+json": {
       "version_major": 2,
       "version_minor": 0,
       "model_id": "5d4ba3557a5141c2944cc2ce54f0c70d"
      }
     },
     "metadata": {},
     "output_type": "display_data"
    },
    {
     "name": "stdout",
     "output_type": "stream",
     "text": [
      "Loss: 0.6014612913131714\n",
      "Mean_iou: 0.3802009807114981\n",
      "Mean accuracy: 0.5281013356238209\n",
      "Epoch: 98\n"
     ]
    },
    {
     "data": {
      "text/plain": [
       "  0%|          | 0/5 [00:00<?, ?it/s]"
      ],
      "application/vnd.jupyter.widget-view+json": {
       "version_major": 2,
       "version_minor": 0,
       "model_id": "ec153c73fc2e44f697b97a8456d86241"
      }
     },
     "metadata": {},
     "output_type": "display_data"
    },
    {
     "name": "stdout",
     "output_type": "stream",
     "text": [
      "Loss: 0.4744305908679962\n",
      "Mean_iou: 0.36162773676022597\n",
      "Mean accuracy: 0.5484689294620325\n",
      "Epoch: 99\n"
     ]
    },
    {
     "data": {
      "text/plain": [
       "  0%|          | 0/5 [00:00<?, ?it/s]"
      ],
      "application/vnd.jupyter.widget-view+json": {
       "version_major": 2,
       "version_minor": 0,
       "model_id": "7eb929abe07b4859a3b8fe52c30abbf7"
      }
     },
     "metadata": {},
     "output_type": "display_data"
    },
    {
     "name": "stdout",
     "output_type": "stream",
     "text": [
      "Loss: 0.7735171914100647\n",
      "Mean_iou: 0.3460366680528789\n",
      "Mean accuracy: 0.48834200925299454\n",
      "Epoch: 100\n"
     ]
    },
    {
     "data": {
      "text/plain": [
       "  0%|          | 0/5 [00:00<?, ?it/s]"
      ],
      "application/vnd.jupyter.widget-view+json": {
       "version_major": 2,
       "version_minor": 0,
       "model_id": "6b376fcc3dfd4e9d8c6599b85623214a"
      }
     },
     "metadata": {},
     "output_type": "display_data"
    },
    {
     "name": "stdout",
     "output_type": "stream",
     "text": [
      "Loss: 0.6823651790618896\n",
      "Mean_iou: 0.3059626494547607\n",
      "Mean accuracy: 0.34964975860313663\n",
      "Epoch: 101\n"
     ]
    },
    {
     "data": {
      "text/plain": [
       "  0%|          | 0/5 [00:00<?, ?it/s]"
      ],
      "application/vnd.jupyter.widget-view+json": {
       "version_major": 2,
       "version_minor": 0,
       "model_id": "c8dfc0203dcf4ea2b0ca8457430c4ee8"
      }
     },
     "metadata": {},
     "output_type": "display_data"
    },
    {
     "name": "stdout",
     "output_type": "stream",
     "text": [
      "Loss: 0.7371849417686462\n",
      "Mean_iou: 0.4537817771128223\n",
      "Mean accuracy: 0.5399376206329265\n",
      "Epoch: 102\n"
     ]
    },
    {
     "data": {
      "text/plain": [
       "  0%|          | 0/5 [00:00<?, ?it/s]"
      ],
      "application/vnd.jupyter.widget-view+json": {
       "version_major": 2,
       "version_minor": 0,
       "model_id": "492d69f0a530433f9c3226d28c3c3ef4"
      }
     },
     "metadata": {},
     "output_type": "display_data"
    },
    {
     "name": "stdout",
     "output_type": "stream",
     "text": [
      "Loss: 0.7468818426132202\n",
      "Mean_iou: 0.37693627175249456\n",
      "Mean accuracy: 0.47400308396187346\n",
      "Epoch: 103\n"
     ]
    },
    {
     "data": {
      "text/plain": [
       "  0%|          | 0/5 [00:00<?, ?it/s]"
      ],
      "application/vnd.jupyter.widget-view+json": {
       "version_major": 2,
       "version_minor": 0,
       "model_id": "bc5ab6e7ff934276872b800cb0a53314"
      }
     },
     "metadata": {},
     "output_type": "display_data"
    },
    {
     "name": "stdout",
     "output_type": "stream",
     "text": [
      "Loss: 0.4325718879699707\n",
      "Mean_iou: 0.38720839155793896\n",
      "Mean accuracy: 0.6273306242503605\n",
      "Epoch: 104\n"
     ]
    },
    {
     "data": {
      "text/plain": [
       "  0%|          | 0/5 [00:00<?, ?it/s]"
      ],
      "application/vnd.jupyter.widget-view+json": {
       "version_major": 2,
       "version_minor": 0,
       "model_id": "67a63329485a444a8154df46622e4523"
      }
     },
     "metadata": {},
     "output_type": "display_data"
    },
    {
     "name": "stdout",
     "output_type": "stream",
     "text": [
      "Loss: 0.8094759583473206\n",
      "Mean_iou: 0.8043973978281894\n",
      "Mean accuracy: 0.8420464757585012\n",
      "Epoch: 105\n"
     ]
    },
    {
     "data": {
      "text/plain": [
       "  0%|          | 0/5 [00:00<?, ?it/s]"
      ],
      "application/vnd.jupyter.widget-view+json": {
       "version_major": 2,
       "version_minor": 0,
       "model_id": "d9de89354b414788befffac8bb759d42"
      }
     },
     "metadata": {},
     "output_type": "display_data"
    },
    {
     "name": "stdout",
     "output_type": "stream",
     "text": [
      "Loss: 0.6918298006057739\n",
      "Mean_iou: 0.45377579606836643\n",
      "Mean accuracy: 0.5144928383444499\n",
      "Epoch: 106\n"
     ]
    },
    {
     "data": {
      "text/plain": [
       "  0%|          | 0/5 [00:00<?, ?it/s]"
      ],
      "application/vnd.jupyter.widget-view+json": {
       "version_major": 2,
       "version_minor": 0,
       "model_id": "c46037ec6ce049f1a964172f6fea678d"
      }
     },
     "metadata": {},
     "output_type": "display_data"
    },
    {
     "name": "stdout",
     "output_type": "stream",
     "text": [
      "Loss: 0.32241594791412354\n",
      "Mean_iou: 0.7312528796800903\n",
      "Mean accuracy: 0.8314634443058744\n",
      "Epoch: 107\n"
     ]
    },
    {
     "data": {
      "text/plain": [
       "  0%|          | 0/5 [00:00<?, ?it/s]"
      ],
      "application/vnd.jupyter.widget-view+json": {
       "version_major": 2,
       "version_minor": 0,
       "model_id": "c82abf1eb53648bbaeef3eb2a7aef65c"
      }
     },
     "metadata": {},
     "output_type": "display_data"
    },
    {
     "name": "stdout",
     "output_type": "stream",
     "text": [
      "Loss: 0.49109768867492676\n",
      "Mean_iou: 0.5825428808176224\n",
      "Mean accuracy: 0.6231067766872963\n",
      "Epoch: 108\n"
     ]
    },
    {
     "data": {
      "text/plain": [
       "  0%|          | 0/5 [00:00<?, ?it/s]"
      ],
      "application/vnd.jupyter.widget-view+json": {
       "version_major": 2,
       "version_minor": 0,
       "model_id": "0719c6abc31a4e88a37ca63b6de97ae4"
      }
     },
     "metadata": {},
     "output_type": "display_data"
    },
    {
     "name": "stdout",
     "output_type": "stream",
     "text": [
      "Loss: 0.3055885136127472\n",
      "Mean_iou: 0.7235894281573161\n",
      "Mean accuracy: 0.8218471469878512\n",
      "Epoch: 109\n"
     ]
    },
    {
     "data": {
      "text/plain": [
       "  0%|          | 0/5 [00:00<?, ?it/s]"
      ],
      "application/vnd.jupyter.widget-view+json": {
       "version_major": 2,
       "version_minor": 0,
       "model_id": "24c89b09ad9d41fc9c97a944623698f4"
      }
     },
     "metadata": {},
     "output_type": "display_data"
    },
    {
     "name": "stdout",
     "output_type": "stream",
     "text": [
      "Loss: 0.559578537940979\n",
      "Mean_iou: 0.717944103626689\n",
      "Mean accuracy: 0.8402551480640903\n",
      "Epoch: 110\n"
     ]
    },
    {
     "data": {
      "text/plain": [
       "  0%|          | 0/5 [00:00<?, ?it/s]"
      ],
      "application/vnd.jupyter.widget-view+json": {
       "version_major": 2,
       "version_minor": 0,
       "model_id": "6f83edaeea3a40ffa937ebfd8ee76ab7"
      }
     },
     "metadata": {},
     "output_type": "display_data"
    },
    {
     "name": "stdout",
     "output_type": "stream",
     "text": [
      "Loss: 0.7076112627983093\n",
      "Mean_iou: 0.2719145216876687\n",
      "Mean accuracy: 0.33294189903645727\n",
      "Epoch: 111\n"
     ]
    },
    {
     "data": {
      "text/plain": [
       "  0%|          | 0/5 [00:00<?, ?it/s]"
      ],
      "application/vnd.jupyter.widget-view+json": {
       "version_major": 2,
       "version_minor": 0,
       "model_id": "0deaa3b182484b47a953b9ddd1313808"
      }
     },
     "metadata": {},
     "output_type": "display_data"
    },
    {
     "name": "stdout",
     "output_type": "stream",
     "text": [
      "Loss: 0.7444784045219421\n",
      "Mean_iou: 0.4505349898799608\n",
      "Mean accuracy: 0.4900900443448515\n",
      "Epoch: 112\n"
     ]
    },
    {
     "data": {
      "text/plain": [
       "  0%|          | 0/5 [00:00<?, ?it/s]"
      ],
      "application/vnd.jupyter.widget-view+json": {
       "version_major": 2,
       "version_minor": 0,
       "model_id": "f0d42b65316a498a9c04a0442f9b4325"
      }
     },
     "metadata": {},
     "output_type": "display_data"
    },
    {
     "name": "stdout",
     "output_type": "stream",
     "text": [
      "Loss: 0.9796304702758789\n",
      "Mean_iou: 0.1818018854034289\n",
      "Mean accuracy: 0.2870345321007541\n",
      "Epoch: 113\n"
     ]
    },
    {
     "data": {
      "text/plain": [
       "  0%|          | 0/5 [00:00<?, ?it/s]"
      ],
      "application/vnd.jupyter.widget-view+json": {
       "version_major": 2,
       "version_minor": 0,
       "model_id": "a0157605dd0e4308a387e7d95f24659d"
      }
     },
     "metadata": {},
     "output_type": "display_data"
    },
    {
     "name": "stdout",
     "output_type": "stream",
     "text": [
      "Loss: 0.5805271863937378\n",
      "Mean_iou: 0.4351258993343477\n",
      "Mean accuracy: 0.4795819651496545\n",
      "Epoch: 114\n"
     ]
    },
    {
     "data": {
      "text/plain": [
       "  0%|          | 0/5 [00:00<?, ?it/s]"
      ],
      "application/vnd.jupyter.widget-view+json": {
       "version_major": 2,
       "version_minor": 0,
       "model_id": "b44eded6f22f461f84c249524e04c2d2"
      }
     },
     "metadata": {},
     "output_type": "display_data"
    },
    {
     "name": "stdout",
     "output_type": "stream",
     "text": [
      "Loss: 0.7177407145500183\n",
      "Mean_iou: 0.3690882799328581\n",
      "Mean accuracy: 0.4536266154559457\n",
      "Epoch: 115\n"
     ]
    },
    {
     "data": {
      "text/plain": [
       "  0%|          | 0/5 [00:00<?, ?it/s]"
      ],
      "application/vnd.jupyter.widget-view+json": {
       "version_major": 2,
       "version_minor": 0,
       "model_id": "1c7b0fa5e8e44d09a7cdff32e5fbc749"
      }
     },
     "metadata": {},
     "output_type": "display_data"
    },
    {
     "name": "stdout",
     "output_type": "stream",
     "text": [
      "Loss: 0.7038875818252563\n",
      "Mean_iou: 0.5336179754289109\n",
      "Mean accuracy: 0.5690438684951764\n",
      "Epoch: 116\n"
     ]
    },
    {
     "data": {
      "text/plain": [
       "  0%|          | 0/5 [00:00<?, ?it/s]"
      ],
      "application/vnd.jupyter.widget-view+json": {
       "version_major": 2,
       "version_minor": 0,
       "model_id": "bf340e1078504cb5b2dc4cdc09bdf4ca"
      }
     },
     "metadata": {},
     "output_type": "display_data"
    },
    {
     "name": "stdout",
     "output_type": "stream",
     "text": [
      "Loss: 0.27352866530418396\n",
      "Mean_iou: 0.7382002347908211\n",
      "Mean accuracy: 0.8377971577019289\n",
      "Epoch: 117\n"
     ]
    },
    {
     "data": {
      "text/plain": [
       "  0%|          | 0/5 [00:00<?, ?it/s]"
      ],
      "application/vnd.jupyter.widget-view+json": {
       "version_major": 2,
       "version_minor": 0,
       "model_id": "00c1bc72457f449e9a2afc62305a21bf"
      }
     },
     "metadata": {},
     "output_type": "display_data"
    },
    {
     "name": "stdout",
     "output_type": "stream",
     "text": [
      "Loss: 0.7307050228118896\n",
      "Mean_iou: 0.30530582367965564\n",
      "Mean accuracy: 0.38618288941063034\n",
      "Epoch: 118\n"
     ]
    },
    {
     "data": {
      "text/plain": [
       "  0%|          | 0/5 [00:00<?, ?it/s]"
      ],
      "application/vnd.jupyter.widget-view+json": {
       "version_major": 2,
       "version_minor": 0,
       "model_id": "c079e1edb2b443f1a7f693f4b9b213df"
      }
     },
     "metadata": {},
     "output_type": "display_data"
    },
    {
     "name": "stdout",
     "output_type": "stream",
     "text": [
      "Loss: 0.7758060097694397\n",
      "Mean_iou: 0.343282510049698\n",
      "Mean accuracy: 0.386269898005233\n",
      "Epoch: 119\n"
     ]
    },
    {
     "data": {
      "text/plain": [
       "  0%|          | 0/5 [00:00<?, ?it/s]"
      ],
      "application/vnd.jupyter.widget-view+json": {
       "version_major": 2,
       "version_minor": 0,
       "model_id": "71387607833e41d49db897620adc7ac0"
      }
     },
     "metadata": {},
     "output_type": "display_data"
    },
    {
     "name": "stdout",
     "output_type": "stream",
     "text": [
      "Loss: 0.6904972791671753\n",
      "Mean_iou: 0.3569002765022578\n",
      "Mean accuracy: 0.42559048958616086\n",
      "Epoch: 120\n"
     ]
    },
    {
     "data": {
      "text/plain": [
       "  0%|          | 0/5 [00:00<?, ?it/s]"
      ],
      "application/vnd.jupyter.widget-view+json": {
       "version_major": 2,
       "version_minor": 0,
       "model_id": "16f32d789cd745baa7312853944151dd"
      }
     },
     "metadata": {},
     "output_type": "display_data"
    },
    {
     "name": "stdout",
     "output_type": "stream",
     "text": [
      "Loss: 0.5938354134559631\n",
      "Mean_iou: 0.3117481572955172\n",
      "Mean accuracy: 0.41297121273122755\n",
      "Epoch: 121\n"
     ]
    },
    {
     "data": {
      "text/plain": [
       "  0%|          | 0/5 [00:00<?, ?it/s]"
      ],
      "application/vnd.jupyter.widget-view+json": {
       "version_major": 2,
       "version_minor": 0,
       "model_id": "9091a504bcee4c8cb69922bc03f9a939"
      }
     },
     "metadata": {},
     "output_type": "display_data"
    },
    {
     "name": "stdout",
     "output_type": "stream",
     "text": [
      "Loss: 0.7018206119537354\n",
      "Mean_iou: 0.4689315150939258\n",
      "Mean accuracy: 0.5515366935156226\n",
      "Epoch: 122\n"
     ]
    },
    {
     "data": {
      "text/plain": [
       "  0%|          | 0/5 [00:00<?, ?it/s]"
      ],
      "application/vnd.jupyter.widget-view+json": {
       "version_major": 2,
       "version_minor": 0,
       "model_id": "7a5d46abeb64493a9b5ac6894cfe15c1"
      }
     },
     "metadata": {},
     "output_type": "display_data"
    },
    {
     "name": "stdout",
     "output_type": "stream",
     "text": [
      "Loss: 0.646705687046051\n",
      "Mean_iou: 0.3909096805222097\n",
      "Mean accuracy: 0.4572168153318754\n",
      "Epoch: 123\n"
     ]
    },
    {
     "data": {
      "text/plain": [
       "  0%|          | 0/5 [00:00<?, ?it/s]"
      ],
      "application/vnd.jupyter.widget-view+json": {
       "version_major": 2,
       "version_minor": 0,
       "model_id": "f926b384bc694c3cb190629b9eedd0e5"
      }
     },
     "metadata": {},
     "output_type": "display_data"
    },
    {
     "name": "stdout",
     "output_type": "stream",
     "text": [
      "Loss: 0.7683252096176147\n",
      "Mean_iou: 0.4051776076259135\n",
      "Mean accuracy: 0.4526348412738559\n",
      "Epoch: 124\n"
     ]
    },
    {
     "data": {
      "text/plain": [
       "  0%|          | 0/5 [00:00<?, ?it/s]"
      ],
      "application/vnd.jupyter.widget-view+json": {
       "version_major": 2,
       "version_minor": 0,
       "model_id": "3d9cb89a73064944b17220c07f3d9425"
      }
     },
     "metadata": {},
     "output_type": "display_data"
    },
    {
     "name": "stdout",
     "output_type": "stream",
     "text": [
      "Loss: 0.7458379864692688\n",
      "Mean_iou: 0.25669582020182546\n",
      "Mean accuracy: 0.31781184940572677\n",
      "Epoch: 125\n"
     ]
    },
    {
     "data": {
      "text/plain": [
       "  0%|          | 0/5 [00:00<?, ?it/s]"
      ],
      "application/vnd.jupyter.widget-view+json": {
       "version_major": 2,
       "version_minor": 0,
       "model_id": "14286c119540462a9522f77d70c274a4"
      }
     },
     "metadata": {},
     "output_type": "display_data"
    },
    {
     "name": "stdout",
     "output_type": "stream",
     "text": [
      "Loss: 0.7215447425842285\n",
      "Mean_iou: 0.44028414316873443\n",
      "Mean accuracy: 0.4876542557647866\n",
      "Epoch: 126\n"
     ]
    },
    {
     "data": {
      "text/plain": [
       "  0%|          | 0/5 [00:00<?, ?it/s]"
      ],
      "application/vnd.jupyter.widget-view+json": {
       "version_major": 2,
       "version_minor": 0,
       "model_id": "3dc459ea645b429899d9f9e830eff8ac"
      }
     },
     "metadata": {},
     "output_type": "display_data"
    },
    {
     "name": "stdout",
     "output_type": "stream",
     "text": [
      "Loss: 0.46205607056617737\n",
      "Mean_iou: 0.33786473648949766\n",
      "Mean accuracy: 0.5164206856316034\n",
      "Epoch: 127\n"
     ]
    },
    {
     "data": {
      "text/plain": [
       "  0%|          | 0/5 [00:00<?, ?it/s]"
      ],
      "application/vnd.jupyter.widget-view+json": {
       "version_major": 2,
       "version_minor": 0,
       "model_id": "28dce93fdc3a4d9c86b886107520503e"
      }
     },
     "metadata": {},
     "output_type": "display_data"
    },
    {
     "name": "stdout",
     "output_type": "stream",
     "text": [
      "Loss: 0.6057506799697876\n",
      "Mean_iou: 0.48082481784017744\n",
      "Mean accuracy: 0.5329545572658206\n",
      "Epoch: 128\n"
     ]
    },
    {
     "data": {
      "text/plain": [
       "  0%|          | 0/5 [00:00<?, ?it/s]"
      ],
      "application/vnd.jupyter.widget-view+json": {
       "version_major": 2,
       "version_minor": 0,
       "model_id": "7517eebb6fdd4f81b10b00e370c97105"
      }
     },
     "metadata": {},
     "output_type": "display_data"
    },
    {
     "name": "stdout",
     "output_type": "stream",
     "text": [
      "Loss: 0.2351776510477066\n",
      "Mean_iou: 0.8209113197488236\n",
      "Mean accuracy: 0.8493882499031392\n",
      "Epoch: 129\n"
     ]
    },
    {
     "data": {
      "text/plain": [
       "  0%|          | 0/5 [00:00<?, ?it/s]"
      ],
      "application/vnd.jupyter.widget-view+json": {
       "version_major": 2,
       "version_minor": 0,
       "model_id": "7f0178eb291b401cae2cda8bd353d3a8"
      }
     },
     "metadata": {},
     "output_type": "display_data"
    },
    {
     "name": "stdout",
     "output_type": "stream",
     "text": [
      "Loss: 0.4832177460193634\n",
      "Mean_iou: 0.647176863286806\n",
      "Mean accuracy: 0.6790712478945929\n",
      "Epoch: 130\n"
     ]
    },
    {
     "data": {
      "text/plain": [
       "  0%|          | 0/5 [00:00<?, ?it/s]"
      ],
      "application/vnd.jupyter.widget-view+json": {
       "version_major": 2,
       "version_minor": 0,
       "model_id": "a87275ab5566427b939ae98f6b6752c5"
      }
     },
     "metadata": {},
     "output_type": "display_data"
    },
    {
     "name": "stdout",
     "output_type": "stream",
     "text": [
      "Loss: 0.6205955743789673\n",
      "Mean_iou: 0.5736677717773356\n",
      "Mean accuracy: 0.6076597068006485\n",
      "Epoch: 131\n"
     ]
    },
    {
     "data": {
      "text/plain": [
       "  0%|          | 0/5 [00:00<?, ?it/s]"
      ],
      "application/vnd.jupyter.widget-view+json": {
       "version_major": 2,
       "version_minor": 0,
       "model_id": "220a4f6555c34d62b791c44f6e3eeff6"
      }
     },
     "metadata": {},
     "output_type": "display_data"
    },
    {
     "name": "stdout",
     "output_type": "stream",
     "text": [
      "Loss: 0.23664750158786774\n",
      "Mean_iou: 0.6593698870733872\n",
      "Mean accuracy: 0.8605559400534497\n",
      "Epoch: 132\n"
     ]
    },
    {
     "data": {
      "text/plain": [
       "  0%|          | 0/5 [00:00<?, ?it/s]"
      ],
      "application/vnd.jupyter.widget-view+json": {
       "version_major": 2,
       "version_minor": 0,
       "model_id": "255f7485d7e24b029fe1318d73fe4896"
      }
     },
     "metadata": {},
     "output_type": "display_data"
    },
    {
     "name": "stdout",
     "output_type": "stream",
     "text": [
      "Loss: 0.31960630416870117\n",
      "Mean_iou: 0.4208223279384127\n",
      "Mean accuracy: 0.7425189600259907\n",
      "Epoch: 133\n"
     ]
    },
    {
     "data": {
      "text/plain": [
       "  0%|          | 0/5 [00:00<?, ?it/s]"
      ],
      "application/vnd.jupyter.widget-view+json": {
       "version_major": 2,
       "version_minor": 0,
       "model_id": "dc769833f7514674bedc33e1cbf2cc96"
      }
     },
     "metadata": {},
     "output_type": "display_data"
    },
    {
     "name": "stdout",
     "output_type": "stream",
     "text": [
      "Loss: 0.6283767819404602\n",
      "Mean_iou: 0.5392087041758998\n",
      "Mean accuracy: 0.6355841168164174\n",
      "Epoch: 134\n"
     ]
    },
    {
     "data": {
      "text/plain": [
       "  0%|          | 0/5 [00:00<?, ?it/s]"
      ],
      "application/vnd.jupyter.widget-view+json": {
       "version_major": 2,
       "version_minor": 0,
       "model_id": "7415dddef7e246f1b3f3e2c3937a9e56"
      }
     },
     "metadata": {},
     "output_type": "display_data"
    },
    {
     "name": "stdout",
     "output_type": "stream",
     "text": [
      "Loss: 0.5016207098960876\n",
      "Mean_iou: 0.5092523342533117\n",
      "Mean accuracy: 0.5571692896141274\n",
      "Epoch: 135\n"
     ]
    },
    {
     "data": {
      "text/plain": [
       "  0%|          | 0/5 [00:00<?, ?it/s]"
      ],
      "application/vnd.jupyter.widget-view+json": {
       "version_major": 2,
       "version_minor": 0,
       "model_id": "ee197784665b43cb91f02cbf1560ea6f"
      }
     },
     "metadata": {},
     "output_type": "display_data"
    },
    {
     "name": "stdout",
     "output_type": "stream",
     "text": [
      "Loss: 0.5218227505683899\n",
      "Mean_iou: 0.48954837351738917\n",
      "Mean accuracy: 0.5455707351556982\n",
      "Epoch: 136\n"
     ]
    },
    {
     "data": {
      "text/plain": [
       "  0%|          | 0/5 [00:00<?, ?it/s]"
      ],
      "application/vnd.jupyter.widget-view+json": {
       "version_major": 2,
       "version_minor": 0,
       "model_id": "741bac1dabc84f338ccf86e82c001a5c"
      }
     },
     "metadata": {},
     "output_type": "display_data"
    },
    {
     "name": "stdout",
     "output_type": "stream",
     "text": [
      "Loss: 0.17923061549663544\n",
      "Mean_iou: 0.8328177696311588\n",
      "Mean accuracy: 0.8546288695722667\n",
      "Epoch: 137\n"
     ]
    },
    {
     "data": {
      "text/plain": [
       "  0%|          | 0/5 [00:00<?, ?it/s]"
      ],
      "application/vnd.jupyter.widget-view+json": {
       "version_major": 2,
       "version_minor": 0,
       "model_id": "c3666c42e8324f618908c5318aa45ee7"
      }
     },
     "metadata": {},
     "output_type": "display_data"
    },
    {
     "name": "stdout",
     "output_type": "stream",
     "text": [
      "Loss: 0.4997612535953522\n",
      "Mean_iou: 0.4086462734675147\n",
      "Mean accuracy: 0.5639565080213693\n",
      "Epoch: 138\n"
     ]
    },
    {
     "data": {
      "text/plain": [
       "  0%|          | 0/5 [00:00<?, ?it/s]"
      ],
      "application/vnd.jupyter.widget-view+json": {
       "version_major": 2,
       "version_minor": 0,
       "model_id": "018c7e9577c543feb648685390a43f64"
      }
     },
     "metadata": {},
     "output_type": "display_data"
    },
    {
     "name": "stdout",
     "output_type": "stream",
     "text": [
      "Loss: 0.7195987701416016\n",
      "Mean_iou: 0.2636801636008447\n",
      "Mean accuracy: 0.34048214097681856\n",
      "Epoch: 139\n"
     ]
    },
    {
     "data": {
      "text/plain": [
       "  0%|          | 0/5 [00:00<?, ?it/s]"
      ],
      "application/vnd.jupyter.widget-view+json": {
       "version_major": 2,
       "version_minor": 0,
       "model_id": "4aa7796c71bf474a9ec9305fffc33592"
      }
     },
     "metadata": {},
     "output_type": "display_data"
    },
    {
     "name": "stdout",
     "output_type": "stream",
     "text": [
      "Loss: 0.48662832379341125\n",
      "Mean_iou: 0.35273568858429427\n",
      "Mean accuracy: 0.4264109680779463\n",
      "Epoch: 140\n"
     ]
    },
    {
     "data": {
      "text/plain": [
       "  0%|          | 0/5 [00:00<?, ?it/s]"
      ],
      "application/vnd.jupyter.widget-view+json": {
       "version_major": 2,
       "version_minor": 0,
       "model_id": "b8b764d675654a8db4bd4304f774d696"
      }
     },
     "metadata": {},
     "output_type": "display_data"
    },
    {
     "name": "stdout",
     "output_type": "stream",
     "text": [
      "Loss: 0.6961956024169922\n",
      "Mean_iou: 0.4496915834348838\n",
      "Mean accuracy: 0.4941478478567609\n",
      "Epoch: 141\n"
     ]
    },
    {
     "data": {
      "text/plain": [
       "  0%|          | 0/5 [00:00<?, ?it/s]"
      ],
      "application/vnd.jupyter.widget-view+json": {
       "version_major": 2,
       "version_minor": 0,
       "model_id": "1146c0133a78445ea69325bd54bc6352"
      }
     },
     "metadata": {},
     "output_type": "display_data"
    },
    {
     "name": "stdout",
     "output_type": "stream",
     "text": [
      "Loss: 0.49037307500839233\n",
      "Mean_iou: 0.5588348561870256\n",
      "Mean accuracy: 0.6871034917962187\n",
      "Epoch: 142\n"
     ]
    },
    {
     "data": {
      "text/plain": [
       "  0%|          | 0/5 [00:00<?, ?it/s]"
      ],
      "application/vnd.jupyter.widget-view+json": {
       "version_major": 2,
       "version_minor": 0,
       "model_id": "4ebcb2217d154a848e03a376b6b48d54"
      }
     },
     "metadata": {},
     "output_type": "display_data"
    },
    {
     "name": "stdout",
     "output_type": "stream",
     "text": [
      "Loss: 0.4671773314476013\n",
      "Mean_iou: 0.6214106047824683\n",
      "Mean accuracy: 0.692591667913234\n",
      "Epoch: 143\n"
     ]
    },
    {
     "data": {
      "text/plain": [
       "  0%|          | 0/5 [00:00<?, ?it/s]"
      ],
      "application/vnd.jupyter.widget-view+json": {
       "version_major": 2,
       "version_minor": 0,
       "model_id": "ef45883237ba429b9e46f38f17d8df74"
      }
     },
     "metadata": {},
     "output_type": "display_data"
    },
    {
     "name": "stdout",
     "output_type": "stream",
     "text": [
      "Loss: 0.281314879655838\n",
      "Mean_iou: 0.35570916275274467\n",
      "Mean accuracy: 0.6135837013566844\n",
      "Epoch: 144\n"
     ]
    },
    {
     "data": {
      "text/plain": [
       "  0%|          | 0/5 [00:00<?, ?it/s]"
      ],
      "application/vnd.jupyter.widget-view+json": {
       "version_major": 2,
       "version_minor": 0,
       "model_id": "20e48588e9874a0088a6b1ef97a1973e"
      }
     },
     "metadata": {},
     "output_type": "display_data"
    },
    {
     "name": "stdout",
     "output_type": "stream",
     "text": [
      "Loss: 0.4323910176753998\n",
      "Mean_iou: 0.6509971573335047\n",
      "Mean accuracy: 0.6798760564477853\n",
      "Epoch: 145\n"
     ]
    },
    {
     "data": {
      "text/plain": [
       "  0%|          | 0/5 [00:00<?, ?it/s]"
      ],
      "application/vnd.jupyter.widget-view+json": {
       "version_major": 2,
       "version_minor": 0,
       "model_id": "cf1a887c55ca450498e0f7c84385b326"
      }
     },
     "metadata": {},
     "output_type": "display_data"
    },
    {
     "name": "stdout",
     "output_type": "stream",
     "text": [
      "Loss: 0.34152093529701233\n",
      "Mean_iou: 0.7636164810980121\n",
      "Mean accuracy: 0.8110012877139311\n",
      "Epoch: 146\n"
     ]
    },
    {
     "data": {
      "text/plain": [
       "  0%|          | 0/5 [00:00<?, ?it/s]"
      ],
      "application/vnd.jupyter.widget-view+json": {
       "version_major": 2,
       "version_minor": 0,
       "model_id": "a2586459cd0a476fa6e7cdeb0bf1b066"
      }
     },
     "metadata": {},
     "output_type": "display_data"
    },
    {
     "name": "stdout",
     "output_type": "stream",
     "text": [
      "Loss: 0.3995605707168579\n",
      "Mean_iou: 0.831894932031274\n",
      "Mean accuracy: 0.8742011137701994\n",
      "Epoch: 147\n"
     ]
    },
    {
     "data": {
      "text/plain": [
       "  0%|          | 0/5 [00:00<?, ?it/s]"
      ],
      "application/vnd.jupyter.widget-view+json": {
       "version_major": 2,
       "version_minor": 0,
       "model_id": "277c6dc7837047d2b3e1576aa830e355"
      }
     },
     "metadata": {},
     "output_type": "display_data"
    },
    {
     "name": "stdout",
     "output_type": "stream",
     "text": [
      "Loss: 0.47618868947029114\n",
      "Mean_iou: 0.6058525666053156\n",
      "Mean accuracy: 0.651956975886092\n",
      "Epoch: 148\n"
     ]
    },
    {
     "data": {
      "text/plain": [
       "  0%|          | 0/5 [00:00<?, ?it/s]"
      ],
      "application/vnd.jupyter.widget-view+json": {
       "version_major": 2,
       "version_minor": 0,
       "model_id": "3525c0dd64c44d8f8771ee528aae4dfe"
      }
     },
     "metadata": {},
     "output_type": "display_data"
    },
    {
     "name": "stdout",
     "output_type": "stream",
     "text": [
      "Loss: 0.6502243876457214\n",
      "Mean_iou: 0.30431039154262285\n",
      "Mean accuracy: 0.37020699781857\n",
      "Epoch: 149\n"
     ]
    },
    {
     "data": {
      "text/plain": [
       "  0%|          | 0/5 [00:00<?, ?it/s]"
      ],
      "application/vnd.jupyter.widget-view+json": {
       "version_major": 2,
       "version_minor": 0,
       "model_id": "97eff9779c074d86a0dae6a75ca08730"
      }
     },
     "metadata": {},
     "output_type": "display_data"
    },
    {
     "name": "stdout",
     "output_type": "stream",
     "text": [
      "Loss: 0.435896635055542\n",
      "Mean_iou: 0.6118029805307538\n",
      "Mean accuracy: 0.699735129229431\n",
      "Epoch: 150\n"
     ]
    },
    {
     "data": {
      "text/plain": [
       "  0%|          | 0/5 [00:00<?, ?it/s]"
      ],
      "application/vnd.jupyter.widget-view+json": {
       "version_major": 2,
       "version_minor": 0,
       "model_id": "d5f6eee8d6fe464dba4218957ed3fc99"
      }
     },
     "metadata": {},
     "output_type": "display_data"
    },
    {
     "name": "stdout",
     "output_type": "stream",
     "text": [
      "Loss: 0.1382976621389389\n",
      "Mean_iou: 0.8416482190617487\n",
      "Mean accuracy: 0.8615497093535338\n",
      "Epoch: 151\n"
     ]
    },
    {
     "data": {
      "text/plain": [
       "  0%|          | 0/5 [00:00<?, ?it/s]"
      ],
      "application/vnd.jupyter.widget-view+json": {
       "version_major": 2,
       "version_minor": 0,
       "model_id": "ebbdee93f91a4cafb22b81cabd42ac56"
      }
     },
     "metadata": {},
     "output_type": "display_data"
    },
    {
     "name": "stdout",
     "output_type": "stream",
     "text": [
      "Loss: 0.19102878868579865\n",
      "Mean_iou: 0.7445595436054757\n",
      "Mean accuracy: 0.8494157845378331\n",
      "Epoch: 152\n"
     ]
    },
    {
     "data": {
      "text/plain": [
       "  0%|          | 0/5 [00:00<?, ?it/s]"
      ],
      "application/vnd.jupyter.widget-view+json": {
       "version_major": 2,
       "version_minor": 0,
       "model_id": "18f21a9a57bb4f3884e2d9210dde2101"
      }
     },
     "metadata": {},
     "output_type": "display_data"
    },
    {
     "name": "stdout",
     "output_type": "stream",
     "text": [
      "Loss: 0.4612727761268616\n",
      "Mean_iou: 0.5133398358805232\n",
      "Mean accuracy: 0.5503987099574496\n",
      "Epoch: 153\n"
     ]
    },
    {
     "data": {
      "text/plain": [
       "  0%|          | 0/5 [00:00<?, ?it/s]"
      ],
      "application/vnd.jupyter.widget-view+json": {
       "version_major": 2,
       "version_minor": 0,
       "model_id": "44931caf2d1846e887d9368c53a78955"
      }
     },
     "metadata": {},
     "output_type": "display_data"
    },
    {
     "name": "stdout",
     "output_type": "stream",
     "text": [
      "Loss: 0.3611873388290405\n",
      "Mean_iou: 0.8450227803263046\n",
      "Mean accuracy: 0.8713912168189473\n",
      "Epoch: 154\n"
     ]
    },
    {
     "data": {
      "text/plain": [
       "  0%|          | 0/5 [00:00<?, ?it/s]"
      ],
      "application/vnd.jupyter.widget-view+json": {
       "version_major": 2,
       "version_minor": 0,
       "model_id": "93fa10fe7fb543d3803cb7935fa97565"
      }
     },
     "metadata": {},
     "output_type": "display_data"
    },
    {
     "name": "stdout",
     "output_type": "stream",
     "text": [
      "Loss: 0.23723356425762177\n",
      "Mean_iou: 0.432102964331517\n",
      "Mean accuracy: 0.692466198242607\n",
      "Epoch: 155\n"
     ]
    },
    {
     "data": {
      "text/plain": [
       "  0%|          | 0/5 [00:00<?, ?it/s]"
      ],
      "application/vnd.jupyter.widget-view+json": {
       "version_major": 2,
       "version_minor": 0,
       "model_id": "512067c320bc447a9eece2775c8239ea"
      }
     },
     "metadata": {},
     "output_type": "display_data"
    },
    {
     "name": "stdout",
     "output_type": "stream",
     "text": [
      "Loss: 0.4913162887096405\n",
      "Mean_iou: 0.5871740886050125\n",
      "Mean accuracy: 0.6739366641863755\n",
      "Epoch: 156\n"
     ]
    },
    {
     "data": {
      "text/plain": [
       "  0%|          | 0/5 [00:00<?, ?it/s]"
      ],
      "application/vnd.jupyter.widget-view+json": {
       "version_major": 2,
       "version_minor": 0,
       "model_id": "80ce978c00b0494aaa0de5a663dba032"
      }
     },
     "metadata": {},
     "output_type": "display_data"
    },
    {
     "name": "stdout",
     "output_type": "stream",
     "text": [
      "Loss: 0.24799193441867828\n",
      "Mean_iou: 0.5613063097714487\n",
      "Mean accuracy: 0.7566912471394133\n",
      "Epoch: 157\n"
     ]
    },
    {
     "data": {
      "text/plain": [
       "  0%|          | 0/5 [00:00<?, ?it/s]"
      ],
      "application/vnd.jupyter.widget-view+json": {
       "version_major": 2,
       "version_minor": 0,
       "model_id": "cb606c0ad26c480d8673984de561c7f9"
      }
     },
     "metadata": {},
     "output_type": "display_data"
    },
    {
     "name": "stdout",
     "output_type": "stream",
     "text": [
      "Loss: 0.29622766375541687\n",
      "Mean_iou: 0.4484421502534728\n",
      "Mean accuracy: 0.610967221514601\n",
      "Epoch: 158\n"
     ]
    },
    {
     "data": {
      "text/plain": [
       "  0%|          | 0/5 [00:00<?, ?it/s]"
      ],
      "application/vnd.jupyter.widget-view+json": {
       "version_major": 2,
       "version_minor": 0,
       "model_id": "38c16b550ef74aeb81cad1a7b093351a"
      }
     },
     "metadata": {},
     "output_type": "display_data"
    },
    {
     "name": "stdout",
     "output_type": "stream",
     "text": [
      "Loss: 0.32676196098327637\n",
      "Mean_iou: 0.8715008120661366\n",
      "Mean accuracy: 0.8962745646203021\n",
      "Epoch: 159\n"
     ]
    },
    {
     "data": {
      "text/plain": [
       "  0%|          | 0/5 [00:00<?, ?it/s]"
      ],
      "application/vnd.jupyter.widget-view+json": {
       "version_major": 2,
       "version_minor": 0,
       "model_id": "17ab534b248e478ca8e5df13b1b6877d"
      }
     },
     "metadata": {},
     "output_type": "display_data"
    },
    {
     "name": "stdout",
     "output_type": "stream",
     "text": [
      "Loss: 0.2794611155986786\n",
      "Mean_iou: 0.8015127121133009\n",
      "Mean accuracy: 0.838968166780199\n",
      "Epoch: 160\n"
     ]
    },
    {
     "data": {
      "text/plain": [
       "  0%|          | 0/5 [00:00<?, ?it/s]"
      ],
      "application/vnd.jupyter.widget-view+json": {
       "version_major": 2,
       "version_minor": 0,
       "model_id": "7ea1a00739ac4eb4becf2575d6c63ecd"
      }
     },
     "metadata": {},
     "output_type": "display_data"
    },
    {
     "name": "stdout",
     "output_type": "stream",
     "text": [
      "Loss: 0.6012656092643738\n",
      "Mean_iou: 0.41569091686935816\n",
      "Mean accuracy: 0.47211796141100676\n",
      "Epoch: 161\n"
     ]
    },
    {
     "data": {
      "text/plain": [
       "  0%|          | 0/5 [00:00<?, ?it/s]"
      ],
      "application/vnd.jupyter.widget-view+json": {
       "version_major": 2,
       "version_minor": 0,
       "model_id": "96e25fbf83064883a67a45a0117ecb72"
      }
     },
     "metadata": {},
     "output_type": "display_data"
    },
    {
     "name": "stdout",
     "output_type": "stream",
     "text": [
      "Loss: 0.5549424290657043\n",
      "Mean_iou: 0.5054301022488342\n",
      "Mean accuracy: 0.5499177920325082\n",
      "Epoch: 162\n"
     ]
    },
    {
     "data": {
      "text/plain": [
       "  0%|          | 0/5 [00:00<?, ?it/s]"
      ],
      "application/vnd.jupyter.widget-view+json": {
       "version_major": 2,
       "version_minor": 0,
       "model_id": "2b05c210a77f4aabb42e6a81becc6e41"
      }
     },
     "metadata": {},
     "output_type": "display_data"
    },
    {
     "name": "stdout",
     "output_type": "stream",
     "text": [
      "Loss: 0.5102088451385498\n",
      "Mean_iou: 0.436104755201442\n",
      "Mean accuracy: 0.5307724764311729\n",
      "Epoch: 163\n"
     ]
    },
    {
     "data": {
      "text/plain": [
       "  0%|          | 0/5 [00:00<?, ?it/s]"
      ],
      "application/vnd.jupyter.widget-view+json": {
       "version_major": 2,
       "version_minor": 0,
       "model_id": "59fcc86687444315b247a607df675740"
      }
     },
     "metadata": {},
     "output_type": "display_data"
    },
    {
     "name": "stdout",
     "output_type": "stream",
     "text": [
      "Loss: 0.3065355122089386\n",
      "Mean_iou: 0.7070225571706185\n",
      "Mean accuracy: 0.8203351643439255\n",
      "Epoch: 164\n"
     ]
    },
    {
     "data": {
      "text/plain": [
       "  0%|          | 0/5 [00:00<?, ?it/s]"
      ],
      "application/vnd.jupyter.widget-view+json": {
       "version_major": 2,
       "version_minor": 0,
       "model_id": "10af8ced804d4e21904220c0e08d5654"
      }
     },
     "metadata": {},
     "output_type": "display_data"
    },
    {
     "name": "stdout",
     "output_type": "stream",
     "text": [
      "Loss: 0.43750321865081787\n",
      "Mean_iou: 0.33328401887171993\n",
      "Mean accuracy: 0.3904980212204472\n",
      "Epoch: 165\n"
     ]
    },
    {
     "data": {
      "text/plain": [
       "  0%|          | 0/5 [00:00<?, ?it/s]"
      ],
      "application/vnd.jupyter.widget-view+json": {
       "version_major": 2,
       "version_minor": 0,
       "model_id": "a0a307a88b944e6eb84091b3e6ab98e6"
      }
     },
     "metadata": {},
     "output_type": "display_data"
    },
    {
     "name": "stdout",
     "output_type": "stream",
     "text": [
      "Loss: 0.514961302280426\n",
      "Mean_iou: 0.4600686918284603\n",
      "Mean accuracy: 0.5190787340133284\n",
      "Epoch: 166\n"
     ]
    },
    {
     "data": {
      "text/plain": [
       "  0%|          | 0/5 [00:00<?, ?it/s]"
      ],
      "application/vnd.jupyter.widget-view+json": {
       "version_major": 2,
       "version_minor": 0,
       "model_id": "29b1fbab09e549f89bf921fbb7f06428"
      }
     },
     "metadata": {},
     "output_type": "display_data"
    },
    {
     "name": "stdout",
     "output_type": "stream",
     "text": [
      "Loss: 0.2918379306793213\n",
      "Mean_iou: 0.5984149428677956\n",
      "Mean accuracy: 0.6707533181199306\n",
      "Epoch: 167\n"
     ]
    },
    {
     "data": {
      "text/plain": [
       "  0%|          | 0/5 [00:00<?, ?it/s]"
      ],
      "application/vnd.jupyter.widget-view+json": {
       "version_major": 2,
       "version_minor": 0,
       "model_id": "2252dbecd8ca4ad5a326f4188304a2b3"
      }
     },
     "metadata": {},
     "output_type": "display_data"
    },
    {
     "name": "stdout",
     "output_type": "stream",
     "text": [
      "Loss: 0.3349704444408417\n",
      "Mean_iou: 0.7181944208861517\n",
      "Mean accuracy: 0.7391564419259903\n",
      "Epoch: 168\n"
     ]
    },
    {
     "data": {
      "text/plain": [
       "  0%|          | 0/5 [00:00<?, ?it/s]"
      ],
      "application/vnd.jupyter.widget-view+json": {
       "version_major": 2,
       "version_minor": 0,
       "model_id": "fe15b23a7481488d86b44eaa54d1f13d"
      }
     },
     "metadata": {},
     "output_type": "display_data"
    },
    {
     "name": "stdout",
     "output_type": "stream",
     "text": [
      "Loss: 0.47480231523513794\n",
      "Mean_iou: 0.5421513841654758\n",
      "Mean accuracy: 0.6295200692890425\n",
      "Epoch: 169\n"
     ]
    },
    {
     "data": {
      "text/plain": [
       "  0%|          | 0/5 [00:00<?, ?it/s]"
      ],
      "application/vnd.jupyter.widget-view+json": {
       "version_major": 2,
       "version_minor": 0,
       "model_id": "b1b166c04fb64653987d6a0d21500cf5"
      }
     },
     "metadata": {},
     "output_type": "display_data"
    },
    {
     "name": "stdout",
     "output_type": "stream",
     "text": [
      "Loss: 0.16051605343818665\n",
      "Mean_iou: 0.6654121785913946\n",
      "Mean accuracy: 0.8465479251694779\n",
      "Epoch: 170\n"
     ]
    },
    {
     "data": {
      "text/plain": [
       "  0%|          | 0/5 [00:00<?, ?it/s]"
      ],
      "application/vnd.jupyter.widget-view+json": {
       "version_major": 2,
       "version_minor": 0,
       "model_id": "18ace69eafda4df498c0928bb79f4e0c"
      }
     },
     "metadata": {},
     "output_type": "display_data"
    },
    {
     "name": "stdout",
     "output_type": "stream",
     "text": [
      "Loss: 0.2307838648557663\n",
      "Mean_iou: 0.48725610736165037\n",
      "Mean accuracy: 0.7589457615419613\n",
      "Epoch: 171\n"
     ]
    },
    {
     "data": {
      "text/plain": [
       "  0%|          | 0/5 [00:00<?, ?it/s]"
      ],
      "application/vnd.jupyter.widget-view+json": {
       "version_major": 2,
       "version_minor": 0,
       "model_id": "ac900a54b1564b8ea3b6f870f1e53983"
      }
     },
     "metadata": {},
     "output_type": "display_data"
    },
    {
     "name": "stdout",
     "output_type": "stream",
     "text": [
      "Loss: 0.39435890316963196\n",
      "Mean_iou: 0.549948561862245\n",
      "Mean accuracy: 0.5938416256035725\n",
      "Epoch: 172\n"
     ]
    },
    {
     "data": {
      "text/plain": [
       "  0%|          | 0/5 [00:00<?, ?it/s]"
      ],
      "application/vnd.jupyter.widget-view+json": {
       "version_major": 2,
       "version_minor": 0,
       "model_id": "a706e5daf3764710bad874fba45cbc27"
      }
     },
     "metadata": {},
     "output_type": "display_data"
    },
    {
     "name": "stdout",
     "output_type": "stream",
     "text": [
      "Loss: 0.403670072555542\n",
      "Mean_iou: 0.5465175682554504\n",
      "Mean accuracy: 0.6168526559112527\n",
      "Epoch: 173\n"
     ]
    },
    {
     "data": {
      "text/plain": [
       "  0%|          | 0/5 [00:00<?, ?it/s]"
      ],
      "application/vnd.jupyter.widget-view+json": {
       "version_major": 2,
       "version_minor": 0,
       "model_id": "9288f91697144bd98e8c52e02d472c11"
      }
     },
     "metadata": {},
     "output_type": "display_data"
    },
    {
     "name": "stdout",
     "output_type": "stream",
     "text": [
      "Loss: 0.2160685509443283\n",
      "Mean_iou: 0.4696038503553772\n",
      "Mean accuracy: 0.6972200397539289\n",
      "Epoch: 174\n"
     ]
    },
    {
     "data": {
      "text/plain": [
       "  0%|          | 0/5 [00:00<?, ?it/s]"
      ],
      "application/vnd.jupyter.widget-view+json": {
       "version_major": 2,
       "version_minor": 0,
       "model_id": "47b9780761c34b9b90717b38d8e6caff"
      }
     },
     "metadata": {},
     "output_type": "display_data"
    },
    {
     "name": "stdout",
     "output_type": "stream",
     "text": [
      "Loss: 0.5046616792678833\n",
      "Mean_iou: 0.6049988798026625\n",
      "Mean accuracy: 0.638820808371715\n",
      "Epoch: 175\n"
     ]
    },
    {
     "data": {
      "text/plain": [
       "  0%|          | 0/5 [00:00<?, ?it/s]"
      ],
      "application/vnd.jupyter.widget-view+json": {
       "version_major": 2,
       "version_minor": 0,
       "model_id": "49790f5e610a4110af7d9ffe513e3028"
      }
     },
     "metadata": {},
     "output_type": "display_data"
    },
    {
     "name": "stdout",
     "output_type": "stream",
     "text": [
      "Loss: 0.40449318289756775\n",
      "Mean_iou: 0.6670612190105843\n",
      "Mean accuracy: 0.7529192969056062\n",
      "Epoch: 176\n"
     ]
    },
    {
     "data": {
      "text/plain": [
       "  0%|          | 0/5 [00:00<?, ?it/s]"
      ],
      "application/vnd.jupyter.widget-view+json": {
       "version_major": 2,
       "version_minor": 0,
       "model_id": "58131bbb9b8d447b9c77103cdb723df8"
      }
     },
     "metadata": {},
     "output_type": "display_data"
    },
    {
     "name": "stdout",
     "output_type": "stream",
     "text": [
      "Loss: 0.4422115087509155\n",
      "Mean_iou: 0.5735968135986835\n",
      "Mean accuracy: 0.6162473268354252\n",
      "Epoch: 177\n"
     ]
    },
    {
     "data": {
      "text/plain": [
       "  0%|          | 0/5 [00:00<?, ?it/s]"
      ],
      "application/vnd.jupyter.widget-view+json": {
       "version_major": 2,
       "version_minor": 0,
       "model_id": "efdc3888728b492fa13064a1b299fc8c"
      }
     },
     "metadata": {},
     "output_type": "display_data"
    },
    {
     "name": "stdout",
     "output_type": "stream",
     "text": [
      "Loss: 0.45519888401031494\n",
      "Mean_iou: 0.5512153086533954\n",
      "Mean accuracy: 0.5937698476422922\n",
      "Epoch: 178\n"
     ]
    },
    {
     "data": {
      "text/plain": [
       "  0%|          | 0/5 [00:00<?, ?it/s]"
      ],
      "application/vnd.jupyter.widget-view+json": {
       "version_major": 2,
       "version_minor": 0,
       "model_id": "1bc85d4bd08e4925a94d9e487ba1548b"
      }
     },
     "metadata": {},
     "output_type": "display_data"
    },
    {
     "name": "stdout",
     "output_type": "stream",
     "text": [
      "Loss: 0.44814348220825195\n",
      "Mean_iou: 0.46537979736258145\n",
      "Mean accuracy: 0.543488183166071\n",
      "Epoch: 179\n"
     ]
    },
    {
     "data": {
      "text/plain": [
       "  0%|          | 0/5 [00:00<?, ?it/s]"
      ],
      "application/vnd.jupyter.widget-view+json": {
       "version_major": 2,
       "version_minor": 0,
       "model_id": "ac58e13400614a76b97b8f121feb7436"
      }
     },
     "metadata": {},
     "output_type": "display_data"
    },
    {
     "name": "stdout",
     "output_type": "stream",
     "text": [
      "Loss: 0.08585643768310547\n",
      "Mean_iou: 0.4115548906621532\n",
      "Mean accuracy: 0.7304014441154252\n",
      "Epoch: 180\n"
     ]
    },
    {
     "data": {
      "text/plain": [
       "  0%|          | 0/5 [00:00<?, ?it/s]"
      ],
      "application/vnd.jupyter.widget-view+json": {
       "version_major": 2,
       "version_minor": 0,
       "model_id": "ff1d6faca3de4946a8acfc324aa04fe0"
      }
     },
     "metadata": {},
     "output_type": "display_data"
    },
    {
     "name": "stdout",
     "output_type": "stream",
     "text": [
      "Loss: 0.2201114296913147\n",
      "Mean_iou: 0.6897129255022039\n",
      "Mean accuracy: 0.7207350782178011\n",
      "Epoch: 181\n"
     ]
    },
    {
     "data": {
      "text/plain": [
       "  0%|          | 0/5 [00:00<?, ?it/s]"
      ],
      "application/vnd.jupyter.widget-view+json": {
       "version_major": 2,
       "version_minor": 0,
       "model_id": "1560e9444c854956a56750dc53d11119"
      }
     },
     "metadata": {},
     "output_type": "display_data"
    },
    {
     "name": "stdout",
     "output_type": "stream",
     "text": [
      "Loss: 0.4156002998352051\n",
      "Mean_iou: 0.5208400429648334\n",
      "Mean accuracy: 0.5941493686918323\n",
      "Epoch: 182\n"
     ]
    },
    {
     "data": {
      "text/plain": [
       "  0%|          | 0/5 [00:00<?, ?it/s]"
      ],
      "application/vnd.jupyter.widget-view+json": {
       "version_major": 2,
       "version_minor": 0,
       "model_id": "2778037996154680a3249bcf0f1f3dc7"
      }
     },
     "metadata": {},
     "output_type": "display_data"
    },
    {
     "name": "stdout",
     "output_type": "stream",
     "text": [
      "Loss: 0.2675705552101135\n",
      "Mean_iou: 0.8653197351575241\n",
      "Mean accuracy: 0.8932250436597138\n",
      "Epoch: 183\n"
     ]
    },
    {
     "data": {
      "text/plain": [
       "  0%|          | 0/5 [00:00<?, ?it/s]"
      ],
      "application/vnd.jupyter.widget-view+json": {
       "version_major": 2,
       "version_minor": 0,
       "model_id": "80949cc231f644b49058d4ff4d4826c3"
      }
     },
     "metadata": {},
     "output_type": "display_data"
    },
    {
     "name": "stdout",
     "output_type": "stream",
     "text": [
      "Loss: 0.2640121281147003\n",
      "Mean_iou: 0.8945273441897924\n",
      "Mean accuracy: 0.9153404110506342\n",
      "Epoch: 184\n"
     ]
    },
    {
     "data": {
      "text/plain": [
       "  0%|          | 0/5 [00:00<?, ?it/s]"
      ],
      "application/vnd.jupyter.widget-view+json": {
       "version_major": 2,
       "version_minor": 0,
       "model_id": "bdff541c73fc4097bd5388d4141eb8c7"
      }
     },
     "metadata": {},
     "output_type": "display_data"
    },
    {
     "name": "stdout",
     "output_type": "stream",
     "text": [
      "Loss: 0.3843831717967987\n",
      "Mean_iou: 0.23745343238179675\n",
      "Mean accuracy: 0.3698682256059376\n",
      "Epoch: 185\n"
     ]
    },
    {
     "data": {
      "text/plain": [
       "  0%|          | 0/5 [00:00<?, ?it/s]"
      ],
      "application/vnd.jupyter.widget-view+json": {
       "version_major": 2,
       "version_minor": 0,
       "model_id": "74d80011df074c048049a01d96a1b915"
      }
     },
     "metadata": {},
     "output_type": "display_data"
    },
    {
     "name": "stdout",
     "output_type": "stream",
     "text": [
      "Loss: 0.39065825939178467\n",
      "Mean_iou: 0.3665060982692397\n",
      "Mean accuracy: 0.43375175661015897\n",
      "Epoch: 186\n"
     ]
    },
    {
     "data": {
      "text/plain": [
       "  0%|          | 0/5 [00:00<?, ?it/s]"
      ],
      "application/vnd.jupyter.widget-view+json": {
       "version_major": 2,
       "version_minor": 0,
       "model_id": "364e8a29ef9d43fcb171621ddf9a0c56"
      }
     },
     "metadata": {},
     "output_type": "display_data"
    },
    {
     "name": "stdout",
     "output_type": "stream",
     "text": [
      "Loss: 0.34031373262405396\n",
      "Mean_iou: 0.4763941473863523\n",
      "Mean accuracy: 0.607243003456283\n",
      "Epoch: 187\n"
     ]
    },
    {
     "data": {
      "text/plain": [
       "  0%|          | 0/5 [00:00<?, ?it/s]"
      ],
      "application/vnd.jupyter.widget-view+json": {
       "version_major": 2,
       "version_minor": 0,
       "model_id": "88cdf4db3fef421ca13ba9b8a7e5986c"
      }
     },
     "metadata": {},
     "output_type": "display_data"
    },
    {
     "name": "stdout",
     "output_type": "stream",
     "text": [
      "Loss: 0.18488875031471252\n",
      "Mean_iou: 0.5344470005101447\n",
      "Mean accuracy: 0.6258578349445105\n",
      "Epoch: 188\n"
     ]
    },
    {
     "data": {
      "text/plain": [
       "  0%|          | 0/5 [00:00<?, ?it/s]"
      ],
      "application/vnd.jupyter.widget-view+json": {
       "version_major": 2,
       "version_minor": 0,
       "model_id": "711c327f177042618b8988a2cab9e82c"
      }
     },
     "metadata": {},
     "output_type": "display_data"
    },
    {
     "name": "stdout",
     "output_type": "stream",
     "text": [
      "Loss: 0.2333388477563858\n",
      "Mean_iou: 0.551188708185949\n",
      "Mean accuracy: 0.7052992046101387\n",
      "Epoch: 189\n"
     ]
    },
    {
     "data": {
      "text/plain": [
       "  0%|          | 0/5 [00:00<?, ?it/s]"
      ],
      "application/vnd.jupyter.widget-view+json": {
       "version_major": 2,
       "version_minor": 0,
       "model_id": "0f7f3b6e219b4004b072599b3818107b"
      }
     },
     "metadata": {},
     "output_type": "display_data"
    },
    {
     "name": "stdout",
     "output_type": "stream",
     "text": [
      "Loss: 0.2665318548679352\n",
      "Mean_iou: 0.29518230293079656\n",
      "Mean accuracy: 0.5391435617848189\n",
      "Epoch: 190\n"
     ]
    },
    {
     "data": {
      "text/plain": [
       "  0%|          | 0/5 [00:00<?, ?it/s]"
      ],
      "application/vnd.jupyter.widget-view+json": {
       "version_major": 2,
       "version_minor": 0,
       "model_id": "4cac785966c64b0883f7c6ed6bc69413"
      }
     },
     "metadata": {},
     "output_type": "display_data"
    },
    {
     "name": "stdout",
     "output_type": "stream",
     "text": [
      "Loss: 0.3456737995147705\n",
      "Mean_iou: 0.5878691944301099\n",
      "Mean accuracy: 0.6871402999099855\n",
      "Epoch: 191\n"
     ]
    },
    {
     "data": {
      "text/plain": [
       "  0%|          | 0/5 [00:00<?, ?it/s]"
      ],
      "application/vnd.jupyter.widget-view+json": {
       "version_major": 2,
       "version_minor": 0,
       "model_id": "934332c8464240fa95e9ee9fc35b2dc4"
      }
     },
     "metadata": {},
     "output_type": "display_data"
    },
    {
     "name": "stdout",
     "output_type": "stream",
     "text": [
      "Loss: 0.4668964743614197\n",
      "Mean_iou: 0.4048825043990066\n",
      "Mean accuracy: 0.48710232618514154\n",
      "Epoch: 192\n"
     ]
    },
    {
     "data": {
      "text/plain": [
       "  0%|          | 0/5 [00:00<?, ?it/s]"
      ],
      "application/vnd.jupyter.widget-view+json": {
       "version_major": 2,
       "version_minor": 0,
       "model_id": "37b1273700af488ba6f98d4754d3b288"
      }
     },
     "metadata": {},
     "output_type": "display_data"
    },
    {
     "name": "stdout",
     "output_type": "stream",
     "text": [
      "Loss: 0.20023512840270996\n",
      "Mean_iou: 0.3656008274980223\n",
      "Mean accuracy: 0.6747392848898962\n",
      "Epoch: 193\n"
     ]
    },
    {
     "data": {
      "text/plain": [
       "  0%|          | 0/5 [00:00<?, ?it/s]"
      ],
      "application/vnd.jupyter.widget-view+json": {
       "version_major": 2,
       "version_minor": 0,
       "model_id": "8c39c9f0f0784eba9c61cd6e504b8a9c"
      }
     },
     "metadata": {},
     "output_type": "display_data"
    },
    {
     "name": "stdout",
     "output_type": "stream",
     "text": [
      "Loss: 0.27577099204063416\n",
      "Mean_iou: 0.694956459380918\n",
      "Mean accuracy: 0.7303692125404166\n",
      "Epoch: 194\n"
     ]
    },
    {
     "data": {
      "text/plain": [
       "  0%|          | 0/5 [00:00<?, ?it/s]"
      ],
      "application/vnd.jupyter.widget-view+json": {
       "version_major": 2,
       "version_minor": 0,
       "model_id": "dcb4d65aacfd4001b4c409ff6549b8f5"
      }
     },
     "metadata": {},
     "output_type": "display_data"
    },
    {
     "name": "stdout",
     "output_type": "stream",
     "text": [
      "Loss: 0.24247147142887115\n",
      "Mean_iou: 0.43086227231152424\n",
      "Mean accuracy: 0.6139636580843044\n",
      "Epoch: 195\n"
     ]
    },
    {
     "data": {
      "text/plain": [
       "  0%|          | 0/5 [00:00<?, ?it/s]"
      ],
      "application/vnd.jupyter.widget-view+json": {
       "version_major": 2,
       "version_minor": 0,
       "model_id": "b74be4c87019499bbc05eae7a4a7bd59"
      }
     },
     "metadata": {},
     "output_type": "display_data"
    },
    {
     "name": "stdout",
     "output_type": "stream",
     "text": [
      "Loss: 0.5315869450569153\n",
      "Mean_iou: 0.3500073587818358\n",
      "Mean accuracy: 0.41920684738868436\n",
      "Epoch: 196\n"
     ]
    },
    {
     "data": {
      "text/plain": [
       "  0%|          | 0/5 [00:00<?, ?it/s]"
      ],
      "application/vnd.jupyter.widget-view+json": {
       "version_major": 2,
       "version_minor": 0,
       "model_id": "8457618bd0cb441388c8a49e3ef934ad"
      }
     },
     "metadata": {},
     "output_type": "display_data"
    },
    {
     "name": "stdout",
     "output_type": "stream",
     "text": [
      "Loss: 0.15213045477867126\n",
      "Mean_iou: 0.8441410074551493\n",
      "Mean accuracy: 0.8565539931492344\n",
      "Epoch: 197\n"
     ]
    },
    {
     "data": {
      "text/plain": [
       "  0%|          | 0/5 [00:00<?, ?it/s]"
      ],
      "application/vnd.jupyter.widget-view+json": {
       "version_major": 2,
       "version_minor": 0,
       "model_id": "4a3b43cce9ea47a28d13c9869ff80d4d"
      }
     },
     "metadata": {},
     "output_type": "display_data"
    },
    {
     "name": "stdout",
     "output_type": "stream",
     "text": [
      "Loss: 0.3696749806404114\n",
      "Mean_iou: 0.2342431885717282\n",
      "Mean accuracy: 0.3274332491495888\n",
      "Epoch: 198\n"
     ]
    },
    {
     "data": {
      "text/plain": [
       "  0%|          | 0/5 [00:00<?, ?it/s]"
      ],
      "application/vnd.jupyter.widget-view+json": {
       "version_major": 2,
       "version_minor": 0,
       "model_id": "1e3a6c7e3c6e4b29b8ef85d44d5a9900"
      }
     },
     "metadata": {},
     "output_type": "display_data"
    },
    {
     "name": "stdout",
     "output_type": "stream",
     "text": [
      "Loss: 0.19265156984329224\n",
      "Mean_iou: 0.5284732098485677\n",
      "Mean accuracy: 0.7676328580085563\n",
      "Epoch: 199\n"
     ]
    },
    {
     "data": {
      "text/plain": [
       "  0%|          | 0/5 [00:00<?, ?it/s]"
      ],
      "application/vnd.jupyter.widget-view+json": {
       "version_major": 2,
       "version_minor": 0,
       "model_id": "ae1971fcf15747c69f1f2887976d25f6"
      }
     },
     "metadata": {},
     "output_type": "display_data"
    },
    {
     "name": "stdout",
     "output_type": "stream",
     "text": [
      "Loss: 0.29009243845939636\n",
      "Mean_iou: 0.6315478158407909\n",
      "Mean accuracy: 0.6796365869975663\n"
     ]
    }
   ],
   "execution_count": 19
  },
  {
   "cell_type": "code",
   "id": "5685afbc183ba0dc",
   "metadata": {
    "ExecuteTime": {
     "end_time": "2024-06-13T15:50:05.282522Z",
     "start_time": "2024-06-13T15:50:05.254610Z"
    }
   },
   "source": [
    "new_image = Image.open('/content/CustomDataSet/images/Training/0@0_2023-03-23_15-38-19-4410_Brick.jpg')\n",
    "new_image"
   ],
   "outputs": [],
   "execution_count": 19
  },
  {
   "cell_type": "code",
   "id": "e7f01fae597e2cae",
   "metadata": {
    "ExecuteTime": {
     "end_time": "2024-06-13T15:50:05.296350Z",
     "start_time": "2024-06-13T15:50:05.285507Z"
    }
   },
   "source": [
    "# prepare the image for the model\n",
    "pixel_values = new_image_processor(new_image, return_tensors=\"pt\").pixel_values.to(device)\n",
    "print(pixel_values.shape)\n",
    "     "
   ],
   "outputs": [],
   "execution_count": 19
  },
  {
   "metadata": {},
   "cell_type": "code",
   "outputs": [],
   "execution_count": null,
   "source": [
    "import torch\n",
    "\n",
    "# forward pass\n",
    "with torch.no_grad():\n",
    "  outputs = model(pixel_values=pixel_values)\n"
   ],
   "id": "2e2e6e6768358959"
  },
  {
   "metadata": {},
   "cell_type": "code",
   "outputs": [],
   "execution_count": null,
   "source": [
    "# logits are of shape (batch_size, num_labels, height/4, width/4)\n",
    "logits = outputs.logits.cpu()\n",
    "print(logits.shape)"
   ],
   "id": "70b6139f56a4ec11"
  },
  {
   "metadata": {},
   "cell_type": "code",
   "outputs": [],
   "execution_count": null,
   "source": [
    "def ade_palette():\n",
    "    \"\"\"ADE20K palette that maps each class to RGB values.\"\"\"\n",
    "    return [[198,117,58],[53,104,120],[204,125,6],[87,147,153],[0, 224, 192],[39, 188,102],[81, 185, 10],[68, 193, 117],[168,185,43]]\n"
   ],
   "id": "879d15e42ab9777b"
  },
  {
   "metadata": {},
   "cell_type": "code",
   "outputs": [],
   "execution_count": null,
   "source": [
    "predicted_segmentation_map = new_image_processor.post_process_semantic_segmentation(outputs, target_sizes=[new_image.size[::-1]])[0]\n",
    "predicted_segmentation_map = predicted_segmentation_map.cpu().numpy()\n",
    "print(predicted_segmentation_map)\n"
   ],
   "id": "f34277c00951df17"
  },
  {
   "metadata": {},
   "cell_type": "code",
   "outputs": [],
   "execution_count": null,
   "source": [
    "import matplotlib.pyplot as plt\n",
    "import numpy as np\n",
    "\n",
    "color_seg = np.zeros((predicted_segmentation_map.shape[0],\n",
    "                      predicted_segmentation_map.shape[1], 3), dtype=np.uint8) # height, width, 3\n",
    "\n",
    "palette = np.array(ade_palette())\n",
    "for label, color in enumerate(palette):\n",
    "    color_seg[predicted_segmentation_map == label, :] = color\n",
    "# Convert to BGR\n",
    "color_seg = color_seg[..., ::-1]\n",
    "\n",
    "# Show image + mask\n",
    "img = np.array(new_image) * 0.5 + color_seg * 0.5\n",
    "img = img.astype(np.uint8)\n",
    "\n",
    "plt.figure(figsize=(15, 10))\n",
    "plt.imshow(img)\n",
    "plt.show()\n",
    "     \n"
   ],
   "id": "ff663bd7dd131167"
  },
  {
   "metadata": {},
   "cell_type": "code",
   "outputs": [],
   "execution_count": null,
   "source": [
    "map = Image.open('/content/CustomDataSet/annotations/Training/0@0_2023-03-23_15-38-19-4410_Brick.png')\n",
    "map\n"
   ],
   "id": "3f66e0cc7cb354ab"
  },
  {
   "metadata": {},
   "cell_type": "code",
   "outputs": [],
   "execution_count": null,
   "source": [
    "# convert map to NumPy array\n",
    "map = np.array(map)\n",
    "map[map == 0] = 255 # background class is replaced by ignore_index\n",
    "map = map - 1 # other classes are reduced by one\n",
    "map[map == 254] = 255\n",
    "\n",
    "classes_map = np.unique(map).tolist()\n",
    "unique_classes = [model.config.id2label[idx] if idx!=255 else None for idx in classes_map]\n",
    "print(\"Classes in this image:\", unique_classes)\n",
    "\n",
    "# create coloured map\n",
    "color_seg = np.zeros((map.shape[0], map.shape[1], 3), dtype=np.uint8) # height, width, 3\n",
    "palette = np.array(ade_palette())\n",
    "for label, color in enumerate(palette):\n",
    "    color_seg[map == label, :] = color\n",
    "# Convert to BGR\n",
    "color_seg = color_seg[..., ::-1]\n",
    "\n",
    "# Show image + mask\n",
    "img = np.array(new_image) * 0.5 + color_seg * 0.5\n",
    "img = img.astype(np.uint8)\n",
    "\n",
    "plt.figure(figsize=(15, 10))\n",
    "plt.imshow(img)\n",
    "plt.show()"
   ],
   "id": "ab3089e808a1d468"
  },
  {
   "metadata": {},
   "cell_type": "code",
   "outputs": [],
   "execution_count": null,
   "source": [
    "# metric expects a list of numpy arrays for both predictions and references\n",
    "metrics = metric._compute(\n",
    "                  predictions=[predicted_segmentation_map],\n",
    "                  references=[map],\n",
    "                  num_labels=len(id2label),\n",
    "                  ignore_index=255,\n",
    "                  reduce_labels=False, # we've already reduced the labels ourselves\n",
    "              )"
   ],
   "id": "3e62e0a9fae0a5a"
  },
  {
   "metadata": {},
   "cell_type": "code",
   "outputs": [],
   "execution_count": null,
   "source": "metrics.keys()\n",
   "id": "86b2963f6a046cef"
  },
  {
   "metadata": {},
   "cell_type": "code",
   "outputs": [],
   "execution_count": null,
   "source": [
    "import pandas as pd\n",
    "\n",
    "# print overall metrics\n",
    "for key in list(metrics.keys())[:3]:\n",
    "  print(key, metrics[key])\n",
    "\n",
    "# pretty-print per category metrics as Pandas DataFrame\n",
    "metric_table = dict()\n",
    "for new_id, label in id2label.items():\n",
    "    metric_table[label] = [\n",
    "                           metrics[\"per_category_iou\"][id],\n",
    "                           metrics[\"per_category_accuracy\"][id]\n",
    "    ]\n",
    "\n",
    "print(\"---------------------\")\n",
    "print(\"per-category metrics:\")\n",
    "pd.DataFrame.from_dict(metric_table, orient=\"index\", columns=[\"IoU\", \"accuracy\"])"
   ],
   "id": "a8bb0361dd529fdf"
  }
 ],
 "metadata": {
  "kernelspec": {
   "display_name": "Python 3",
   "language": "python",
   "name": "python3"
  },
  "language_info": {
   "codemirror_mode": {
    "name": "ipython",
    "version": 2
   },
   "file_extension": ".py",
   "mimetype": "text/x-python",
   "name": "python",
   "nbconvert_exporter": "python",
   "pygments_lexer": "ipython2",
   "version": "2.7.6"
  }
 },
 "nbformat": 4,
 "nbformat_minor": 5
}
